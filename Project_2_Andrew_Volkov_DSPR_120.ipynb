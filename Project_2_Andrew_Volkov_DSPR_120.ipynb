{
  "cells": [
    {
      "cell_type": "markdown",
      "id": "42289889-bd57-434e-9637-d3e354756316",
      "metadata": {
        "id": "42289889-bd57-434e-9637-d3e354756316"
      },
      "source": [
        "<center> <img src = https://raw.githubusercontent.com/AndreyRysistov/DatasetsForPandas/main/hh%20label.jpg alt=\"drawing\" style=\"width:400px;\">"
      ]
    },
    {
      "cell_type": "markdown",
      "id": "829cb75b-f14e-4ba8-9195-7ba929a7d656",
      "metadata": {
        "id": "829cb75b-f14e-4ba8-9195-7ba929a7d656",
        "tags": []
      },
      "source": [
        "# <center> Проект: Анализ вакансий из HeadHunter\n",
        "   "
      ]
    },
    {
      "cell_type": "code",
      "execution_count": 1,
      "id": "dccfde33-2452-43fb-a8a5-5c6ebc02a71d",
      "metadata": {
        "id": "dccfde33-2452-43fb-a8a5-5c6ebc02a71d"
      },
      "outputs": [
        {
          "data": {
            "text/html": [
              "        <script type=\"text/javascript\">\n",
              "        window.PlotlyConfig = {MathJaxConfig: 'local'};\n",
              "        if (window.MathJax && window.MathJax.Hub && window.MathJax.Hub.Config) {window.MathJax.Hub.Config({SVG: {font: \"STIX-Web\"}});}\n",
              "        if (typeof require !== 'undefined') {\n",
              "        require.undef(\"plotly\");\n",
              "        requirejs.config({\n",
              "            paths: {\n",
              "                'plotly': ['https://cdn.plot.ly/plotly-2.16.1.min']\n",
              "            }\n",
              "        });\n",
              "        require(['plotly'], function(Plotly) {\n",
              "            window._Plotly = Plotly;\n",
              "        });\n",
              "        }\n",
              "        </script>\n",
              "        "
            ]
          },
          "metadata": {},
          "output_type": "display_data"
        }
      ],
      "source": [
        "# Данная библиотека импортируется ИСКЛЮЧИТЕЛЬНО для возможности отображения графиков через\n",
        "# https://nbviewer.org/ Jupyter Notebook. Для действий над данными, НЕ ИСПОЛЬЗУЕТСЯ!!!\n",
        "from plotly.offline import plot, iplot, init_notebook_mode\n",
        "init_notebook_mode(connected=True)\n",
        "\n",
        "import plotly.express as px\n",
        "import plotly.graph_objects as go\n",
        "\n",
        "import sqlalchemy\n",
        "from sqlalchemy.sql import text\n",
        "import pandas as pd\n",
        "\n",
        "import requests\n",
        "from bs4 import BeautifulSoup\n",
        "\n",
        "# Данная библиотека импортируется ИСКЛЮЧИТЕЛЬНО для возможности отображения графиков через\n",
        "# https://nbviewer.org/ Jupyter Notebook. Для действий над данными, НЕ ИСПОЛЬЗУЕТСЯ!!!\n",
        "import plotly.io as pio\n"
      ]
    },
    {
      "cell_type": "code",
      "execution_count": 2,
      "id": "oVKH4ehvf8Ay",
      "metadata": {
        "id": "oVKH4ehvf8Ay"
      },
      "outputs": [],
      "source": [
        "DBNAME = ''\n",
        "USER = ''\n",
        "PASSWORD = ''\n",
        "HOST = ''\n",
        "PORT = "
      ]
    },
    {
      "cell_type": "code",
      "execution_count": 3,
      "id": "a6ac2c0d",
      "metadata": {},
      "outputs": [],
      "source": [
        "url = f'postgresql+psycopg2://{USER}:{PASSWORD}@{HOST}:{PORT}/{DBNAME}'\n",
        "engine = sqlalchemy.create_engine(url)"
      ]
    },
    {
      "cell_type": "markdown",
      "id": "0dc6476b-7a00-44f1-ac93-6e3baed33a29",
      "metadata": {
        "id": "0dc6476b-7a00-44f1-ac93-6e3baed33a29"
      },
      "source": [
        "# Юнит 3. Предварительный анализ данных"
      ]
    },
    {
      "cell_type": "markdown",
      "id": "889782b6-8d1c-410e-8920-e57f27917c64",
      "metadata": {
        "id": "889782b6-8d1c-410e-8920-e57f27917c64"
      },
      "source": [
        "Небольшая оптимизация кода, а именно написание дополнительных функций с целью добиться уменьшения кода и удобство в его читании"
      ]
    },
    {
      "cell_type": "code",
      "execution_count": 4,
      "id": "bc39e68e-ed02-4ee2-9235-7258a2f867a8",
      "metadata": {
        "id": "bc39e68e-ed02-4ee2-9235-7258a2f867a8"
      },
      "outputs": [],
      "source": [
        "# Учитывая, что часто будет выполнятся такое действие, \n",
        "# как выполнение запроса, напишем функцию для этого \n",
        "\n",
        "def sqlExecution(sql):\n",
        "  \"\"\"_summary_\n",
        "  Выполняем SQL запрос\n",
        "  Args:\n",
        "      sql (sql): Строковая переменная содержащая SQL запрос\n",
        "\n",
        "  Returns:\n",
        "      Pandas DataFrame: Возвращает результат выполнения запроса\n",
        "  \"\"\"\n",
        "  with engine.connect().execution_options(autocommit=True) as conn:\n",
        "    return pd.read_sql(sql, con = conn)\n",
        "\n",
        "# Учитывая что все 4 последующих запроса для юнита 3 структурно идентичны, \n",
        "# и будет менятся только таблица из которой будет происходить выборка\n",
        "# чтобы не писать каждый раз новый запрос, напишем функцию, \n",
        "# где входным параметром будет название таблицы, и возвращать функция будет количество записей \n",
        "\n",
        "def countIdRecords(table) -> int:\n",
        "  \"\"\"_summary_\n",
        "  Функция возвращает количество записей в таблице\n",
        "\n",
        "  Args:\n",
        "      table (string): название таблицы\n",
        "\n",
        "  Returns:\n",
        "      int: количество записей\n",
        "  \"\"\"\n",
        "  sql = f'''\n",
        "    SELECT \n",
        "      count(*) as {table}_count \n",
        "    FROM public.{table};\n",
        "  '''\n",
        "  return sqlExecution(sql).iloc[0,0]"
      ]
    },
    {
      "cell_type": "markdown",
      "id": "cc002ef0",
      "metadata": {},
      "source": [
        "***\n",
        "1. Напишите запрос, который посчитает количество вакансий в нашей базе (вакансии находятся в таблице vacancies). "
      ]
    },
    {
      "cell_type": "code",
      "execution_count": 5,
      "id": "7mAwtsk4hEHY",
      "metadata": {
        "id": "7mAwtsk4hEHY"
      },
      "outputs": [
        {
          "data": {
            "text/plain": [
              "49197"
            ]
          },
          "execution_count": 5,
          "metadata": {},
          "output_type": "execute_result"
        }
      ],
      "source": [
        "# результат запроса\n",
        "# Для таблицы Vacancies количество записей равно :\n",
        "countIdRecords('vacancies')"
      ]
    },
    {
      "cell_type": "markdown",
      "id": "b583485d-1f9e-494e-ada4-80ffff7c53d6",
      "metadata": {
        "id": "b583485d-1f9e-494e-ada4-80ffff7c53d6"
      },
      "source": [
        "***\n",
        "2. Напишите запрос, который посчитает количество работодателей (таблица employers). "
      ]
    },
    {
      "cell_type": "code",
      "execution_count": 6,
      "id": "5408c52c-3407-4a63-b25b-1aafa2322d28",
      "metadata": {
        "id": "5408c52c-3407-4a63-b25b-1aafa2322d28"
      },
      "outputs": [
        {
          "data": {
            "text/plain": [
              "23501"
            ]
          },
          "metadata": {},
          "output_type": "display_data"
        }
      ],
      "source": [
        "# результат запроса\n",
        "# Для таблицы Employers количество записей равно :\n",
        "display(countIdRecords('employers'))"
      ]
    },
    {
      "cell_type": "markdown",
      "id": "f2e0cc74",
      "metadata": {},
      "source": [
        "***\n",
        "3. Посчитайте с помощью запроса количество регионов (таблица areas). "
      ]
    },
    {
      "cell_type": "code",
      "execution_count": 7,
      "id": "1m8QJwBYhey6",
      "metadata": {
        "id": "1m8QJwBYhey6"
      },
      "outputs": [
        {
          "data": {
            "text/plain": [
              "1362"
            ]
          },
          "metadata": {},
          "output_type": "display_data"
        }
      ],
      "source": [
        "# результат запроса\n",
        "# Для таблицы Areas количество записей равно :\n",
        "display(countIdRecords('areas'))"
      ]
    },
    {
      "cell_type": "markdown",
      "id": "41bb59f3-53cc-4a67-a5bc-bedf573955e4",
      "metadata": {
        "id": "41bb59f3-53cc-4a67-a5bc-bedf573955e4"
      },
      "source": [
        "***\n",
        "4. Посчитайте с помощью запроса количество сфер деятельности в базе (таблица industries)."
      ]
    },
    {
      "cell_type": "code",
      "execution_count": 8,
      "id": "d286cf4c-707b-4cd2-9190-7ab3587d04a1",
      "metadata": {
        "id": "d286cf4c-707b-4cd2-9190-7ab3587d04a1"
      },
      "outputs": [
        {
          "data": {
            "text/plain": [
              "294"
            ]
          },
          "metadata": {},
          "output_type": "display_data"
        }
      ],
      "source": [
        "# результат запроса\n",
        "# Для таблицы Industries количество записей равно :\n",
        "display(countIdRecords('industries'))"
      ]
    },
    {
      "cell_type": "markdown",
      "id": "9a8a2181-6914-448b-85f1-38f5f18b8a93",
      "metadata": {
        "id": "9a8a2181-6914-448b-85f1-38f5f18b8a93"
      },
      "source": [
        "***"
      ]
    },
    {
      "cell_type": "markdown",
      "id": "be4e9bd3-a4db-4a20-82fb-6b02fc2957e0",
      "metadata": {
        "id": "be4e9bd3-a4db-4a20-82fb-6b02fc2957e0"
      },
      "source": [
        "### Выводы для предварительного анализа\n",
        "\n",
        "Первоначальный взгляд на таблицы базы данных project_sql показал нам, что мы имеем дело с:\n",
        "1. около 50к вакансий\n",
        "2. 23.5к работодателей\n",
        "3. Работа может предлагаться в 1362 городах, столько городов имеется в базе\n",
        "4. И работа может быть представлена в 294 различных сферах\n",
        "\n",
        "Без сравнения с другими базами вакансий тяжело сказать, относится ли данная база HH.RU к большим базам или нет. Одно можно сказать точно, она не маленькая.\n",
        "***\n"
      ]
    },
    {
      "cell_type": "markdown",
      "id": "8d62a9f3-f64e-4fe7-bdac-c4dffa16155e",
      "metadata": {
        "id": "8d62a9f3-f64e-4fe7-bdac-c4dffa16155e"
      },
      "source": [
        "# Юнит 4. Детальный анализ вакансий"
      ]
    },
    {
      "cell_type": "markdown",
      "id": "93053d3d-b284-481a-9cf7-012d7014c0e0",
      "metadata": {
        "id": "93053d3d-b284-481a-9cf7-012d7014c0e0"
      },
      "source": [
        "1. Напишите запрос, который позволит узнать, сколько (cnt) вакансий в каждом регионе (area).\n",
        "Отсортируйте по количеству вакансий в порядке убывания."
      ]
    },
    {
      "cell_type": "code",
      "execution_count": 9,
      "id": "3f069da6-fdc9-4ae7-b514-fafe2675efd3",
      "metadata": {
        "id": "3f069da6-fdc9-4ae7-b514-fafe2675efd3"
      },
      "outputs": [],
      "source": [
        "sql_u4_1 = f'''\n",
        "    SELECT \n",
        "      a.name as area\n",
        "      ,count(*) as cnt \n",
        "    FROM public.areas as a\n",
        "    INNER JOIN public.vacancies as v on a.id = v.area_id\n",
        "    GROUP by a.name\n",
        "    ORDER by cnt desc\n",
        "    LIMIT 5\n",
        "    ;\n",
        "  '''\n"
      ]
    },
    {
      "cell_type": "code",
      "execution_count": 10,
      "id": "P7QL86hrjhRJ",
      "metadata": {
        "id": "P7QL86hrjhRJ"
      },
      "outputs": [
        {
          "data": {
            "text/html": [
              "<div>\n",
              "<style scoped>\n",
              "    .dataframe tbody tr th:only-of-type {\n",
              "        vertical-align: middle;\n",
              "    }\n",
              "\n",
              "    .dataframe tbody tr th {\n",
              "        vertical-align: top;\n",
              "    }\n",
              "\n",
              "    .dataframe thead th {\n",
              "        text-align: right;\n",
              "    }\n",
              "</style>\n",
              "<table border=\"1\" class=\"dataframe\">\n",
              "  <thead>\n",
              "    <tr style=\"text-align: right;\">\n",
              "      <th></th>\n",
              "      <th>area</th>\n",
              "      <th>cnt</th>\n",
              "    </tr>\n",
              "  </thead>\n",
              "  <tbody>\n",
              "    <tr>\n",
              "      <th>0</th>\n",
              "      <td>Москва</td>\n",
              "      <td>5333</td>\n",
              "    </tr>\n",
              "    <tr>\n",
              "      <th>1</th>\n",
              "      <td>Санкт-Петербург</td>\n",
              "      <td>2851</td>\n",
              "    </tr>\n",
              "    <tr>\n",
              "      <th>2</th>\n",
              "      <td>Минск</td>\n",
              "      <td>2112</td>\n",
              "    </tr>\n",
              "    <tr>\n",
              "      <th>3</th>\n",
              "      <td>Новосибирск</td>\n",
              "      <td>2006</td>\n",
              "    </tr>\n",
              "    <tr>\n",
              "      <th>4</th>\n",
              "      <td>Алматы</td>\n",
              "      <td>1892</td>\n",
              "    </tr>\n",
              "  </tbody>\n",
              "</table>\n",
              "</div>"
            ],
            "text/plain": [
              "              area   cnt\n",
              "0           Москва  5333\n",
              "1  Санкт-Петербург  2851\n",
              "2            Минск  2112\n",
              "3      Новосибирск  2006\n",
              "4           Алматы  1892"
            ]
          },
          "metadata": {},
          "output_type": "display_data"
        }
      ],
      "source": [
        "display(sqlExecution(sql_u4_1))"
      ]
    },
    {
      "cell_type": "markdown",
      "id": "4266f0b6-1646-492a-88b4-2f6a46502135",
      "metadata": {
        "id": "4266f0b6-1646-492a-88b4-2f6a46502135"
      },
      "source": [
        "***\n",
        "2. Напишите запрос, чтобы определить у какого количества вакансий заполнено хотя бы одно из двух полей с зарплатой."
      ]
    },
    {
      "cell_type": "code",
      "execution_count": 11,
      "id": "0c44b350-72eb-4d65-8b54-a1fc449ba9fd",
      "metadata": {
        "id": "0c44b350-72eb-4d65-8b54-a1fc449ba9fd"
      },
      "outputs": [],
      "source": [
        "sql_u4_2 = f'''\n",
        "    SELECT \n",
        "        count(*) as cnt\n",
        "    FROM public.vacancies as v\n",
        "    WHERE v.salary_from is not null \n",
        "        or v.salary_to is not null  \n",
        "    ;\n",
        "  '''"
      ]
    },
    {
      "cell_type": "code",
      "execution_count": 12,
      "id": "rhvwaMDkoWTi",
      "metadata": {
        "id": "rhvwaMDkoWTi"
      },
      "outputs": [
        {
          "data": {
            "text/html": [
              "<div>\n",
              "<style scoped>\n",
              "    .dataframe tbody tr th:only-of-type {\n",
              "        vertical-align: middle;\n",
              "    }\n",
              "\n",
              "    .dataframe tbody tr th {\n",
              "        vertical-align: top;\n",
              "    }\n",
              "\n",
              "    .dataframe thead th {\n",
              "        text-align: right;\n",
              "    }\n",
              "</style>\n",
              "<table border=\"1\" class=\"dataframe\">\n",
              "  <thead>\n",
              "    <tr style=\"text-align: right;\">\n",
              "      <th></th>\n",
              "      <th>cnt</th>\n",
              "    </tr>\n",
              "  </thead>\n",
              "  <tbody>\n",
              "    <tr>\n",
              "      <th>0</th>\n",
              "      <td>24073</td>\n",
              "    </tr>\n",
              "  </tbody>\n",
              "</table>\n",
              "</div>"
            ],
            "text/plain": [
              "     cnt\n",
              "0  24073"
            ]
          },
          "metadata": {},
          "output_type": "display_data"
        }
      ],
      "source": [
        "display(sqlExecution(sql_u4_2))"
      ]
    },
    {
      "cell_type": "markdown",
      "id": "635c4d5d-f323-4c66-b428-50a088120aa0",
      "metadata": {
        "id": "635c4d5d-f323-4c66-b428-50a088120aa0"
      },
      "source": [
        "***\n",
        "3. Найдите средние значения для нижней и верхней границы зарплатной вилки. Округлите значения до целого."
      ]
    },
    {
      "cell_type": "code",
      "execution_count": 13,
      "id": "603cdbe4-0ec3-4106-8eaf-c73fcdd29165",
      "metadata": {
        "id": "603cdbe4-0ec3-4106-8eaf-c73fcdd29165"
      },
      "outputs": [],
      "source": [
        "sql_u4_3 = f'''\n",
        "    SELECT \n",
        "        avg(salary_from) as avg_salary_from\n",
        "        ,avg(salary_to) as avg_salary_to\n",
        "    FROM public.vacancies as v\n",
        "    ;\n",
        "  '''"
      ]
    },
    {
      "cell_type": "code",
      "execution_count": 14,
      "id": "pswpAb66ovZZ",
      "metadata": {
        "id": "pswpAb66ovZZ"
      },
      "outputs": [
        {
          "data": {
            "text/html": [
              "<div>\n",
              "<style scoped>\n",
              "    .dataframe tbody tr th:only-of-type {\n",
              "        vertical-align: middle;\n",
              "    }\n",
              "\n",
              "    .dataframe tbody tr th {\n",
              "        vertical-align: top;\n",
              "    }\n",
              "\n",
              "    .dataframe thead th {\n",
              "        text-align: right;\n",
              "    }\n",
              "</style>\n",
              "<table border=\"1\" class=\"dataframe\">\n",
              "  <thead>\n",
              "    <tr style=\"text-align: right;\">\n",
              "      <th></th>\n",
              "      <th>avg_salary_from</th>\n",
              "      <th>avg_salary_to</th>\n",
              "    </tr>\n",
              "  </thead>\n",
              "  <tbody>\n",
              "    <tr>\n",
              "      <th>0</th>\n",
              "      <td>71065.0</td>\n",
              "      <td>110537.0</td>\n",
              "    </tr>\n",
              "  </tbody>\n",
              "</table>\n",
              "</div>"
            ],
            "text/plain": [
              "   avg_salary_from  avg_salary_to\n",
              "0          71065.0       110537.0"
            ]
          },
          "metadata": {},
          "output_type": "display_data"
        }
      ],
      "source": [
        "display(sqlExecution(sql_u4_3).round())"
      ]
    },
    {
      "cell_type": "markdown",
      "id": "f3fdaec9-5fd3-4260-9cf5-1d7406b628a5",
      "metadata": {
        "id": "f3fdaec9-5fd3-4260-9cf5-1d7406b628a5"
      },
      "source": [
        "***\n",
        "4. Напишите запрос, который выведет количество вакансий для каждого сочетания типа рабочего графика (schedule) и типа трудоустройства (employment), используемого в вакансиях. Результат отсортируйте по убыванию количества.\n"
      ]
    },
    {
      "cell_type": "code",
      "execution_count": 15,
      "id": "1ea710ec-871b-431e-9462-c7d0fd87011b",
      "metadata": {
        "id": "1ea710ec-871b-431e-9462-c7d0fd87011b"
      },
      "outputs": [],
      "source": [
        "sql_u4_4 = f'''\n",
        "    SELECT \n",
        "        v.schedule\n",
        "        ,v.employment\n",
        "        ,count(*) as vacancies_count\n",
        "    FROM public.vacancies as v\n",
        "    GROUP by v.schedule, v.employment\n",
        "    ORDER by vacancies_count desc\n",
        "    ;\n",
        "  '''"
      ]
    },
    {
      "cell_type": "code",
      "execution_count": 16,
      "id": "lGUVqavdo4JQ",
      "metadata": {
        "id": "lGUVqavdo4JQ"
      },
      "outputs": [
        {
          "data": {
            "text/html": [
              "<div>\n",
              "<style scoped>\n",
              "    .dataframe tbody tr th:only-of-type {\n",
              "        vertical-align: middle;\n",
              "    }\n",
              "\n",
              "    .dataframe tbody tr th {\n",
              "        vertical-align: top;\n",
              "    }\n",
              "\n",
              "    .dataframe thead th {\n",
              "        text-align: right;\n",
              "    }\n",
              "</style>\n",
              "<table border=\"1\" class=\"dataframe\">\n",
              "  <thead>\n",
              "    <tr style=\"text-align: right;\">\n",
              "      <th></th>\n",
              "      <th>schedule</th>\n",
              "      <th>employment</th>\n",
              "      <th>vacancies_count</th>\n",
              "    </tr>\n",
              "  </thead>\n",
              "  <tbody>\n",
              "    <tr>\n",
              "      <th>0</th>\n",
              "      <td>Полный день</td>\n",
              "      <td>Полная занятость</td>\n",
              "      <td>35367</td>\n",
              "    </tr>\n",
              "    <tr>\n",
              "      <th>1</th>\n",
              "      <td>Удаленная работа</td>\n",
              "      <td>Полная занятость</td>\n",
              "      <td>7802</td>\n",
              "    </tr>\n",
              "    <tr>\n",
              "      <th>2</th>\n",
              "      <td>Гибкий график</td>\n",
              "      <td>Полная занятость</td>\n",
              "      <td>1593</td>\n",
              "    </tr>\n",
              "    <tr>\n",
              "      <th>3</th>\n",
              "      <td>Удаленная работа</td>\n",
              "      <td>Частичная занятость</td>\n",
              "      <td>1312</td>\n",
              "    </tr>\n",
              "    <tr>\n",
              "      <th>4</th>\n",
              "      <td>Сменный график</td>\n",
              "      <td>Полная занятость</td>\n",
              "      <td>940</td>\n",
              "    </tr>\n",
              "    <tr>\n",
              "      <th>5</th>\n",
              "      <td>Полный день</td>\n",
              "      <td>Стажировка</td>\n",
              "      <td>569</td>\n",
              "    </tr>\n",
              "    <tr>\n",
              "      <th>6</th>\n",
              "      <td>Вахтовый метод</td>\n",
              "      <td>Полная занятость</td>\n",
              "      <td>367</td>\n",
              "    </tr>\n",
              "    <tr>\n",
              "      <th>7</th>\n",
              "      <td>Полный день</td>\n",
              "      <td>Частичная занятость</td>\n",
              "      <td>347</td>\n",
              "    </tr>\n",
              "    <tr>\n",
              "      <th>8</th>\n",
              "      <td>Гибкий график</td>\n",
              "      <td>Частичная занятость</td>\n",
              "      <td>312</td>\n",
              "    </tr>\n",
              "    <tr>\n",
              "      <th>9</th>\n",
              "      <td>Полный день</td>\n",
              "      <td>Проектная работа</td>\n",
              "      <td>141</td>\n",
              "    </tr>\n",
              "    <tr>\n",
              "      <th>10</th>\n",
              "      <td>Удаленная работа</td>\n",
              "      <td>Проектная работа</td>\n",
              "      <td>133</td>\n",
              "    </tr>\n",
              "    <tr>\n",
              "      <th>11</th>\n",
              "      <td>Гибкий график</td>\n",
              "      <td>Стажировка</td>\n",
              "      <td>116</td>\n",
              "    </tr>\n",
              "    <tr>\n",
              "      <th>12</th>\n",
              "      <td>Сменный график</td>\n",
              "      <td>Частичная занятость</td>\n",
              "      <td>101</td>\n",
              "    </tr>\n",
              "    <tr>\n",
              "      <th>13</th>\n",
              "      <td>Удаленная работа</td>\n",
              "      <td>Стажировка</td>\n",
              "      <td>64</td>\n",
              "    </tr>\n",
              "    <tr>\n",
              "      <th>14</th>\n",
              "      <td>Гибкий график</td>\n",
              "      <td>Проектная работа</td>\n",
              "      <td>18</td>\n",
              "    </tr>\n",
              "    <tr>\n",
              "      <th>15</th>\n",
              "      <td>Сменный график</td>\n",
              "      <td>Стажировка</td>\n",
              "      <td>12</td>\n",
              "    </tr>\n",
              "    <tr>\n",
              "      <th>16</th>\n",
              "      <td>Вахтовый метод</td>\n",
              "      <td>Проектная работа</td>\n",
              "      <td>2</td>\n",
              "    </tr>\n",
              "    <tr>\n",
              "      <th>17</th>\n",
              "      <td>Сменный график</td>\n",
              "      <td>Проектная работа</td>\n",
              "      <td>1</td>\n",
              "    </tr>\n",
              "  </tbody>\n",
              "</table>\n",
              "</div>"
            ],
            "text/plain": [
              "            schedule           employment  vacancies_count\n",
              "0        Полный день     Полная занятость            35367\n",
              "1   Удаленная работа     Полная занятость             7802\n",
              "2      Гибкий график     Полная занятость             1593\n",
              "3   Удаленная работа  Частичная занятость             1312\n",
              "4     Сменный график     Полная занятость              940\n",
              "5        Полный день           Стажировка              569\n",
              "6     Вахтовый метод     Полная занятость              367\n",
              "7        Полный день  Частичная занятость              347\n",
              "8      Гибкий график  Частичная занятость              312\n",
              "9        Полный день     Проектная работа              141\n",
              "10  Удаленная работа     Проектная работа              133\n",
              "11     Гибкий график           Стажировка              116\n",
              "12    Сменный график  Частичная занятость              101\n",
              "13  Удаленная работа           Стажировка               64\n",
              "14     Гибкий график     Проектная работа               18\n",
              "15    Сменный график           Стажировка               12\n",
              "16    Вахтовый метод     Проектная работа                2\n",
              "17    Сменный график     Проектная работа                1"
            ]
          },
          "metadata": {},
          "output_type": "display_data"
        }
      ],
      "source": [
        "display(sqlExecution(sql_u4_4))"
      ]
    },
    {
      "cell_type": "markdown",
      "id": "0136ffee-0ead-4a6b-b608-61d1c753a438",
      "metadata": {
        "id": "0136ffee-0ead-4a6b-b608-61d1c753a438"
      },
      "source": [
        "***\n",
        "5. Напишите запрос, выводящий значения поля Требуемый опыт работы (experience) в порядке возрастания количества вакансий, в которых указан данный вариант опыта. "
      ]
    },
    {
      "cell_type": "code",
      "execution_count": 17,
      "id": "5b3a8e79-f7ab-4008-b767-12aea3a205ea",
      "metadata": {
        "id": "5b3a8e79-f7ab-4008-b767-12aea3a205ea"
      },
      "outputs": [],
      "source": [
        "sql_u4_5 = f'''\n",
        "    SELECT \n",
        "        v.experience\n",
        "        ,count(*) as vacancies_count\n",
        "    FROM public.vacancies as v\n",
        "    GROUP by v.experience\n",
        "    ORDER by vacancies_count asc\n",
        "    ;\n",
        "  '''"
      ]
    },
    {
      "cell_type": "code",
      "execution_count": 18,
      "id": "3Is64Y-hpDpq",
      "metadata": {
        "id": "3Is64Y-hpDpq"
      },
      "outputs": [
        {
          "data": {
            "text/html": [
              "<div>\n",
              "<style scoped>\n",
              "    .dataframe tbody tr th:only-of-type {\n",
              "        vertical-align: middle;\n",
              "    }\n",
              "\n",
              "    .dataframe tbody tr th {\n",
              "        vertical-align: top;\n",
              "    }\n",
              "\n",
              "    .dataframe thead th {\n",
              "        text-align: right;\n",
              "    }\n",
              "</style>\n",
              "<table border=\"1\" class=\"dataframe\">\n",
              "  <thead>\n",
              "    <tr style=\"text-align: right;\">\n",
              "      <th></th>\n",
              "      <th>experience</th>\n",
              "      <th>vacancies_count</th>\n",
              "    </tr>\n",
              "  </thead>\n",
              "  <tbody>\n",
              "    <tr>\n",
              "      <th>0</th>\n",
              "      <td>Более 6 лет</td>\n",
              "      <td>1337</td>\n",
              "    </tr>\n",
              "    <tr>\n",
              "      <th>1</th>\n",
              "      <td>Нет опыта</td>\n",
              "      <td>7197</td>\n",
              "    </tr>\n",
              "    <tr>\n",
              "      <th>2</th>\n",
              "      <td>От 3 до 6 лет</td>\n",
              "      <td>14511</td>\n",
              "    </tr>\n",
              "    <tr>\n",
              "      <th>3</th>\n",
              "      <td>От 1 года до 3 лет</td>\n",
              "      <td>26152</td>\n",
              "    </tr>\n",
              "  </tbody>\n",
              "</table>\n",
              "</div>"
            ],
            "text/plain": [
              "           experience  vacancies_count\n",
              "0         Более 6 лет             1337\n",
              "1           Нет опыта             7197\n",
              "2       От 3 до 6 лет            14511\n",
              "3  От 1 года до 3 лет            26152"
            ]
          },
          "metadata": {},
          "output_type": "display_data"
        }
      ],
      "source": [
        "display(sqlExecution(sql_u4_5))"
      ]
    },
    {
      "cell_type": "markdown",
      "id": "oq2b7n1QpIka",
      "metadata": {
        "id": "oq2b7n1QpIka"
      },
      "source": [
        "***"
      ]
    },
    {
      "cell_type": "markdown",
      "id": "e91f87ed-e25c-4f96-9f92-b642e8c0b4fa",
      "metadata": {
        "id": "e91f87ed-e25c-4f96-9f92-b642e8c0b4fa"
      },
      "source": [
        "### Выводы для детального анализа вакансий\n",
        "\n",
        "Наибольшее количество предлагаемых ваканский относится к крупным городам.\n",
        "1. Наибольшее количество предложений по работе в Москве - 5333 вакансии, далее следуют Санкт-Петербург, Минск, Новосибирск, Алматы с 2851, 2112, 2006 и 1892 вакансий соотвественно.\n",
        "Чем больше город, тем больше предложений по работе. \n",
        "Так же можем отметить, что предложения по работам не только на территории России, но также и других государств.\n",
        "2. Средняя предлагаемая зарплата находится в диапазоне 71065 - 110537 Российских рублей (при учитывании только вакансий с указанными данными по зарплате, так как только у 24073 вакансий из 50К указано как минимум одно из полей мин. или макс. предлагаемой зарплаты)\n",
        "3. Наибольшее количество предложений по работе предполагают Полную занятость и Полный рабочий день - 35367, на втором месте с большим отрывом идет Полный рабочий день и Удаленная работа - 7802 вакансии\n",
        "4. Наименее редкое предложение для потенциальных кндидатов иметь опыт работы более 6 лет - 1337 вакансий, наибольшее от 1 года до  лет, и составляет 26152 вакансии. Также для людей совсем без опыта приходится 7197 вакансий.\n",
        "\n",
        "***"
      ]
    },
    {
      "cell_type": "markdown",
      "id": "7ea20ab6-04a7-40a0-adec-443a0e5a42c3",
      "metadata": {
        "id": "7ea20ab6-04a7-40a0-adec-443a0e5a42c3"
      },
      "source": [
        "# Юнит 5. Анализ работодателей"
      ]
    },
    {
      "cell_type": "markdown",
      "id": "968aed80-74ef-4ffb-b5bf-c65b84e9caea",
      "metadata": {
        "id": "968aed80-74ef-4ffb-b5bf-c65b84e9caea"
      },
      "source": [
        "1. Напишите запрос, который позволит узнать, какие работодатели находятся на первом и пятом месте по количеству вакансий."
      ]
    },
    {
      "cell_type": "code",
      "execution_count": 19,
      "id": "f2d62796-d400-4ec1-a675-88112739a50e",
      "metadata": {
        "id": "f2d62796-d400-4ec1-a675-88112739a50e"
      },
      "outputs": [],
      "source": [
        "sql_u5_1 = f'''\n",
        "    (SELECT \n",
        "        e.name\n",
        "        ,count(*) as vacancies_count\n",
        "    FROM public.vacancies as v\n",
        "    INNER JOIN public.employers as e on e.id = v.employer_id\n",
        "    GROUP by e.name\n",
        "    ORDER by vacancies_count desc\n",
        "    LIMIT 1)\n",
        "    \n",
        "    UNION\n",
        "    \n",
        "    (SELECT \n",
        "        e.name\n",
        "        ,count(*) as vacancies_count\n",
        "    FROM public.vacancies as v\n",
        "    INNER JOIN public.employers as e on e.id = v.employer_id\n",
        "    GROUP by e.name\n",
        "    ORDER by vacancies_count desc\n",
        "    LIMIT 1\n",
        "    OFFSET 4)\n",
        "    ORDER BY name DESC\n",
        "    ;\n",
        "  '''"
      ]
    },
    {
      "cell_type": "code",
      "execution_count": 20,
      "id": "64tOMkAxqkQk",
      "metadata": {
        "id": "64tOMkAxqkQk"
      },
      "outputs": [
        {
          "data": {
            "text/html": [
              "<div>\n",
              "<style scoped>\n",
              "    .dataframe tbody tr th:only-of-type {\n",
              "        vertical-align: middle;\n",
              "    }\n",
              "\n",
              "    .dataframe tbody tr th {\n",
              "        vertical-align: top;\n",
              "    }\n",
              "\n",
              "    .dataframe thead th {\n",
              "        text-align: right;\n",
              "    }\n",
              "</style>\n",
              "<table border=\"1\" class=\"dataframe\">\n",
              "  <thead>\n",
              "    <tr style=\"text-align: right;\">\n",
              "      <th></th>\n",
              "      <th>name</th>\n",
              "      <th>vacancies_count</th>\n",
              "    </tr>\n",
              "  </thead>\n",
              "  <tbody>\n",
              "    <tr>\n",
              "      <th>0</th>\n",
              "      <td>Яндекс</td>\n",
              "      <td>1933</td>\n",
              "    </tr>\n",
              "    <tr>\n",
              "      <th>1</th>\n",
              "      <td>Газпром нефть</td>\n",
              "      <td>331</td>\n",
              "    </tr>\n",
              "  </tbody>\n",
              "</table>\n",
              "</div>"
            ],
            "text/plain": [
              "            name  vacancies_count\n",
              "0         Яндекс             1933\n",
              "1  Газпром нефть              331"
            ]
          },
          "metadata": {},
          "output_type": "display_data"
        }
      ],
      "source": [
        "display(sqlExecution(sql_u5_1))"
      ]
    },
    {
      "cell_type": "markdown",
      "id": "68377cfc-b378-43dc-ab7d-1195abf2c515",
      "metadata": {
        "id": "68377cfc-b378-43dc-ab7d-1195abf2c515"
      },
      "source": [
        "***\n",
        "2. Напишите запрос, который для каждого региона выведет количество работодателей и вакансий в нём.\n",
        "Среди регионов, в которых нет вакансий, найдите тот, в котором наибольшее количество работодателей.\n"
      ]
    },
    {
      "cell_type": "code",
      "execution_count": 21,
      "id": "dd7df27a-e3e8-412e-a21a-5d389b71e891",
      "metadata": {
        "id": "dd7df27a-e3e8-412e-a21a-5d389b71e891"
      },
      "outputs": [],
      "source": [
        "sql_u5_2 = f'''\n",
        "    SELECT\n",
        "        a.name \n",
        "        ,count(distinct e.id) as employers_count\n",
        "        ,count(distinct v.id) as vacancies_count\n",
        "    FROM public.areas as a\n",
        "    LEFT JOIN public.employers as e on e.area = a.id\n",
        "    LEFT JOIN public.vacancies as v on v.area_id = a.id\n",
        "    WHERE v.id is null\n",
        "    GROUP by a.name\n",
        "    ORDER by employers_count desc\n",
        "    LIMIT 1\n",
        "    ;\n",
        "  '''"
      ]
    },
    {
      "cell_type": "code",
      "execution_count": 22,
      "id": "x1ikWbydrbf6",
      "metadata": {
        "id": "x1ikWbydrbf6"
      },
      "outputs": [
        {
          "data": {
            "text/html": [
              "<div>\n",
              "<style scoped>\n",
              "    .dataframe tbody tr th:only-of-type {\n",
              "        vertical-align: middle;\n",
              "    }\n",
              "\n",
              "    .dataframe tbody tr th {\n",
              "        vertical-align: top;\n",
              "    }\n",
              "\n",
              "    .dataframe thead th {\n",
              "        text-align: right;\n",
              "    }\n",
              "</style>\n",
              "<table border=\"1\" class=\"dataframe\">\n",
              "  <thead>\n",
              "    <tr style=\"text-align: right;\">\n",
              "      <th></th>\n",
              "      <th>name</th>\n",
              "      <th>employers_count</th>\n",
              "      <th>vacancies_count</th>\n",
              "    </tr>\n",
              "  </thead>\n",
              "  <tbody>\n",
              "    <tr>\n",
              "      <th>0</th>\n",
              "      <td>Россия</td>\n",
              "      <td>410</td>\n",
              "      <td>0</td>\n",
              "    </tr>\n",
              "  </tbody>\n",
              "</table>\n",
              "</div>"
            ],
            "text/plain": [
              "     name  employers_count  vacancies_count\n",
              "0  Россия              410                0"
            ]
          },
          "metadata": {},
          "output_type": "display_data"
        }
      ],
      "source": [
        "display(sqlExecution(sql_u5_2))"
      ]
    },
    {
      "cell_type": "markdown",
      "id": "f2fe0acb-ab1a-4e15-9326-2560e22d73c1",
      "metadata": {
        "id": "f2fe0acb-ab1a-4e15-9326-2560e22d73c1"
      },
      "source": [
        "***\n",
        "3. Для каждого работодателя посчитайте количество регионов, в которых он публикует свои вакансии. Отсортируйте результат по убыванию количества.\n"
      ]
    },
    {
      "cell_type": "code",
      "execution_count": 23,
      "id": "6271f8ad-bd2e-4196-ae4a-5b39c4c1010e",
      "metadata": {
        "id": "6271f8ad-bd2e-4196-ae4a-5b39c4c1010e"
      },
      "outputs": [],
      "source": [
        "sql_u5_3 = f'''\n",
        "    SELECT\n",
        "        e.name \n",
        "        ,count(distinct v.area_id) as areas_count\n",
        "    FROM public.employers as e\n",
        "    LEFT JOIN public.vacancies as v on v.employer_id = e.id\n",
        "    GROUP by e.name\n",
        "    ORDER by areas_count desc\n",
        "    ;\n",
        "  '''"
      ]
    },
    {
      "cell_type": "code",
      "execution_count": 24,
      "id": "1EIvX3HasH4F",
      "metadata": {
        "id": "1EIvX3HasH4F"
      },
      "outputs": [
        {
          "data": {
            "text/html": [
              "<div>\n",
              "<style scoped>\n",
              "    .dataframe tbody tr th:only-of-type {\n",
              "        vertical-align: middle;\n",
              "    }\n",
              "\n",
              "    .dataframe tbody tr th {\n",
              "        vertical-align: top;\n",
              "    }\n",
              "\n",
              "    .dataframe thead th {\n",
              "        text-align: right;\n",
              "    }\n",
              "</style>\n",
              "<table border=\"1\" class=\"dataframe\">\n",
              "  <thead>\n",
              "    <tr style=\"text-align: right;\">\n",
              "      <th></th>\n",
              "      <th>name</th>\n",
              "      <th>areas_count</th>\n",
              "    </tr>\n",
              "  </thead>\n",
              "  <tbody>\n",
              "    <tr>\n",
              "      <th>0</th>\n",
              "      <td>Яндекс</td>\n",
              "      <td>181</td>\n",
              "    </tr>\n",
              "    <tr>\n",
              "      <th>1</th>\n",
              "      <td>Ростелеком</td>\n",
              "      <td>152</td>\n",
              "    </tr>\n",
              "    <tr>\n",
              "      <th>2</th>\n",
              "      <td>Спецремонт</td>\n",
              "      <td>116</td>\n",
              "    </tr>\n",
              "    <tr>\n",
              "      <th>3</th>\n",
              "      <td>Поляков Денис Иванович</td>\n",
              "      <td>88</td>\n",
              "    </tr>\n",
              "    <tr>\n",
              "      <th>4</th>\n",
              "      <td>ООО ЕФИН</td>\n",
              "      <td>71</td>\n",
              "    </tr>\n",
              "    <tr>\n",
              "      <th>...</th>\n",
              "      <td>...</td>\n",
              "      <td>...</td>\n",
              "    </tr>\n",
              "    <tr>\n",
              "      <th>23170</th>\n",
              "      <td>СДЕЛКА</td>\n",
              "      <td>0</td>\n",
              "    </tr>\n",
              "    <tr>\n",
              "      <th>23171</th>\n",
              "      <td>Alandr Group</td>\n",
              "      <td>0</td>\n",
              "    </tr>\n",
              "    <tr>\n",
              "      <th>23172</th>\n",
              "      <td>СДК</td>\n",
              "      <td>0</td>\n",
              "    </tr>\n",
              "    <tr>\n",
              "      <th>23173</th>\n",
              "      <td>Lemon Land Lombard</td>\n",
              "      <td>0</td>\n",
              "    </tr>\n",
              "    <tr>\n",
              "      <th>23174</th>\n",
              "      <td>Махина</td>\n",
              "      <td>0</td>\n",
              "    </tr>\n",
              "  </tbody>\n",
              "</table>\n",
              "<p>23175 rows × 2 columns</p>\n",
              "</div>"
            ],
            "text/plain": [
              "                         name  areas_count\n",
              "0                      Яндекс          181\n",
              "1                  Ростелеком          152\n",
              "2                  Спецремонт          116\n",
              "3      Поляков Денис Иванович           88\n",
              "4                   ООО ЕФИН            71\n",
              "...                       ...          ...\n",
              "23170                  СДЕЛКА            0\n",
              "23171            Alandr Group            0\n",
              "23172                     СДК            0\n",
              "23173      Lemon Land Lombard            0\n",
              "23174                  Махина            0\n",
              "\n",
              "[23175 rows x 2 columns]"
            ]
          },
          "metadata": {},
          "output_type": "display_data"
        }
      ],
      "source": [
        "display(sqlExecution(sql_u5_3))"
      ]
    },
    {
      "cell_type": "markdown",
      "id": "eab2206d-d95b-468b-8e5f-34381abf0ce7",
      "metadata": {
        "id": "eab2206d-d95b-468b-8e5f-34381abf0ce7"
      },
      "source": [
        "***\n",
        "4. Напишите запрос для подсчёта количества работодателей, у которых не указана сфера деятельности. "
      ]
    },
    {
      "cell_type": "code",
      "execution_count": 25,
      "id": "80defb23-bfb1-4a18-8be6-bf36aa7165d5",
      "metadata": {
        "id": "80defb23-bfb1-4a18-8be6-bf36aa7165d5"
      },
      "outputs": [],
      "source": [
        "sql_u5_4 = f'''\n",
        "    SELECT\n",
        "      count(e.id) as cnt\n",
        "    FROM public.employers as e\n",
        "    LEFT JOIN public.employers_industries as ei on ei.employer_id = e.id\n",
        "    WHERE ei.employer_id is null\n",
        "    ;\n",
        "  '''"
      ]
    },
    {
      "cell_type": "code",
      "execution_count": 26,
      "id": "Dp_yCx6ysQSu",
      "metadata": {
        "id": "Dp_yCx6ysQSu"
      },
      "outputs": [
        {
          "data": {
            "text/html": [
              "<div>\n",
              "<style scoped>\n",
              "    .dataframe tbody tr th:only-of-type {\n",
              "        vertical-align: middle;\n",
              "    }\n",
              "\n",
              "    .dataframe tbody tr th {\n",
              "        vertical-align: top;\n",
              "    }\n",
              "\n",
              "    .dataframe thead th {\n",
              "        text-align: right;\n",
              "    }\n",
              "</style>\n",
              "<table border=\"1\" class=\"dataframe\">\n",
              "  <thead>\n",
              "    <tr style=\"text-align: right;\">\n",
              "      <th></th>\n",
              "      <th>cnt</th>\n",
              "    </tr>\n",
              "  </thead>\n",
              "  <tbody>\n",
              "    <tr>\n",
              "      <th>0</th>\n",
              "      <td>8419</td>\n",
              "    </tr>\n",
              "  </tbody>\n",
              "</table>\n",
              "</div>"
            ],
            "text/plain": [
              "    cnt\n",
              "0  8419"
            ]
          },
          "metadata": {},
          "output_type": "display_data"
        }
      ],
      "source": [
        "display(sqlExecution(sql_u5_4))"
      ]
    },
    {
      "cell_type": "markdown",
      "id": "0112af31-f6b0-4e3b-82ab-71296e752e5e",
      "metadata": {
        "id": "0112af31-f6b0-4e3b-82ab-71296e752e5e"
      },
      "source": [
        "***\n",
        "5. Напишите запрос, чтобы узнать название компании, находящейся на третьем месте в алфавитном списке (по названию) компаний, у которых указано четыре сферы деятельности. "
      ]
    },
    {
      "cell_type": "code",
      "execution_count": 27,
      "id": "973b0cfc-a972-470a-8b4a-68744ef220c4",
      "metadata": {
        "id": "973b0cfc-a972-470a-8b4a-68744ef220c4"
      },
      "outputs": [],
      "source": [
        "sql_u5_5 = f'''\n",
        "    SELECT\n",
        "      e.name\n",
        "      ,count(distinct ei.industry_id) as cnt\n",
        "    FROM public.employers as e\n",
        "    LEFT JOIN public.employers_industries as ei on ei.employer_id = e.id\n",
        "    WHERE ei.employer_id is not null\n",
        "    GROUP by e.name\n",
        "    HAVING count(distinct ei.industry_id) = 4\n",
        "    ORDER by e.name asc\n",
        "    LIMIT 1\n",
        "    OFFSET 2\n",
        "    ;\n",
        "  '''"
      ]
    },
    {
      "cell_type": "code",
      "execution_count": 28,
      "id": "xsPtpp8EsaED",
      "metadata": {
        "id": "xsPtpp8EsaED"
      },
      "outputs": [
        {
          "data": {
            "text/html": [
              "<div>\n",
              "<style scoped>\n",
              "    .dataframe tbody tr th:only-of-type {\n",
              "        vertical-align: middle;\n",
              "    }\n",
              "\n",
              "    .dataframe tbody tr th {\n",
              "        vertical-align: top;\n",
              "    }\n",
              "\n",
              "    .dataframe thead th {\n",
              "        text-align: right;\n",
              "    }\n",
              "</style>\n",
              "<table border=\"1\" class=\"dataframe\">\n",
              "  <thead>\n",
              "    <tr style=\"text-align: right;\">\n",
              "      <th></th>\n",
              "      <th>name</th>\n",
              "      <th>cnt</th>\n",
              "    </tr>\n",
              "  </thead>\n",
              "  <tbody>\n",
              "    <tr>\n",
              "      <th>0</th>\n",
              "      <td>2ГИС</td>\n",
              "      <td>4</td>\n",
              "    </tr>\n",
              "  </tbody>\n",
              "</table>\n",
              "</div>"
            ],
            "text/plain": [
              "   name  cnt\n",
              "0  2ГИС    4"
            ]
          },
          "metadata": {},
          "output_type": "display_data"
        }
      ],
      "source": [
        "display(sqlExecution(sql_u5_5))"
      ]
    },
    {
      "cell_type": "markdown",
      "id": "3bfcfdaf-755d-4d2b-8ed8-326201dc07ab",
      "metadata": {
        "id": "3bfcfdaf-755d-4d2b-8ed8-326201dc07ab"
      },
      "source": [
        "***\n",
        "6. С помощью запроса выясните, у какого количества работодателей в качестве сферы деятельности указана Разработка программного обеспечения.\n"
      ]
    },
    {
      "cell_type": "code",
      "execution_count": 29,
      "id": "ad3f270f-2991-47eb-929b-e8f88a55b0d1",
      "metadata": {
        "id": "ad3f270f-2991-47eb-929b-e8f88a55b0d1"
      },
      "outputs": [],
      "source": [
        "sql_u5_6 = f'''\n",
        "    SELECT\n",
        "      count(e.name) as cnt\n",
        "    FROM public.employers as e\n",
        "    LEFT JOIN public.employers_industries as ei on ei.employer_id = e.id\n",
        "    INNER JOIN public.industries as i on i.id = ei.industry_id\n",
        "    WHERE i.name = 'Разработка программного обеспечения'\n",
        "    ;\n",
        "  '''"
      ]
    },
    {
      "cell_type": "code",
      "execution_count": 30,
      "id": "H72qxWM0shPR",
      "metadata": {
        "id": "H72qxWM0shPR"
      },
      "outputs": [
        {
          "data": {
            "text/html": [
              "<div>\n",
              "<style scoped>\n",
              "    .dataframe tbody tr th:only-of-type {\n",
              "        vertical-align: middle;\n",
              "    }\n",
              "\n",
              "    .dataframe tbody tr th {\n",
              "        vertical-align: top;\n",
              "    }\n",
              "\n",
              "    .dataframe thead th {\n",
              "        text-align: right;\n",
              "    }\n",
              "</style>\n",
              "<table border=\"1\" class=\"dataframe\">\n",
              "  <thead>\n",
              "    <tr style=\"text-align: right;\">\n",
              "      <th></th>\n",
              "      <th>cnt</th>\n",
              "    </tr>\n",
              "  </thead>\n",
              "  <tbody>\n",
              "    <tr>\n",
              "      <th>0</th>\n",
              "      <td>3553</td>\n",
              "    </tr>\n",
              "  </tbody>\n",
              "</table>\n",
              "</div>"
            ],
            "text/plain": [
              "    cnt\n",
              "0  3553"
            ]
          },
          "metadata": {},
          "output_type": "display_data"
        }
      ],
      "source": [
        "display(sqlExecution(sql_u5_6))"
      ]
    },
    {
      "cell_type": "markdown",
      "id": "7b02bb86-0546-40fb-94a4-242f050a5c57",
      "metadata": {
        "id": "7b02bb86-0546-40fb-94a4-242f050a5c57"
      },
      "source": [
        "***\n",
        "7. Для компании «Яндекс» выведите список регионов-миллионников, в которых представлены вакансии компании, вместе с количеством вакансий в этих регионах. Также добавьте строку Total с общим количеством вакансий компании. Результат отсортируйте по возрастанию количества.\n",
        "\n",
        "Список городов-милионников надо взять [отсюда](https://ru.wikipedia.org/wiki/%D0%93%D0%BE%D1%80%D0%BE%D0%B4%D0%B0-%D0%BC%D0%B8%D0%BB%D0%BB%D0%B8%D0%BE%D0%BD%D0%B5%D1%80%D1%8B_%D0%A0%D0%BE%D1%81%D1%81%D0%B8%D0%B8). \n",
        "\n",
        "Если возникнут трудности с этим задание посмотрите материалы модуля  PYTHON-17. Как получать данные из веб-источников и API. "
      ]
    },
    {
      "cell_type": "code",
      "execution_count": 31,
      "id": "ZdfrL6gIs1Pn",
      "metadata": {
        "id": "ZdfrL6gIs1Pn"
      },
      "outputs": [],
      "source": [
        "# используем метод pandas read_html, который позволяет считывать все элементы с тэгом table\n",
        "# с указанного url в DataFrame. К сожалению у текущей статьи нету отдельного идентификаторв таблицы, \n",
        "# поэтому получаем все таблицы со страницы. необходимая нам лежит под индексом 1\n",
        "url = 'https://ru.wikipedia.org/wiki/%D0%93%D0%BE%D1%80%D0%BE%D0%B4%D0%B0-%D0%BC%D0%B8%D0%BB%D0%BB%D0%B8%D0%BE%D0%BD%D0%B5%D1%80%D1%8B_%D0%A0%D0%BE%D1%81%D1%81%D0%B8%D0%B8'\n",
        "cities = list(pd.read_html(url)[1]['Город'])\n",
        "# Один из городов указан в виде Воронеж[а]. Удалим ненужный аттрибут [а] в конце\n",
        "cities[13] = cities[13][:-3]\n"
      ]
    },
    {
      "cell_type": "code",
      "execution_count": 32,
      "id": "5a0e32a4-e68a-4365-8a39-2fe24c542c36",
      "metadata": {
        "id": "5a0e32a4-e68a-4365-8a39-2fe24c542c36"
      },
      "outputs": [],
      "source": [
        "# обьявлю отдельную переменную для компании, так явнее видно для какой компании происходит выборка\n",
        "company = 'Яндекс'\n",
        "\n",
        "# Также у нас есть повторяющийся код SQL, обернем его тоже в отдельную переменную \n",
        "# И дополнительно получим список городов для условия город из списка, путем применения join для списка городов\n",
        "common_sql = f'''FROM public.employers as e\n",
        "    LEFT JOIN public.vacancies as v on v.employer_id = e.id\n",
        "    INNER JOIN public.areas as a on v.area_id = a.id \n",
        "    WHERE \n",
        "          e.name = '{company}'\n",
        "      and v.id is not null\n",
        "      and a.name in ({','.join(f'{chr(0x27)}{c}{chr(0x27)}' for c in cities)})\n",
        "    '''\n",
        "# окончательный запрос\n",
        "sql_u5_7 = f'''\n",
        "    (SELECT\n",
        "      a.name\n",
        "      ,count(v.id) as cnt\n",
        "    {common_sql}\n",
        "    GROUP BY 1\n",
        "    ORDER BY 2 asc)\n",
        "    \n",
        "    union\n",
        "    \n",
        "    (SELECT\n",
        "      'Total'\n",
        "      ,count(v.id) as cnt\n",
        "        {common_sql}\n",
        "    )\n",
        "    ORDER BY 2\n",
        "    ;\n",
        "  '''"
      ]
    },
    {
      "cell_type": "code",
      "execution_count": 33,
      "id": "ttPhiO1rsvPq",
      "metadata": {
        "id": "ttPhiO1rsvPq"
      },
      "outputs": [
        {
          "data": {
            "text/html": [
              "<div>\n",
              "<style scoped>\n",
              "    .dataframe tbody tr th:only-of-type {\n",
              "        vertical-align: middle;\n",
              "    }\n",
              "\n",
              "    .dataframe tbody tr th {\n",
              "        vertical-align: top;\n",
              "    }\n",
              "\n",
              "    .dataframe thead th {\n",
              "        text-align: right;\n",
              "    }\n",
              "</style>\n",
              "<table border=\"1\" class=\"dataframe\">\n",
              "  <thead>\n",
              "    <tr style=\"text-align: right;\">\n",
              "      <th></th>\n",
              "      <th>name</th>\n",
              "      <th>cnt</th>\n",
              "    </tr>\n",
              "  </thead>\n",
              "  <tbody>\n",
              "    <tr>\n",
              "      <th>0</th>\n",
              "      <td>Омск</td>\n",
              "      <td>21</td>\n",
              "    </tr>\n",
              "    <tr>\n",
              "      <th>1</th>\n",
              "      <td>Челябинск</td>\n",
              "      <td>22</td>\n",
              "    </tr>\n",
              "    <tr>\n",
              "      <th>2</th>\n",
              "      <td>Красноярск</td>\n",
              "      <td>23</td>\n",
              "    </tr>\n",
              "    <tr>\n",
              "      <th>3</th>\n",
              "      <td>Волгоград</td>\n",
              "      <td>24</td>\n",
              "    </tr>\n",
              "    <tr>\n",
              "      <th>4</th>\n",
              "      <td>Пермь</td>\n",
              "      <td>25</td>\n",
              "    </tr>\n",
              "    <tr>\n",
              "      <th>5</th>\n",
              "      <td>Казань</td>\n",
              "      <td>25</td>\n",
              "    </tr>\n",
              "    <tr>\n",
              "      <th>6</th>\n",
              "      <td>Ростов-на-Дону</td>\n",
              "      <td>25</td>\n",
              "    </tr>\n",
              "    <tr>\n",
              "      <th>7</th>\n",
              "      <td>Уфа</td>\n",
              "      <td>26</td>\n",
              "    </tr>\n",
              "    <tr>\n",
              "      <th>8</th>\n",
              "      <td>Самара</td>\n",
              "      <td>26</td>\n",
              "    </tr>\n",
              "    <tr>\n",
              "      <th>9</th>\n",
              "      <td>Краснодар</td>\n",
              "      <td>30</td>\n",
              "    </tr>\n",
              "    <tr>\n",
              "      <th>10</th>\n",
              "      <td>Воронеж</td>\n",
              "      <td>32</td>\n",
              "    </tr>\n",
              "    <tr>\n",
              "      <th>11</th>\n",
              "      <td>Новосибирск</td>\n",
              "      <td>35</td>\n",
              "    </tr>\n",
              "    <tr>\n",
              "      <th>12</th>\n",
              "      <td>Нижний Новгород</td>\n",
              "      <td>36</td>\n",
              "    </tr>\n",
              "    <tr>\n",
              "      <th>13</th>\n",
              "      <td>Екатеринбург</td>\n",
              "      <td>39</td>\n",
              "    </tr>\n",
              "    <tr>\n",
              "      <th>14</th>\n",
              "      <td>Санкт-Петербург</td>\n",
              "      <td>42</td>\n",
              "    </tr>\n",
              "    <tr>\n",
              "      <th>15</th>\n",
              "      <td>Москва</td>\n",
              "      <td>54</td>\n",
              "    </tr>\n",
              "    <tr>\n",
              "      <th>16</th>\n",
              "      <td>Total</td>\n",
              "      <td>485</td>\n",
              "    </tr>\n",
              "  </tbody>\n",
              "</table>\n",
              "</div>"
            ],
            "text/plain": [
              "               name  cnt\n",
              "0              Омск   21\n",
              "1         Челябинск   22\n",
              "2        Красноярск   23\n",
              "3         Волгоград   24\n",
              "4             Пермь   25\n",
              "5            Казань   25\n",
              "6    Ростов-на-Дону   25\n",
              "7               Уфа   26\n",
              "8            Самара   26\n",
              "9         Краснодар   30\n",
              "10          Воронеж   32\n",
              "11      Новосибирск   35\n",
              "12  Нижний Новгород   36\n",
              "13     Екатеринбург   39\n",
              "14  Санкт-Петербург   42\n",
              "15           Москва   54\n",
              "16            Total  485"
            ]
          },
          "metadata": {},
          "output_type": "display_data"
        }
      ],
      "source": [
        "display(sqlExecution(sql_u5_7))"
      ]
    },
    {
      "cell_type": "markdown",
      "id": "04966e40-3bc3-4dc8-9ba2-e80580ce3abc",
      "metadata": {
        "id": "04966e40-3bc3-4dc8-9ba2-e80580ce3abc"
      },
      "source": [
        "***"
      ]
    },
    {
      "cell_type": "markdown",
      "id": "aGGyER-yt4SR",
      "metadata": {
        "id": "aGGyER-yt4SR"
      },
      "source": [
        "### Выводы по анализу работодателей\n",
        "\n",
        "В базе присутствуют, как крупные работадатели, которые представлены во многих городах/странах, так и небольшие, у которых на данный момент нету вакансий от слова вообще.\n",
        "\n",
        "Бросается в глаза, что больше всего вакансий приходится на район Россия, что несколько странно, это или говорит о какой-то специфике вакансии, возможно это удаленная работа и имеет только смысл страна, с точки зрения налогового законадательства или недостаточно/некорректно указанная информация о городе. Этот момент надо детальнее проверить.\n",
        "\n",
        "Интересен также момент, что компания с названием Поляков Денис Иванович предлагает работу почти в 90 регионах, потому как это очень похоже на ИП, а размер ИП вряд ли позвоялет содержать такое количество сотрудников под ИП. Возможно выброс, надо изучать детальнее.\n",
        "\n",
        "Некоторые работодатели не указывают сферы в которых они рабоают, это не критично, но думаю было бы хорошо, было досабрать эти даные и в будущем для них можно было бы отдельно предлагать специалистов, сотрудничая с их HR отделами, в случае если это больше компании. В случе мелких нет смысла и хватает треболваний указанных в вакансии.\n",
        "\n"
      ]
    },
    {
      "cell_type": "markdown",
      "id": "b1ef156a-efcb-49ce-bb23-90763e7f35b2",
      "metadata": {
        "id": "b1ef156a-efcb-49ce-bb23-90763e7f35b2",
        "tags": []
      },
      "source": [
        "# Юнит 6. Предметный анализ"
      ]
    },
    {
      "cell_type": "markdown",
      "id": "b9cd50a0-992d-4988-8463-2b2b1c4629b4",
      "metadata": {
        "id": "b9cd50a0-992d-4988-8463-2b2b1c4629b4"
      },
      "source": [
        "1. Сколько вакансий имеет отношение к данным?\n",
        "\n",
        "Считаем, что вакансия имеет отношение к данным, если в её названии содержатся слова 'data' или 'данн'.\n",
        "\n",
        "*Подсказка: Обратите внимание, что названия вакансий могут быть написаны в любом регистре.* \n"
      ]
    },
    {
      "cell_type": "code",
      "execution_count": 34,
      "id": "54ab0e50-c0f1-47cc-a54b-bc5c8bc363f9",
      "metadata": {
        "id": "54ab0e50-c0f1-47cc-a54b-bc5c8bc363f9"
      },
      "outputs": [],
      "source": [
        "sql_u6_1 = f'''\n",
        "    SELECT\n",
        "      count(distinct v.id) as cnt\n",
        "    FROM public.vacancies as v\n",
        "    -- выбираем записи в любом регистре где в признаке name (название вакансии)\n",
        "    -- присутствет запись или 'data' или 'данн' \n",
        "    WHERE v.name ~~* any (array[\n",
        "      '%%data%%'\n",
        "      ,'%%данн%%'\n",
        "    ])\n",
        "    ;\n",
        "  '''"
      ]
    },
    {
      "cell_type": "code",
      "execution_count": 35,
      "id": "9F1meAqsuUjd",
      "metadata": {
        "id": "9F1meAqsuUjd"
      },
      "outputs": [
        {
          "data": {
            "text/html": [
              "<div>\n",
              "<style scoped>\n",
              "    .dataframe tbody tr th:only-of-type {\n",
              "        vertical-align: middle;\n",
              "    }\n",
              "\n",
              "    .dataframe tbody tr th {\n",
              "        vertical-align: top;\n",
              "    }\n",
              "\n",
              "    .dataframe thead th {\n",
              "        text-align: right;\n",
              "    }\n",
              "</style>\n",
              "<table border=\"1\" class=\"dataframe\">\n",
              "  <thead>\n",
              "    <tr style=\"text-align: right;\">\n",
              "      <th></th>\n",
              "      <th>cnt</th>\n",
              "    </tr>\n",
              "  </thead>\n",
              "  <tbody>\n",
              "    <tr>\n",
              "      <th>0</th>\n",
              "      <td>1771</td>\n",
              "    </tr>\n",
              "  </tbody>\n",
              "</table>\n",
              "</div>"
            ],
            "text/plain": [
              "    cnt\n",
              "0  1771"
            ]
          },
          "metadata": {},
          "output_type": "display_data"
        }
      ],
      "source": [
        "display(sqlExecution(sql_u6_1))"
      ]
    },
    {
      "cell_type": "markdown",
      "id": "4dea20cb-a36b-474a-a0b9-e08e8e3857a5",
      "metadata": {
        "id": "4dea20cb-a36b-474a-a0b9-e08e8e3857a5"
      },
      "source": [
        "***\n",
        "2. Сколько есть подходящих вакансий для начинающего дата-сайентиста? \n",
        "Будем считать вакансиями для дата-сайентистов такие, в названии которых есть хотя бы одно из следующих сочетаний:\n",
        "* 'data scientist'\n",
        "* 'data science'\n",
        "* 'исследователь данных'\n",
        "* 'ML' (здесь не нужно брать вакансии по HTML)\n",
        "* 'machine learning'\n",
        "* 'машинн%обучен%'\n",
        "\n",
        "** В следующих заданиях мы продолжим работать с вакансиями по этому условию.*\n",
        "\n",
        "Считаем вакансиями для специалистов уровня Junior следующие:\n",
        "* в названии есть слово 'junior' *или*\n",
        "* требуемый опыт — Нет опыта *или*\n",
        "* тип трудоустройства — Стажировка.\n",
        " "
      ]
    },
    {
      "cell_type": "code",
      "execution_count": 36,
      "id": "9c61b3c0-bb66-46c9-ae1e-81d3f5752b4a",
      "metadata": {
        "id": "9c61b3c0-bb66-46c9-ae1e-81d3f5752b4a"
      },
      "outputs": [],
      "source": [
        "# Дополнительный критерий, который выбирает только Junior вакансии\n",
        "juniors ='''   \n",
        "     (\n",
        "      v.employment = 'Стажировка' \n",
        "      or v.experience = 'Нет опыта' \n",
        "      or v.name ~~* '%%junior%%'\n",
        "      ) \n",
        "      '''\n",
        "# Беря во внимание, что последующие запросы будут выбирать только вакансии связанные с DS, чтобы не писать каждый раз это в условии и не ошибится, \n",
        "# или в случае если нам придется расширить список или уменьшить, введем переменную where, в которой будет идти отбор только DS вакансий   \n",
        "where_DS_Only = '''    \n",
        "      (\n",
        "        v.name ~~* any (array[\n",
        "          '%%data%%scientist%%',\n",
        "          '%%data%%science%%',\n",
        "          '%%исследователь%%данных%%',\n",
        "          '%%machine%%learning%%',\n",
        "          '%%машинн%%обучен%%'      \n",
        "        ])\n",
        "      or (\n",
        "          v.name !~~* '%%HTML%%'\n",
        "          and v.name ~~ '%%ML%%'\n",
        "        )\n",
        "      )\n",
        "'''\n",
        "sql_u6_2 = f'''\n",
        "    SELECT\n",
        "      count(*) as cnt\n",
        "    FROM public.vacancies as v\n",
        "    WHERE\n",
        "    --общее условие, только DS вакансии\n",
        "    {where_DS_Only}\n",
        "    and\n",
        "    --Дополнительное условие, ограничивающее только до Junior\n",
        "    {juniors}\n",
        "    ;\n",
        "  '''"
      ]
    },
    {
      "cell_type": "code",
      "execution_count": 37,
      "id": "ZNM-LLYuu1dj",
      "metadata": {
        "id": "ZNM-LLYuu1dj"
      },
      "outputs": [
        {
          "data": {
            "text/html": [
              "<div>\n",
              "<style scoped>\n",
              "    .dataframe tbody tr th:only-of-type {\n",
              "        vertical-align: middle;\n",
              "    }\n",
              "\n",
              "    .dataframe tbody tr th {\n",
              "        vertical-align: top;\n",
              "    }\n",
              "\n",
              "    .dataframe thead th {\n",
              "        text-align: right;\n",
              "    }\n",
              "</style>\n",
              "<table border=\"1\" class=\"dataframe\">\n",
              "  <thead>\n",
              "    <tr style=\"text-align: right;\">\n",
              "      <th></th>\n",
              "      <th>cnt</th>\n",
              "    </tr>\n",
              "  </thead>\n",
              "  <tbody>\n",
              "    <tr>\n",
              "      <th>0</th>\n",
              "      <td>51</td>\n",
              "    </tr>\n",
              "  </tbody>\n",
              "</table>\n",
              "</div>"
            ],
            "text/plain": [
              "   cnt\n",
              "0   51"
            ]
          },
          "execution_count": 37,
          "metadata": {},
          "output_type": "execute_result"
        }
      ],
      "source": [
        "sqlExecution(sql_u6_2)"
      ]
    },
    {
      "cell_type": "markdown",
      "id": "eedceb80-c5ca-480e-b27a-278dfb8b4438",
      "metadata": {
        "id": "eedceb80-c5ca-480e-b27a-278dfb8b4438"
      },
      "source": [
        "***\n",
        "3. Сколько есть вакансий для DS, в которых в качестве ключевого навыка указан SQL или postgres?\n",
        "\n",
        "** Критерии для отнесения вакансии к DS указаны в предыдущем задании.*"
      ]
    },
    {
      "cell_type": "code",
      "execution_count": 38,
      "id": "69621713-0cc5-4f1b-a1d7-bb144fa6148c",
      "metadata": {
        "id": "69621713-0cc5-4f1b-a1d7-bb144fa6148c"
      },
      "outputs": [],
      "source": [
        "# используем структуру запроса WITH, для более удобного чтения и понимания.\n",
        "# Из уже выбранного множества только DS вакансии, выберем только тех, у кого имеется один из ключевых навыков SQL или postgreSQL\n",
        "sql_u6_3 = f'''\n",
        "    WITH DSOnly as (\n",
        "    SELECT\n",
        "      *\n",
        "    FROM public.vacancies as v\n",
        "    WHERE\n",
        "    {where_DS_Only}\n",
        "    )\n",
        "    \n",
        "    SELECT count(*) as cnt\n",
        "    FROM DSOnly ds\n",
        "    -- используем case insensitive подход при поиске\n",
        "    WHERE ds.key_skills ~~* any (array[\n",
        "      '%%sql%%',\n",
        "      '%%postgres%%'\n",
        "    ])  \n",
        "      \n",
        "    ;\n",
        "  '''"
      ]
    },
    {
      "cell_type": "code",
      "execution_count": 39,
      "id": "alA8WEAAvGdf",
      "metadata": {
        "id": "alA8WEAAvGdf"
      },
      "outputs": [
        {
          "data": {
            "text/html": [
              "<div>\n",
              "<style scoped>\n",
              "    .dataframe tbody tr th:only-of-type {\n",
              "        vertical-align: middle;\n",
              "    }\n",
              "\n",
              "    .dataframe tbody tr th {\n",
              "        vertical-align: top;\n",
              "    }\n",
              "\n",
              "    .dataframe thead th {\n",
              "        text-align: right;\n",
              "    }\n",
              "</style>\n",
              "<table border=\"1\" class=\"dataframe\">\n",
              "  <thead>\n",
              "    <tr style=\"text-align: right;\">\n",
              "      <th></th>\n",
              "      <th>cnt</th>\n",
              "    </tr>\n",
              "  </thead>\n",
              "  <tbody>\n",
              "    <tr>\n",
              "      <th>0</th>\n",
              "      <td>201</td>\n",
              "    </tr>\n",
              "  </tbody>\n",
              "</table>\n",
              "</div>"
            ],
            "text/plain": [
              "   cnt\n",
              "0  201"
            ]
          },
          "execution_count": 39,
          "metadata": {},
          "output_type": "execute_result"
        }
      ],
      "source": [
        "sqlExecution(sql_u6_3)"
      ]
    },
    {
      "cell_type": "markdown",
      "id": "1be1e9c6-37cf-4a5f-bfeb-04cab799dc80",
      "metadata": {
        "id": "1be1e9c6-37cf-4a5f-bfeb-04cab799dc80"
      },
      "source": [
        "***\n",
        "4. Проверьте, насколько популярен Python в требованиях работодателей к DS. Для этого вычислите количество вакансий, в которых в качестве ключевого навыка указан Python.\n",
        "\n",
        "** Это можно сделать помощью запроса, аналогичного предыдущему.*"
      ]
    },
    {
      "cell_type": "code",
      "execution_count": 40,
      "id": "0036a355-9ccf-4564-8b01-73d8194297e7",
      "metadata": {
        "id": "0036a355-9ccf-4564-8b01-73d8194297e7"
      },
      "outputs": [],
      "source": [
        "# используем структуру запроса WITH, для более удобного чтения и понимания.\n",
        "# Из уже выбранного множества только DS вакансии, выберем только тех, у кого имеется один из ключевых навыков python\n",
        "sql_u6_4 = f'''\n",
        "    WITH DSOnly AS (\n",
        "    SELECT\n",
        "      *\n",
        "    FROM public.vacancies as v\n",
        "    WHERE\n",
        "    {where_DS_Only}\n",
        "    )\n",
        "    \n",
        "    SELECT count(*) as cnt\n",
        "    FROM DSOnly ds\n",
        "    -- используем case insensitive подход при поиске\n",
        "    WHERE ds.key_skills ~~* any (array[\n",
        "      '%%python%%'\n",
        "    ])  \n",
        "      \n",
        "    ;\n",
        "  '''"
      ]
    },
    {
      "cell_type": "code",
      "execution_count": 41,
      "id": "1i-5WyucvQ6v",
      "metadata": {
        "id": "1i-5WyucvQ6v"
      },
      "outputs": [
        {
          "data": {
            "text/html": [
              "<div>\n",
              "<style scoped>\n",
              "    .dataframe tbody tr th:only-of-type {\n",
              "        vertical-align: middle;\n",
              "    }\n",
              "\n",
              "    .dataframe tbody tr th {\n",
              "        vertical-align: top;\n",
              "    }\n",
              "\n",
              "    .dataframe thead th {\n",
              "        text-align: right;\n",
              "    }\n",
              "</style>\n",
              "<table border=\"1\" class=\"dataframe\">\n",
              "  <thead>\n",
              "    <tr style=\"text-align: right;\">\n",
              "      <th></th>\n",
              "      <th>cnt</th>\n",
              "    </tr>\n",
              "  </thead>\n",
              "  <tbody>\n",
              "    <tr>\n",
              "      <th>0</th>\n",
              "      <td>351</td>\n",
              "    </tr>\n",
              "  </tbody>\n",
              "</table>\n",
              "</div>"
            ],
            "text/plain": [
              "   cnt\n",
              "0  351"
            ]
          },
          "execution_count": 41,
          "metadata": {},
          "output_type": "execute_result"
        }
      ],
      "source": [
        "sqlExecution(sql_u6_4)"
      ]
    },
    {
      "cell_type": "markdown",
      "id": "ec3c8db7-fa21-4a41-a994-1af63742a642",
      "metadata": {
        "id": "ec3c8db7-fa21-4a41-a994-1af63742a642"
      },
      "source": [
        "***\n",
        "5. Сколько ключевых навыков в среднем указывают в вакансиях для DS?\n",
        "Ответ округлите до двух знаков после точки-разделителя."
      ]
    },
    {
      "cell_type": "code",
      "execution_count": 42,
      "id": "949132bc-d5b6-4611-8218-0b9a504d74f4",
      "metadata": {
        "id": "949132bc-d5b6-4611-8218-0b9a504d74f4"
      },
      "outputs": [],
      "source": [
        "# используем структуру запроса WITH, для более удобного чтения и понимания.\n",
        "# Из уже выбранного множества только DS вакансии,высчитываем среднее количество навыков\n",
        "sql_u6_5 = f'''\n",
        "    with DSOnly as (\n",
        "    SELECT\n",
        "      *\n",
        "    FROM public.vacancies as v\n",
        "    WHERE\n",
        "    {where_DS_Only}\n",
        "    )\n",
        "    \n",
        "    select \n",
        "      --округляем до 2 знаков после запятой\n",
        "      ROUND(\n",
        "        --высчитываем среднее по всем записям\n",
        "        AVG(\n",
        "          -- chr(9) ASCII код \\t. Признак key_skills использует это для разделения навыков \n",
        "          -- Поэтому для вычисления кол-ва навыков прибегаем к простому способу, удаляем через replace \\t \n",
        "          -- прибавляем 1-цу, так как разделитель в конце не ставится и поэтому навыков на 1 больше, чем разделителей\n",
        "          -- и полученный число отнимаем от всей длины строки, тем самым понимая сколько навыков указано\n",
        "          LENGTH(ds.key_skills) - LENGTH(replace(ds.key_skills, CHR(9), '')) +1\n",
        "        ),2\n",
        "      ) \n",
        "    from DSOnly ds\n",
        "    ;\n",
        "  '''"
      ]
    },
    {
      "cell_type": "code",
      "execution_count": 43,
      "id": "a3V24Tvmviqk",
      "metadata": {
        "id": "a3V24Tvmviqk"
      },
      "outputs": [
        {
          "data": {
            "text/html": [
              "<div>\n",
              "<style scoped>\n",
              "    .dataframe tbody tr th:only-of-type {\n",
              "        vertical-align: middle;\n",
              "    }\n",
              "\n",
              "    .dataframe tbody tr th {\n",
              "        vertical-align: top;\n",
              "    }\n",
              "\n",
              "    .dataframe thead th {\n",
              "        text-align: right;\n",
              "    }\n",
              "</style>\n",
              "<table border=\"1\" class=\"dataframe\">\n",
              "  <thead>\n",
              "    <tr style=\"text-align: right;\">\n",
              "      <th></th>\n",
              "      <th>round</th>\n",
              "    </tr>\n",
              "  </thead>\n",
              "  <tbody>\n",
              "    <tr>\n",
              "      <th>0</th>\n",
              "      <td>6.41</td>\n",
              "    </tr>\n",
              "  </tbody>\n",
              "</table>\n",
              "</div>"
            ],
            "text/plain": [
              "   round\n",
              "0   6.41"
            ]
          },
          "execution_count": 43,
          "metadata": {},
          "output_type": "execute_result"
        }
      ],
      "source": [
        "sqlExecution(sql_u6_5)"
      ]
    },
    {
      "cell_type": "markdown",
      "id": "1041c17a-ca8f-4543-a0ca-32778914fb00",
      "metadata": {
        "id": "1041c17a-ca8f-4543-a0ca-32778914fb00"
      },
      "source": [
        "***\n",
        "6. Напишите запрос, позволяющий вычислить, какую зарплату для DS в **среднем** указывают для каждого типа требуемого опыта (уникальное значение из поля *experience*). \n",
        "\n",
        "При решении задачи примите во внимание следующее:\n",
        "1. Рассматриваем только вакансии, у которых заполнено хотя бы одно из двух полей с зарплатой.\n",
        "2. Если заполнены оба поля с зарплатой, то считаем зарплату по каждой вакансии как сумму двух полей, делённую на 2. Если заполнено только одно из полей, то его и считаем зарплатой по вакансии.\n",
        "3. Если в расчётах участвует null, в результате он тоже даст null (посмотрите, что возвращает запрос select 1 + null). Чтобы избежать этой ситуацию, мы воспользуемся функцией [coalesce](https://postgrespro.ru/docs/postgresql/9.5/functions-conditional#functions-coalesce-nvl-ifnull), которая заменит null на значение, которое мы передадим. Например, посмотрите, что возвращает запрос `select 1 + coalesce(null, 0)`\n",
        "\n",
        "Выясните, на какую зарплату в среднем может рассчитывать дата-сайентист с опытом работы от 3 до 6 лет. Результат округлите до целого числа. "
      ]
    },
    {
      "cell_type": "code",
      "execution_count": 44,
      "id": "6a743d39-5204-48d3-8271-b9f88e68d40e",
      "metadata": {
        "id": "6a743d39-5204-48d3-8271-b9f88e68d40e"
      },
      "outputs": [],
      "source": [
        "# используем структуру запроса WITH, для более удобного чтения и понимания.\n",
        "# Из уже выбранного множества только DS вакансии,высчитываем среднее количество навыков\n",
        "sql_u6_6 = f'''\n",
        "    WITH DSOnly AS (\n",
        "    SELECT\n",
        "      *\n",
        "    FROM public.vacancies as v\n",
        "    WHERE\n",
        "    {where_DS_Only}\n",
        "    )\n",
        "    \n",
        "    SELECT\n",
        "      --округляем до 2 знаков после запятой\n",
        "      ROUND(\n",
        "          --высчитываем среднее по всем записям\n",
        "          AVG(\n",
        "            -- так как по условию задачи необходимо посчитать среднюю зарплату, при условии, что зарплата указана \n",
        "            -- как и минимальная так и максимальная для записи, или же в случае если уцказана только одна из эарплат, взять ее\n",
        "            -- применяем функцию coalesce, где входными параметрами являются приоритеты расчета зарплат указанные по их приоритету\n",
        "            coalesce((ds.salary_from+ds.salary_to)/2, ds.salary_from, ds.salary_to) \n",
        "        ),0) as average_salary_DS\n",
        "    FROM DSOnly ds\n",
        "    WHERE \n",
        "     (\n",
        "          -- уменьшим обьем выборки, хотя этот шаг необязателен. Функции агрегации опускают Null поля\n",
        "          -- Тут больше вопрос быстродействия, а это надо посчитать.\n",
        "          ds.salary_from is not null \n",
        "       or ds.salary_to is not null\n",
        "      )\n",
        "      and\n",
        "      ds.experience = 'От 3 до 6 лет'\n",
        "    ;\n",
        "  '''"
      ]
    },
    {
      "cell_type": "code",
      "execution_count": 45,
      "id": "aRIJ0mZEwU1_",
      "metadata": {
        "id": "aRIJ0mZEwU1_"
      },
      "outputs": [
        {
          "data": {
            "text/html": [
              "<div>\n",
              "<style scoped>\n",
              "    .dataframe tbody tr th:only-of-type {\n",
              "        vertical-align: middle;\n",
              "    }\n",
              "\n",
              "    .dataframe tbody tr th {\n",
              "        vertical-align: top;\n",
              "    }\n",
              "\n",
              "    .dataframe thead th {\n",
              "        text-align: right;\n",
              "    }\n",
              "</style>\n",
              "<table border=\"1\" class=\"dataframe\">\n",
              "  <thead>\n",
              "    <tr style=\"text-align: right;\">\n",
              "      <th></th>\n",
              "      <th>average_salary_ds</th>\n",
              "    </tr>\n",
              "  </thead>\n",
              "  <tbody>\n",
              "    <tr>\n",
              "      <th>0</th>\n",
              "      <td>243115.0</td>\n",
              "    </tr>\n",
              "  </tbody>\n",
              "</table>\n",
              "</div>"
            ],
            "text/plain": [
              "   average_salary_ds\n",
              "0           243115.0"
            ]
          },
          "execution_count": 45,
          "metadata": {},
          "output_type": "execute_result"
        }
      ],
      "source": [
        "sqlExecution(sql_u6_6)"
      ]
    },
    {
      "cell_type": "markdown",
      "id": "6a7892b4-4113-4746-adce-18aa2844f18e",
      "metadata": {
        "id": "6a7892b4-4113-4746-adce-18aa2844f18e"
      },
      "source": [
        "***"
      ]
    },
    {
      "cell_type": "markdown",
      "id": "UjLWUptVwY1o",
      "metadata": {
        "id": "UjLWUptVwY1o"
      },
      "source": [
        "### Выводы по предметному анализу \n",
        "\n",
        "10.5% вакансий DS специалистов относятся к Junior-ам, что показывает, что людям без опыта в данной области тяжелее всего найти работу.\n",
        "\n",
        "Также часто требуемыми навыками являются Python, SQL, Postgre.\n",
        "\n",
        "К сожалению это слишком поверхностный анализ, например обычно в требованиях указывают SQL, как замена всем типам SQL (MySQl, Postgre, MSSQL, Oracle и т.д). Реже добавляют к основному SQL навыку более точные требования к SQL или указывают четко опреденный SQL\n",
        "\n",
        "Но в общем охарактеризовать ситуацию мы можем, что знания Python, SQL являются ключевыми, и претендентам обладающим этими навыками легче будет найти работу\n",
        "\n",
        "Также, что интересно, среднее кол-во навыков лежит в диапазоне от 6 до 7 навыков, т.е необходимо сделать более глубокую сегментацию, чтобы сочетания каких навыков более восстребованы.\n",
        "\n",
        "И характерен достаточно резкий рост зарплаты согласно Опыту работы"
      ]
    },
    {
      "cell_type": "markdown",
      "id": "c0ED6fh7wiBT",
      "metadata": {
        "id": "c0ED6fh7wiBT"
      },
      "source": [
        "# Общий вывод по проекту"
      ]
    },
    {
      "cell_type": "markdown",
      "id": "h9B3BL-wwj18",
      "metadata": {
        "id": "h9B3BL-wwj18"
      },
      "source": [
        "Отметим, что в рамках данного проекта не прооизводилась проверка на выбросы, поэтому данные могут быть немного искажены.\n",
        "\n",
        "Также тяжело сказать, насколько профессия DS востребована относительно других профессий, так как мы выделили более менее четко сегмент DS специальностей, а остальные просто скинули в одну кучу, и понятия не имеем сколько уникальных специальностей в этой куче.\n",
        "\n",
        "Что мы четко можем видеть, средняя зарплата DS специалиста в зависимости от опыта лежит в диапазоне от 75к до 245К рублей.\n",
        "Также нет ни одного требования к опыту более 6 лет, что может свидетельствовать о том, что при большем опыте зарплата может также существенно расти.\n",
        "\n",
        "HH.RU работает не только с регионом Россия, но также и с другими странами.\n",
        "\n",
        "Некорректный момент, что таблица areas содержит как страны, так и города, из-за чего сегментирование ни по городам, ни по странам не является корректным.\n",
        "\n",
        "Также нет четкой категоризации по вакансиям и навыкам.\n",
        "\n",
        "Учитывая все вышесказанное, все наши выводы не имеют особой ценности, пока данные не будут приведены к более \"чистому\" виду, а именно:\n",
        "* Выявление категорий для вакансий\n",
        "* Выявление категорий для навыков\n",
        "* Ведение дополнительного признака в таблице areas - Страна. Вопрос что делать с городом, или уточнять, или в случае небольших стран и возможности удаленной работы и т.д., приводить к одному городу...В вообщем нужен более глубокий анализ тут тоже\n",
        "\n",
        "\n",
        "\n"
      ]
    },
    {
      "cell_type": "code",
      "execution_count": 46,
      "id": "7fcd744a",
      "metadata": {},
      "outputs": [],
      "source": [
        "# Напишем запрос, который вернет нам среднюю зарплату в зависимости от опыта\n",
        "# для DS вакансий и Других вакансий\n",
        "\n",
        "# Создаем условие отбора НЕ относящихся к DS вакансиям\n",
        "where_DS_NOT = '''    \n",
        "      (\n",
        "        v.name !~~* any (array[\n",
        "          '%%data%%scientist%%',\n",
        "          '%%data%%science%%',\n",
        "          '%%исследователь%%данных%%',\n",
        "          '%%machine%%learning%%',\n",
        "          '%%машинн%%обучен%%'      \n",
        "        ])\n",
        "      or (\n",
        "          v.name ~~* '%%HTML%%'\n",
        "          and v.name !~~ '%%ML%%'\n",
        "        )\n",
        "      )\n",
        "'''\n",
        "\n",
        "# используем структуру запроса WITH, для более удобного чтения и понимания.\n",
        "# Из уже выбранного множества только DS вакансии,высчитываем среднее количество навыков\n",
        "sql_dop_1 = f'''\n",
        "\n",
        "    (\n",
        "    WITH DSOnly AS (\n",
        "    SELECT\n",
        "      *\n",
        "    FROM public.vacancies as v\n",
        "    WHERE\n",
        "    {where_DS_NOT}\n",
        "    )\n",
        "    \n",
        "    SELECT\n",
        "      'Другие вакансии' as vacance_type\n",
        "      ,ds.experience\n",
        "      --округляем до 2 знаков после запятой\n",
        "      ,ROUND(\n",
        "          --высчитываем среднее по всем записям\n",
        "          AVG(\n",
        "            -- так как по условию задачи необходимо посчитать среднюю зарплату, при условии, что зарплата указана \n",
        "            -- как и минимальная так и максимальная для записи, или же в случае если уцказана только одна из эарплат, взять ее\n",
        "            -- применяем функцию coalesce, где входными параметрами являются приоритеты расчета зарплат указанные по их приоритету\n",
        "            coalesce((ds.salary_from+ds.salary_to)/2, ds.salary_from, ds.salary_to) \n",
        "        ),0) as average_salary_DS\n",
        "    FROM DSOnly as ds \n",
        "    GROUP BY ds.experience  \n",
        "    ORDER BY average_salary_ds desc NULLS LAST\n",
        "    )\n",
        "\n",
        "    UNION\n",
        "\n",
        "    (\n",
        "    WITH DSOnly AS (\n",
        "    SELECT\n",
        "      *\n",
        "    FROM public.vacancies as v\n",
        "    WHERE\n",
        "    {where_DS_Only}\n",
        "    )\n",
        "    \n",
        "    SELECT\n",
        "      'DS вакансии' as vacance_type\n",
        "      ,ds.experience\n",
        "      --округляем до 2 знаков после запятой\n",
        "      ,ROUND(\n",
        "          --высчитываем среднее по всем записям\n",
        "          AVG(\n",
        "            -- так как по условию задачи необходимо посчитать среднюю зарплату, при условии, что зарплата указана \n",
        "            -- как и минимальная так и максимальная для записи, или же в случае если уцказана только одна из эарплат, взять ее\n",
        "            -- применяем функцию coalesce, где входными параметрами являются приоритеты расчета зарплат указанные по их приоритету\n",
        "            coalesce((ds.salary_from+ds.salary_to)/2, ds.salary_from, ds.salary_to) \n",
        "        ),0) as average_salary_DS\n",
        "    FROM DSOnly as ds \n",
        "    GROUP BY ds.experience  \n",
        "    ORDER BY average_salary_ds desc NULLS LAST\n",
        "    )\n",
        "    ;\n",
        "  '''"
      ]
    },
    {
      "cell_type": "code",
      "execution_count": 47,
      "id": "ff84cb33",
      "metadata": {},
      "outputs": [
        {
          "data": {
            "text/html": [
              "<div>\n",
              "<style scoped>\n",
              "    .dataframe tbody tr th:only-of-type {\n",
              "        vertical-align: middle;\n",
              "    }\n",
              "\n",
              "    .dataframe tbody tr th {\n",
              "        vertical-align: top;\n",
              "    }\n",
              "\n",
              "    .dataframe thead th {\n",
              "        text-align: right;\n",
              "    }\n",
              "</style>\n",
              "<table border=\"1\" class=\"dataframe\">\n",
              "  <thead>\n",
              "    <tr style=\"text-align: right;\">\n",
              "      <th></th>\n",
              "      <th>vacance_type</th>\n",
              "      <th>experience</th>\n",
              "      <th>average_salary_ds</th>\n",
              "    </tr>\n",
              "  </thead>\n",
              "  <tbody>\n",
              "    <tr>\n",
              "      <th>0</th>\n",
              "      <td>Другие вакансии</td>\n",
              "      <td>От 3 до 6 лет</td>\n",
              "      <td>133211.0</td>\n",
              "    </tr>\n",
              "    <tr>\n",
              "      <th>1</th>\n",
              "      <td>DS вакансии</td>\n",
              "      <td>От 3 до 6 лет</td>\n",
              "      <td>243115.0</td>\n",
              "    </tr>\n",
              "    <tr>\n",
              "      <th>2</th>\n",
              "      <td>DS вакансии</td>\n",
              "      <td>Более 6 лет</td>\n",
              "      <td>NaN</td>\n",
              "    </tr>\n",
              "    <tr>\n",
              "      <th>3</th>\n",
              "      <td>Другие вакансии</td>\n",
              "      <td>Более 6 лет</td>\n",
              "      <td>166256.0</td>\n",
              "    </tr>\n",
              "    <tr>\n",
              "      <th>4</th>\n",
              "      <td>DS вакансии</td>\n",
              "      <td>Нет опыта</td>\n",
              "      <td>74643.0</td>\n",
              "    </tr>\n",
              "    <tr>\n",
              "      <th>5</th>\n",
              "      <td>DS вакансии</td>\n",
              "      <td>От 1 года до 3 лет</td>\n",
              "      <td>139675.0</td>\n",
              "    </tr>\n",
              "    <tr>\n",
              "      <th>6</th>\n",
              "      <td>Другие вакансии</td>\n",
              "      <td>От 1 года до 3 лет</td>\n",
              "      <td>76541.0</td>\n",
              "    </tr>\n",
              "    <tr>\n",
              "      <th>7</th>\n",
              "      <td>Другие вакансии</td>\n",
              "      <td>Нет опыта</td>\n",
              "      <td>40472.0</td>\n",
              "    </tr>\n",
              "  </tbody>\n",
              "</table>\n",
              "</div>"
            ],
            "text/plain": [
              "      vacance_type          experience  average_salary_ds\n",
              "0  Другие вакансии       От 3 до 6 лет           133211.0\n",
              "1      DS вакансии       От 3 до 6 лет           243115.0\n",
              "2      DS вакансии         Более 6 лет                NaN\n",
              "3  Другие вакансии         Более 6 лет           166256.0\n",
              "4      DS вакансии           Нет опыта            74643.0\n",
              "5      DS вакансии  От 1 года до 3 лет           139675.0\n",
              "6  Другие вакансии  От 1 года до 3 лет            76541.0\n",
              "7  Другие вакансии           Нет опыта            40472.0"
            ]
          },
          "execution_count": 47,
          "metadata": {},
          "output_type": "execute_result"
        }
      ],
      "source": [
        "data_ds_exp_salary =  sqlExecution(sql_dop_1)\n",
        "data_ds_exp_salary"
      ]
    },
    {
      "cell_type": "code",
      "execution_count": 48,
      "id": "deedcf7c",
      "metadata": {},
      "outputs": [
        {
          "data": {
            "application/vnd.plotly.v1+json": {
              "config": {
                "plotlyServerURL": "https://plot.ly"
              },
              "data": [
                {
                  "alignmentgroup": "True",
                  "customdata": [
                    [
                      0.307,
                      "DS вакансии"
                    ],
                    [
                      0.5745,
                      "DS вакансии"
                    ],
                    [
                      1,
                      "DS вакансии"
                    ],
                    [
                      null,
                      "DS вакансии"
                    ]
                  ],
                  "hoverlabel": {
                    "namelength": 0
                  },
                  "hovertemplate": "<b style='color: #393E46'>%{customdata[1]}</b><br>Зарплата (руб): %{y}<br>Процент: %{customdata[0]:,.2%}",
                  "legendgroup": "DS вакансии",
                  "marker": {
                    "color": "RGB(205,170,125)",
                    "pattern": {
                      "shape": ""
                    }
                  },
                  "name": "DS вакансии",
                  "offsetgroup": "DS вакансии",
                  "orientation": "v",
                  "showlegend": true,
                  "textposition": "inside",
                  "texttemplate": "<b style=\"color: #3C4048; font-size:11px;\">   %{customdata[1]}</b>",
                  "type": "bar",
                  "x": [
                    "Нет опыта",
                    "От 1 года до 3 лет",
                    "От 3 до 6 лет",
                    "Более 6 лет"
                  ],
                  "xaxis": "x",
                  "y": [
                    74643,
                    139675,
                    243115,
                    null
                  ],
                  "yaxis": "y"
                },
                {
                  "alignmentgroup": "True",
                  "customdata": [
                    [
                      0.1665,
                      "Другие вакансии"
                    ],
                    [
                      0.3148,
                      "Другие вакансии"
                    ],
                    [
                      0.5479,
                      "Другие вакансии"
                    ],
                    [
                      0.6839,
                      "Другие вакансии"
                    ]
                  ],
                  "hoverlabel": {
                    "namelength": 0
                  },
                  "hovertemplate": "<b style='color: #393E46'>%{customdata[1]}</b><br>Зарплата (руб): %{y}<br>Процент: %{customdata[0]:,.2%}",
                  "legendgroup": "Другие вакансии",
                  "marker": {
                    "color": "RGB(100,149,237)",
                    "pattern": {
                      "shape": ""
                    }
                  },
                  "name": "Другие вакансии",
                  "offsetgroup": "Другие вакансии",
                  "orientation": "v",
                  "showlegend": true,
                  "textposition": "inside",
                  "texttemplate": "<b style=\"color: #3C4048; font-size:11px;\">   %{customdata[1]}</b>",
                  "type": "bar",
                  "x": [
                    "Нет опыта",
                    "От 1 года до 3 лет",
                    "От 3 до 6 лет",
                    "Более 6 лет"
                  ],
                  "xaxis": "x",
                  "y": [
                    40472,
                    76541,
                    133211,
                    166256
                  ],
                  "yaxis": "y"
                }
              ],
              "layout": {
                "autosize": false,
                "barmode": "group",
                "font": {
                  "size": 10
                },
                "height": 500,
                "hovermode": "x unified",
                "legend": {
                  "bgcolor": "#f2faff",
                  "bordercolor": "#cbd7de",
                  "borderwidth": 0.5,
                  "orientation": "h",
                  "title": {
                    "text": ""
                  },
                  "tracegroupgap": 0,
                  "x": 1,
                  "xanchor": "right",
                  "y": 1.01,
                  "yanchor": "bottom"
                },
                "margin": {
                  "b": 60,
                  "l": 100,
                  "r": 30,
                  "t": 100
                },
                "paper_bgcolor": "#eaf7ff",
                "template": {
                  "data": {
                    "bar": [
                      {
                        "error_x": {
                          "color": "#2a3f5f"
                        },
                        "error_y": {
                          "color": "#2a3f5f"
                        },
                        "marker": {
                          "line": {
                            "color": "#E5ECF6",
                            "width": 0.5
                          },
                          "pattern": {
                            "fillmode": "overlay",
                            "size": 10,
                            "solidity": 0.2
                          }
                        },
                        "type": "bar"
                      }
                    ],
                    "barpolar": [
                      {
                        "marker": {
                          "line": {
                            "color": "#E5ECF6",
                            "width": 0.5
                          },
                          "pattern": {
                            "fillmode": "overlay",
                            "size": 10,
                            "solidity": 0.2
                          }
                        },
                        "type": "barpolar"
                      }
                    ],
                    "carpet": [
                      {
                        "aaxis": {
                          "endlinecolor": "#2a3f5f",
                          "gridcolor": "white",
                          "linecolor": "white",
                          "minorgridcolor": "white",
                          "startlinecolor": "#2a3f5f"
                        },
                        "baxis": {
                          "endlinecolor": "#2a3f5f",
                          "gridcolor": "white",
                          "linecolor": "white",
                          "minorgridcolor": "white",
                          "startlinecolor": "#2a3f5f"
                        },
                        "type": "carpet"
                      }
                    ],
                    "choropleth": [
                      {
                        "colorbar": {
                          "outlinewidth": 0,
                          "ticks": ""
                        },
                        "type": "choropleth"
                      }
                    ],
                    "contour": [
                      {
                        "colorbar": {
                          "outlinewidth": 0,
                          "ticks": ""
                        },
                        "colorscale": [
                          [
                            0,
                            "#0d0887"
                          ],
                          [
                            0.1111111111111111,
                            "#46039f"
                          ],
                          [
                            0.2222222222222222,
                            "#7201a8"
                          ],
                          [
                            0.3333333333333333,
                            "#9c179e"
                          ],
                          [
                            0.4444444444444444,
                            "#bd3786"
                          ],
                          [
                            0.5555555555555556,
                            "#d8576b"
                          ],
                          [
                            0.6666666666666666,
                            "#ed7953"
                          ],
                          [
                            0.7777777777777778,
                            "#fb9f3a"
                          ],
                          [
                            0.8888888888888888,
                            "#fdca26"
                          ],
                          [
                            1,
                            "#f0f921"
                          ]
                        ],
                        "type": "contour"
                      }
                    ],
                    "contourcarpet": [
                      {
                        "colorbar": {
                          "outlinewidth": 0,
                          "ticks": ""
                        },
                        "type": "contourcarpet"
                      }
                    ],
                    "heatmap": [
                      {
                        "colorbar": {
                          "outlinewidth": 0,
                          "ticks": ""
                        },
                        "colorscale": [
                          [
                            0,
                            "#0d0887"
                          ],
                          [
                            0.1111111111111111,
                            "#46039f"
                          ],
                          [
                            0.2222222222222222,
                            "#7201a8"
                          ],
                          [
                            0.3333333333333333,
                            "#9c179e"
                          ],
                          [
                            0.4444444444444444,
                            "#bd3786"
                          ],
                          [
                            0.5555555555555556,
                            "#d8576b"
                          ],
                          [
                            0.6666666666666666,
                            "#ed7953"
                          ],
                          [
                            0.7777777777777778,
                            "#fb9f3a"
                          ],
                          [
                            0.8888888888888888,
                            "#fdca26"
                          ],
                          [
                            1,
                            "#f0f921"
                          ]
                        ],
                        "type": "heatmap"
                      }
                    ],
                    "heatmapgl": [
                      {
                        "colorbar": {
                          "outlinewidth": 0,
                          "ticks": ""
                        },
                        "colorscale": [
                          [
                            0,
                            "#0d0887"
                          ],
                          [
                            0.1111111111111111,
                            "#46039f"
                          ],
                          [
                            0.2222222222222222,
                            "#7201a8"
                          ],
                          [
                            0.3333333333333333,
                            "#9c179e"
                          ],
                          [
                            0.4444444444444444,
                            "#bd3786"
                          ],
                          [
                            0.5555555555555556,
                            "#d8576b"
                          ],
                          [
                            0.6666666666666666,
                            "#ed7953"
                          ],
                          [
                            0.7777777777777778,
                            "#fb9f3a"
                          ],
                          [
                            0.8888888888888888,
                            "#fdca26"
                          ],
                          [
                            1,
                            "#f0f921"
                          ]
                        ],
                        "type": "heatmapgl"
                      }
                    ],
                    "histogram": [
                      {
                        "marker": {
                          "pattern": {
                            "fillmode": "overlay",
                            "size": 10,
                            "solidity": 0.2
                          }
                        },
                        "type": "histogram"
                      }
                    ],
                    "histogram2d": [
                      {
                        "colorbar": {
                          "outlinewidth": 0,
                          "ticks": ""
                        },
                        "colorscale": [
                          [
                            0,
                            "#0d0887"
                          ],
                          [
                            0.1111111111111111,
                            "#46039f"
                          ],
                          [
                            0.2222222222222222,
                            "#7201a8"
                          ],
                          [
                            0.3333333333333333,
                            "#9c179e"
                          ],
                          [
                            0.4444444444444444,
                            "#bd3786"
                          ],
                          [
                            0.5555555555555556,
                            "#d8576b"
                          ],
                          [
                            0.6666666666666666,
                            "#ed7953"
                          ],
                          [
                            0.7777777777777778,
                            "#fb9f3a"
                          ],
                          [
                            0.8888888888888888,
                            "#fdca26"
                          ],
                          [
                            1,
                            "#f0f921"
                          ]
                        ],
                        "type": "histogram2d"
                      }
                    ],
                    "histogram2dcontour": [
                      {
                        "colorbar": {
                          "outlinewidth": 0,
                          "ticks": ""
                        },
                        "colorscale": [
                          [
                            0,
                            "#0d0887"
                          ],
                          [
                            0.1111111111111111,
                            "#46039f"
                          ],
                          [
                            0.2222222222222222,
                            "#7201a8"
                          ],
                          [
                            0.3333333333333333,
                            "#9c179e"
                          ],
                          [
                            0.4444444444444444,
                            "#bd3786"
                          ],
                          [
                            0.5555555555555556,
                            "#d8576b"
                          ],
                          [
                            0.6666666666666666,
                            "#ed7953"
                          ],
                          [
                            0.7777777777777778,
                            "#fb9f3a"
                          ],
                          [
                            0.8888888888888888,
                            "#fdca26"
                          ],
                          [
                            1,
                            "#f0f921"
                          ]
                        ],
                        "type": "histogram2dcontour"
                      }
                    ],
                    "mesh3d": [
                      {
                        "colorbar": {
                          "outlinewidth": 0,
                          "ticks": ""
                        },
                        "type": "mesh3d"
                      }
                    ],
                    "parcoords": [
                      {
                        "line": {
                          "colorbar": {
                            "outlinewidth": 0,
                            "ticks": ""
                          }
                        },
                        "type": "parcoords"
                      }
                    ],
                    "pie": [
                      {
                        "automargin": true,
                        "type": "pie"
                      }
                    ],
                    "scatter": [
                      {
                        "fillpattern": {
                          "fillmode": "overlay",
                          "size": 10,
                          "solidity": 0.2
                        },
                        "type": "scatter"
                      }
                    ],
                    "scatter3d": [
                      {
                        "line": {
                          "colorbar": {
                            "outlinewidth": 0,
                            "ticks": ""
                          }
                        },
                        "marker": {
                          "colorbar": {
                            "outlinewidth": 0,
                            "ticks": ""
                          }
                        },
                        "type": "scatter3d"
                      }
                    ],
                    "scattercarpet": [
                      {
                        "marker": {
                          "colorbar": {
                            "outlinewidth": 0,
                            "ticks": ""
                          }
                        },
                        "type": "scattercarpet"
                      }
                    ],
                    "scattergeo": [
                      {
                        "marker": {
                          "colorbar": {
                            "outlinewidth": 0,
                            "ticks": ""
                          }
                        },
                        "type": "scattergeo"
                      }
                    ],
                    "scattergl": [
                      {
                        "marker": {
                          "colorbar": {
                            "outlinewidth": 0,
                            "ticks": ""
                          }
                        },
                        "type": "scattergl"
                      }
                    ],
                    "scattermapbox": [
                      {
                        "marker": {
                          "colorbar": {
                            "outlinewidth": 0,
                            "ticks": ""
                          }
                        },
                        "type": "scattermapbox"
                      }
                    ],
                    "scatterpolar": [
                      {
                        "marker": {
                          "colorbar": {
                            "outlinewidth": 0,
                            "ticks": ""
                          }
                        },
                        "type": "scatterpolar"
                      }
                    ],
                    "scatterpolargl": [
                      {
                        "marker": {
                          "colorbar": {
                            "outlinewidth": 0,
                            "ticks": ""
                          }
                        },
                        "type": "scatterpolargl"
                      }
                    ],
                    "scatterternary": [
                      {
                        "marker": {
                          "colorbar": {
                            "outlinewidth": 0,
                            "ticks": ""
                          }
                        },
                        "type": "scatterternary"
                      }
                    ],
                    "surface": [
                      {
                        "colorbar": {
                          "outlinewidth": 0,
                          "ticks": ""
                        },
                        "colorscale": [
                          [
                            0,
                            "#0d0887"
                          ],
                          [
                            0.1111111111111111,
                            "#46039f"
                          ],
                          [
                            0.2222222222222222,
                            "#7201a8"
                          ],
                          [
                            0.3333333333333333,
                            "#9c179e"
                          ],
                          [
                            0.4444444444444444,
                            "#bd3786"
                          ],
                          [
                            0.5555555555555556,
                            "#d8576b"
                          ],
                          [
                            0.6666666666666666,
                            "#ed7953"
                          ],
                          [
                            0.7777777777777778,
                            "#fb9f3a"
                          ],
                          [
                            0.8888888888888888,
                            "#fdca26"
                          ],
                          [
                            1,
                            "#f0f921"
                          ]
                        ],
                        "type": "surface"
                      }
                    ],
                    "table": [
                      {
                        "cells": {
                          "fill": {
                            "color": "#EBF0F8"
                          },
                          "line": {
                            "color": "white"
                          }
                        },
                        "header": {
                          "fill": {
                            "color": "#C8D4E3"
                          },
                          "line": {
                            "color": "white"
                          }
                        },
                        "type": "table"
                      }
                    ]
                  },
                  "layout": {
                    "annotationdefaults": {
                      "arrowcolor": "#2a3f5f",
                      "arrowhead": 0,
                      "arrowwidth": 1
                    },
                    "autotypenumbers": "strict",
                    "coloraxis": {
                      "colorbar": {
                        "outlinewidth": 0,
                        "ticks": ""
                      }
                    },
                    "colorscale": {
                      "diverging": [
                        [
                          0,
                          "#8e0152"
                        ],
                        [
                          0.1,
                          "#c51b7d"
                        ],
                        [
                          0.2,
                          "#de77ae"
                        ],
                        [
                          0.3,
                          "#f1b6da"
                        ],
                        [
                          0.4,
                          "#fde0ef"
                        ],
                        [
                          0.5,
                          "#f7f7f7"
                        ],
                        [
                          0.6,
                          "#e6f5d0"
                        ],
                        [
                          0.7,
                          "#b8e186"
                        ],
                        [
                          0.8,
                          "#7fbc41"
                        ],
                        [
                          0.9,
                          "#4d9221"
                        ],
                        [
                          1,
                          "#276419"
                        ]
                      ],
                      "sequential": [
                        [
                          0,
                          "#0d0887"
                        ],
                        [
                          0.1111111111111111,
                          "#46039f"
                        ],
                        [
                          0.2222222222222222,
                          "#7201a8"
                        ],
                        [
                          0.3333333333333333,
                          "#9c179e"
                        ],
                        [
                          0.4444444444444444,
                          "#bd3786"
                        ],
                        [
                          0.5555555555555556,
                          "#d8576b"
                        ],
                        [
                          0.6666666666666666,
                          "#ed7953"
                        ],
                        [
                          0.7777777777777778,
                          "#fb9f3a"
                        ],
                        [
                          0.8888888888888888,
                          "#fdca26"
                        ],
                        [
                          1,
                          "#f0f921"
                        ]
                      ],
                      "sequentialminus": [
                        [
                          0,
                          "#0d0887"
                        ],
                        [
                          0.1111111111111111,
                          "#46039f"
                        ],
                        [
                          0.2222222222222222,
                          "#7201a8"
                        ],
                        [
                          0.3333333333333333,
                          "#9c179e"
                        ],
                        [
                          0.4444444444444444,
                          "#bd3786"
                        ],
                        [
                          0.5555555555555556,
                          "#d8576b"
                        ],
                        [
                          0.6666666666666666,
                          "#ed7953"
                        ],
                        [
                          0.7777777777777778,
                          "#fb9f3a"
                        ],
                        [
                          0.8888888888888888,
                          "#fdca26"
                        ],
                        [
                          1,
                          "#f0f921"
                        ]
                      ]
                    },
                    "colorway": [
                      "#636efa",
                      "#EF553B",
                      "#00cc96",
                      "#ab63fa",
                      "#FFA15A",
                      "#19d3f3",
                      "#FF6692",
                      "#B6E880",
                      "#FF97FF",
                      "#FECB52"
                    ],
                    "font": {
                      "color": "#2a3f5f"
                    },
                    "geo": {
                      "bgcolor": "white",
                      "lakecolor": "white",
                      "landcolor": "#E5ECF6",
                      "showlakes": true,
                      "showland": true,
                      "subunitcolor": "white"
                    },
                    "hoverlabel": {
                      "align": "left"
                    },
                    "hovermode": "closest",
                    "mapbox": {
                      "style": "light"
                    },
                    "paper_bgcolor": "white",
                    "plot_bgcolor": "#E5ECF6",
                    "polar": {
                      "angularaxis": {
                        "gridcolor": "white",
                        "linecolor": "white",
                        "ticks": ""
                      },
                      "bgcolor": "#E5ECF6",
                      "radialaxis": {
                        "gridcolor": "white",
                        "linecolor": "white",
                        "ticks": ""
                      }
                    },
                    "scene": {
                      "xaxis": {
                        "backgroundcolor": "#E5ECF6",
                        "gridcolor": "white",
                        "gridwidth": 2,
                        "linecolor": "white",
                        "showbackground": true,
                        "ticks": "",
                        "zerolinecolor": "white"
                      },
                      "yaxis": {
                        "backgroundcolor": "#E5ECF6",
                        "gridcolor": "white",
                        "gridwidth": 2,
                        "linecolor": "white",
                        "showbackground": true,
                        "ticks": "",
                        "zerolinecolor": "white"
                      },
                      "zaxis": {
                        "backgroundcolor": "#E5ECF6",
                        "gridcolor": "white",
                        "gridwidth": 2,
                        "linecolor": "white",
                        "showbackground": true,
                        "ticks": "",
                        "zerolinecolor": "white"
                      }
                    },
                    "shapedefaults": {
                      "line": {
                        "color": "#2a3f5f"
                      }
                    },
                    "ternary": {
                      "aaxis": {
                        "gridcolor": "white",
                        "linecolor": "white",
                        "ticks": ""
                      },
                      "baxis": {
                        "gridcolor": "white",
                        "linecolor": "white",
                        "ticks": ""
                      },
                      "bgcolor": "#E5ECF6",
                      "caxis": {
                        "gridcolor": "white",
                        "linecolor": "white",
                        "ticks": ""
                      }
                    },
                    "title": {
                      "x": 0.05
                    },
                    "xaxis": {
                      "automargin": true,
                      "gridcolor": "white",
                      "linecolor": "white",
                      "ticks": "",
                      "title": {
                        "standoff": 15
                      },
                      "zerolinecolor": "white",
                      "zerolinewidth": 2
                    },
                    "yaxis": {
                      "automargin": true,
                      "gridcolor": "white",
                      "linecolor": "white",
                      "ticks": "",
                      "title": {
                        "standoff": 15
                      },
                      "zerolinecolor": "white",
                      "zerolinewidth": 2
                    }
                  }
                },
                "title": {
                  "text": "Зависимость средней заработной платы в рублях от опыта"
                },
                "width": 700,
                "xaxis": {
                  "anchor": "y",
                  "domain": [
                    0,
                    1
                  ],
                  "title": {
                    "font": {
                      "size": 15
                    },
                    "text": "Опыт"
                  }
                },
                "yaxis": {
                  "anchor": "x",
                  "domain": [
                    0,
                    1
                  ],
                  "range": [
                    0,
                    300000
                  ],
                  "title": {
                    "font": {
                      "size": 15
                    },
                    "text": "Средняя зарплата (руб)"
                  }
                }
              }
            },
            "text/html": [
              "<div>                            <div id=\"a079f39b-70f9-4b66-8445-e22191ab7643\" class=\"plotly-graph-div\" style=\"height:500px; width:700px;\"></div>            <script type=\"text/javascript\">                require([\"plotly\"], function(Plotly) {                    window.PLOTLYENV=window.PLOTLYENV || {};                                    if (document.getElementById(\"a079f39b-70f9-4b66-8445-e22191ab7643\")) {                    Plotly.newPlot(                        \"a079f39b-70f9-4b66-8445-e22191ab7643\",                        [{\"alignmentgroup\":\"True\",\"customdata\":[[0.307,\"DS \\u0432\\u0430\\u043a\\u0430\\u043d\\u0441\\u0438\\u0438\"],[0.5745,\"DS \\u0432\\u0430\\u043a\\u0430\\u043d\\u0441\\u0438\\u0438\"],[1.0,\"DS \\u0432\\u0430\\u043a\\u0430\\u043d\\u0441\\u0438\\u0438\"],[null,\"DS \\u0432\\u0430\\u043a\\u0430\\u043d\\u0441\\u0438\\u0438\"]],\"hovertemplate\":\"<b style='color: #393E46'>%{customdata[1]}</b><br>\\u0417\\u0430\\u0440\\u043f\\u043b\\u0430\\u0442\\u0430 (\\u0440\\u0443\\u0431): %{y}<br>\\u041f\\u0440\\u043e\\u0446\\u0435\\u043d\\u0442: %{customdata[0]:,.2%}\",\"legendgroup\":\"DS \\u0432\\u0430\\u043a\\u0430\\u043d\\u0441\\u0438\\u0438\",\"marker\":{\"color\":\"RGB(205,170,125)\",\"pattern\":{\"shape\":\"\"}},\"name\":\"DS \\u0432\\u0430\\u043a\\u0430\\u043d\\u0441\\u0438\\u0438\",\"offsetgroup\":\"DS \\u0432\\u0430\\u043a\\u0430\\u043d\\u0441\\u0438\\u0438\",\"orientation\":\"v\",\"showlegend\":true,\"textposition\":\"inside\",\"x\":[\"\\u041d\\u0435\\u0442 \\u043e\\u043f\\u044b\\u0442\\u0430\",\"\\u041e\\u0442 1 \\u0433\\u043e\\u0434\\u0430 \\u0434\\u043e 3 \\u043b\\u0435\\u0442\",\"\\u041e\\u0442 3 \\u0434\\u043e 6 \\u043b\\u0435\\u0442\",\"\\u0411\\u043e\\u043b\\u0435\\u0435 6 \\u043b\\u0435\\u0442\"],\"xaxis\":\"x\",\"y\":[74643.0,139675.0,243115.0,null],\"yaxis\":\"y\",\"type\":\"bar\",\"hoverlabel\":{\"namelength\":0},\"texttemplate\":\"<b style=\\\"color: #3C4048; font-size:11px;\\\">   %{customdata[1]}</b>\"},{\"alignmentgroup\":\"True\",\"customdata\":[[0.1665,\"\\u0414\\u0440\\u0443\\u0433\\u0438\\u0435 \\u0432\\u0430\\u043a\\u0430\\u043d\\u0441\\u0438\\u0438\"],[0.3148,\"\\u0414\\u0440\\u0443\\u0433\\u0438\\u0435 \\u0432\\u0430\\u043a\\u0430\\u043d\\u0441\\u0438\\u0438\"],[0.5479,\"\\u0414\\u0440\\u0443\\u0433\\u0438\\u0435 \\u0432\\u0430\\u043a\\u0430\\u043d\\u0441\\u0438\\u0438\"],[0.6839,\"\\u0414\\u0440\\u0443\\u0433\\u0438\\u0435 \\u0432\\u0430\\u043a\\u0430\\u043d\\u0441\\u0438\\u0438\"]],\"hovertemplate\":\"<b style='color: #393E46'>%{customdata[1]}</b><br>\\u0417\\u0430\\u0440\\u043f\\u043b\\u0430\\u0442\\u0430 (\\u0440\\u0443\\u0431): %{y}<br>\\u041f\\u0440\\u043e\\u0446\\u0435\\u043d\\u0442: %{customdata[0]:,.2%}\",\"legendgroup\":\"\\u0414\\u0440\\u0443\\u0433\\u0438\\u0435 \\u0432\\u0430\\u043a\\u0430\\u043d\\u0441\\u0438\\u0438\",\"marker\":{\"color\":\"RGB(100,149,237)\",\"pattern\":{\"shape\":\"\"}},\"name\":\"\\u0414\\u0440\\u0443\\u0433\\u0438\\u0435 \\u0432\\u0430\\u043a\\u0430\\u043d\\u0441\\u0438\\u0438\",\"offsetgroup\":\"\\u0414\\u0440\\u0443\\u0433\\u0438\\u0435 \\u0432\\u0430\\u043a\\u0430\\u043d\\u0441\\u0438\\u0438\",\"orientation\":\"v\",\"showlegend\":true,\"textposition\":\"inside\",\"x\":[\"\\u041d\\u0435\\u0442 \\u043e\\u043f\\u044b\\u0442\\u0430\",\"\\u041e\\u0442 1 \\u0433\\u043e\\u0434\\u0430 \\u0434\\u043e 3 \\u043b\\u0435\\u0442\",\"\\u041e\\u0442 3 \\u0434\\u043e 6 \\u043b\\u0435\\u0442\",\"\\u0411\\u043e\\u043b\\u0435\\u0435 6 \\u043b\\u0435\\u0442\"],\"xaxis\":\"x\",\"y\":[40472.0,76541.0,133211.0,166256.0],\"yaxis\":\"y\",\"type\":\"bar\",\"hoverlabel\":{\"namelength\":0},\"texttemplate\":\"<b style=\\\"color: #3C4048; font-size:11px;\\\">   %{customdata[1]}</b>\"}],                        {\"template\":{\"data\":{\"histogram2dcontour\":[{\"type\":\"histogram2dcontour\",\"colorbar\":{\"outlinewidth\":0,\"ticks\":\"\"},\"colorscale\":[[0.0,\"#0d0887\"],[0.1111111111111111,\"#46039f\"],[0.2222222222222222,\"#7201a8\"],[0.3333333333333333,\"#9c179e\"],[0.4444444444444444,\"#bd3786\"],[0.5555555555555556,\"#d8576b\"],[0.6666666666666666,\"#ed7953\"],[0.7777777777777778,\"#fb9f3a\"],[0.8888888888888888,\"#fdca26\"],[1.0,\"#f0f921\"]]}],\"choropleth\":[{\"type\":\"choropleth\",\"colorbar\":{\"outlinewidth\":0,\"ticks\":\"\"}}],\"histogram2d\":[{\"type\":\"histogram2d\",\"colorbar\":{\"outlinewidth\":0,\"ticks\":\"\"},\"colorscale\":[[0.0,\"#0d0887\"],[0.1111111111111111,\"#46039f\"],[0.2222222222222222,\"#7201a8\"],[0.3333333333333333,\"#9c179e\"],[0.4444444444444444,\"#bd3786\"],[0.5555555555555556,\"#d8576b\"],[0.6666666666666666,\"#ed7953\"],[0.7777777777777778,\"#fb9f3a\"],[0.8888888888888888,\"#fdca26\"],[1.0,\"#f0f921\"]]}],\"heatmap\":[{\"type\":\"heatmap\",\"colorbar\":{\"outlinewidth\":0,\"ticks\":\"\"},\"colorscale\":[[0.0,\"#0d0887\"],[0.1111111111111111,\"#46039f\"],[0.2222222222222222,\"#7201a8\"],[0.3333333333333333,\"#9c179e\"],[0.4444444444444444,\"#bd3786\"],[0.5555555555555556,\"#d8576b\"],[0.6666666666666666,\"#ed7953\"],[0.7777777777777778,\"#fb9f3a\"],[0.8888888888888888,\"#fdca26\"],[1.0,\"#f0f921\"]]}],\"heatmapgl\":[{\"type\":\"heatmapgl\",\"colorbar\":{\"outlinewidth\":0,\"ticks\":\"\"},\"colorscale\":[[0.0,\"#0d0887\"],[0.1111111111111111,\"#46039f\"],[0.2222222222222222,\"#7201a8\"],[0.3333333333333333,\"#9c179e\"],[0.4444444444444444,\"#bd3786\"],[0.5555555555555556,\"#d8576b\"],[0.6666666666666666,\"#ed7953\"],[0.7777777777777778,\"#fb9f3a\"],[0.8888888888888888,\"#fdca26\"],[1.0,\"#f0f921\"]]}],\"contourcarpet\":[{\"type\":\"contourcarpet\",\"colorbar\":{\"outlinewidth\":0,\"ticks\":\"\"}}],\"contour\":[{\"type\":\"contour\",\"colorbar\":{\"outlinewidth\":0,\"ticks\":\"\"},\"colorscale\":[[0.0,\"#0d0887\"],[0.1111111111111111,\"#46039f\"],[0.2222222222222222,\"#7201a8\"],[0.3333333333333333,\"#9c179e\"],[0.4444444444444444,\"#bd3786\"],[0.5555555555555556,\"#d8576b\"],[0.6666666666666666,\"#ed7953\"],[0.7777777777777778,\"#fb9f3a\"],[0.8888888888888888,\"#fdca26\"],[1.0,\"#f0f921\"]]}],\"surface\":[{\"type\":\"surface\",\"colorbar\":{\"outlinewidth\":0,\"ticks\":\"\"},\"colorscale\":[[0.0,\"#0d0887\"],[0.1111111111111111,\"#46039f\"],[0.2222222222222222,\"#7201a8\"],[0.3333333333333333,\"#9c179e\"],[0.4444444444444444,\"#bd3786\"],[0.5555555555555556,\"#d8576b\"],[0.6666666666666666,\"#ed7953\"],[0.7777777777777778,\"#fb9f3a\"],[0.8888888888888888,\"#fdca26\"],[1.0,\"#f0f921\"]]}],\"mesh3d\":[{\"type\":\"mesh3d\",\"colorbar\":{\"outlinewidth\":0,\"ticks\":\"\"}}],\"scatter\":[{\"fillpattern\":{\"fillmode\":\"overlay\",\"size\":10,\"solidity\":0.2},\"type\":\"scatter\"}],\"parcoords\":[{\"type\":\"parcoords\",\"line\":{\"colorbar\":{\"outlinewidth\":0,\"ticks\":\"\"}}}],\"scatterpolargl\":[{\"type\":\"scatterpolargl\",\"marker\":{\"colorbar\":{\"outlinewidth\":0,\"ticks\":\"\"}}}],\"bar\":[{\"error_x\":{\"color\":\"#2a3f5f\"},\"error_y\":{\"color\":\"#2a3f5f\"},\"marker\":{\"line\":{\"color\":\"#E5ECF6\",\"width\":0.5},\"pattern\":{\"fillmode\":\"overlay\",\"size\":10,\"solidity\":0.2}},\"type\":\"bar\"}],\"scattergeo\":[{\"type\":\"scattergeo\",\"marker\":{\"colorbar\":{\"outlinewidth\":0,\"ticks\":\"\"}}}],\"scatterpolar\":[{\"type\":\"scatterpolar\",\"marker\":{\"colorbar\":{\"outlinewidth\":0,\"ticks\":\"\"}}}],\"histogram\":[{\"marker\":{\"pattern\":{\"fillmode\":\"overlay\",\"size\":10,\"solidity\":0.2}},\"type\":\"histogram\"}],\"scattergl\":[{\"type\":\"scattergl\",\"marker\":{\"colorbar\":{\"outlinewidth\":0,\"ticks\":\"\"}}}],\"scatter3d\":[{\"type\":\"scatter3d\",\"line\":{\"colorbar\":{\"outlinewidth\":0,\"ticks\":\"\"}},\"marker\":{\"colorbar\":{\"outlinewidth\":0,\"ticks\":\"\"}}}],\"scattermapbox\":[{\"type\":\"scattermapbox\",\"marker\":{\"colorbar\":{\"outlinewidth\":0,\"ticks\":\"\"}}}],\"scatterternary\":[{\"type\":\"scatterternary\",\"marker\":{\"colorbar\":{\"outlinewidth\":0,\"ticks\":\"\"}}}],\"scattercarpet\":[{\"type\":\"scattercarpet\",\"marker\":{\"colorbar\":{\"outlinewidth\":0,\"ticks\":\"\"}}}],\"carpet\":[{\"aaxis\":{\"endlinecolor\":\"#2a3f5f\",\"gridcolor\":\"white\",\"linecolor\":\"white\",\"minorgridcolor\":\"white\",\"startlinecolor\":\"#2a3f5f\"},\"baxis\":{\"endlinecolor\":\"#2a3f5f\",\"gridcolor\":\"white\",\"linecolor\":\"white\",\"minorgridcolor\":\"white\",\"startlinecolor\":\"#2a3f5f\"},\"type\":\"carpet\"}],\"table\":[{\"cells\":{\"fill\":{\"color\":\"#EBF0F8\"},\"line\":{\"color\":\"white\"}},\"header\":{\"fill\":{\"color\":\"#C8D4E3\"},\"line\":{\"color\":\"white\"}},\"type\":\"table\"}],\"barpolar\":[{\"marker\":{\"line\":{\"color\":\"#E5ECF6\",\"width\":0.5},\"pattern\":{\"fillmode\":\"overlay\",\"size\":10,\"solidity\":0.2}},\"type\":\"barpolar\"}],\"pie\":[{\"automargin\":true,\"type\":\"pie\"}]},\"layout\":{\"autotypenumbers\":\"strict\",\"colorway\":[\"#636efa\",\"#EF553B\",\"#00cc96\",\"#ab63fa\",\"#FFA15A\",\"#19d3f3\",\"#FF6692\",\"#B6E880\",\"#FF97FF\",\"#FECB52\"],\"font\":{\"color\":\"#2a3f5f\"},\"hovermode\":\"closest\",\"hoverlabel\":{\"align\":\"left\"},\"paper_bgcolor\":\"white\",\"plot_bgcolor\":\"#E5ECF6\",\"polar\":{\"bgcolor\":\"#E5ECF6\",\"angularaxis\":{\"gridcolor\":\"white\",\"linecolor\":\"white\",\"ticks\":\"\"},\"radialaxis\":{\"gridcolor\":\"white\",\"linecolor\":\"white\",\"ticks\":\"\"}},\"ternary\":{\"bgcolor\":\"#E5ECF6\",\"aaxis\":{\"gridcolor\":\"white\",\"linecolor\":\"white\",\"ticks\":\"\"},\"baxis\":{\"gridcolor\":\"white\",\"linecolor\":\"white\",\"ticks\":\"\"},\"caxis\":{\"gridcolor\":\"white\",\"linecolor\":\"white\",\"ticks\":\"\"}},\"coloraxis\":{\"colorbar\":{\"outlinewidth\":0,\"ticks\":\"\"}},\"colorscale\":{\"sequential\":[[0.0,\"#0d0887\"],[0.1111111111111111,\"#46039f\"],[0.2222222222222222,\"#7201a8\"],[0.3333333333333333,\"#9c179e\"],[0.4444444444444444,\"#bd3786\"],[0.5555555555555556,\"#d8576b\"],[0.6666666666666666,\"#ed7953\"],[0.7777777777777778,\"#fb9f3a\"],[0.8888888888888888,\"#fdca26\"],[1.0,\"#f0f921\"]],\"sequentialminus\":[[0.0,\"#0d0887\"],[0.1111111111111111,\"#46039f\"],[0.2222222222222222,\"#7201a8\"],[0.3333333333333333,\"#9c179e\"],[0.4444444444444444,\"#bd3786\"],[0.5555555555555556,\"#d8576b\"],[0.6666666666666666,\"#ed7953\"],[0.7777777777777778,\"#fb9f3a\"],[0.8888888888888888,\"#fdca26\"],[1.0,\"#f0f921\"]],\"diverging\":[[0,\"#8e0152\"],[0.1,\"#c51b7d\"],[0.2,\"#de77ae\"],[0.3,\"#f1b6da\"],[0.4,\"#fde0ef\"],[0.5,\"#f7f7f7\"],[0.6,\"#e6f5d0\"],[0.7,\"#b8e186\"],[0.8,\"#7fbc41\"],[0.9,\"#4d9221\"],[1,\"#276419\"]]},\"xaxis\":{\"gridcolor\":\"white\",\"linecolor\":\"white\",\"ticks\":\"\",\"title\":{\"standoff\":15},\"zerolinecolor\":\"white\",\"automargin\":true,\"zerolinewidth\":2},\"yaxis\":{\"gridcolor\":\"white\",\"linecolor\":\"white\",\"ticks\":\"\",\"title\":{\"standoff\":15},\"zerolinecolor\":\"white\",\"automargin\":true,\"zerolinewidth\":2},\"scene\":{\"xaxis\":{\"backgroundcolor\":\"#E5ECF6\",\"gridcolor\":\"white\",\"linecolor\":\"white\",\"showbackground\":true,\"ticks\":\"\",\"zerolinecolor\":\"white\",\"gridwidth\":2},\"yaxis\":{\"backgroundcolor\":\"#E5ECF6\",\"gridcolor\":\"white\",\"linecolor\":\"white\",\"showbackground\":true,\"ticks\":\"\",\"zerolinecolor\":\"white\",\"gridwidth\":2},\"zaxis\":{\"backgroundcolor\":\"#E5ECF6\",\"gridcolor\":\"white\",\"linecolor\":\"white\",\"showbackground\":true,\"ticks\":\"\",\"zerolinecolor\":\"white\",\"gridwidth\":2}},\"shapedefaults\":{\"line\":{\"color\":\"#2a3f5f\"}},\"annotationdefaults\":{\"arrowcolor\":\"#2a3f5f\",\"arrowhead\":0,\"arrowwidth\":1},\"geo\":{\"bgcolor\":\"white\",\"landcolor\":\"#E5ECF6\",\"subunitcolor\":\"white\",\"showland\":true,\"showlakes\":true,\"lakecolor\":\"white\"},\"title\":{\"x\":0.05},\"mapbox\":{\"style\":\"light\"}}},\"xaxis\":{\"anchor\":\"y\",\"domain\":[0.0,1.0],\"title\":{\"text\":\"\\u041e\\u043f\\u044b\\u0442\",\"font\":{\"size\":15}}},\"yaxis\":{\"anchor\":\"x\",\"domain\":[0.0,1.0],\"title\":{\"text\":\"\\u0421\\u0440\\u0435\\u0434\\u043d\\u044f\\u044f \\u0437\\u0430\\u0440\\u043f\\u043b\\u0430\\u0442\\u0430 (\\u0440\\u0443\\u0431)\",\"font\":{\"size\":15}},\"range\":[0,300000.0]},\"legend\":{\"title\":{\"text\":\"\"},\"tracegroupgap\":0,\"borderwidth\":0.5,\"bordercolor\":\"#cbd7de\",\"bgcolor\":\"#f2faff\",\"orientation\":\"h\",\"yanchor\":\"bottom\",\"y\":1.01,\"xanchor\":\"right\",\"x\":1},\"margin\":{\"t\":100,\"r\":30,\"b\":60,\"l\":100},\"barmode\":\"group\",\"font\":{\"size\":10},\"hovermode\":\"x unified\",\"title\":{\"text\":\"\\u0417\\u0430\\u0432\\u0438\\u0441\\u0438\\u043c\\u043e\\u0441\\u0442\\u044c \\u0441\\u0440\\u0435\\u0434\\u043d\\u0435\\u0439 \\u0437\\u0430\\u0440\\u0430\\u0431\\u043e\\u0442\\u043d\\u043e\\u0439 \\u043f\\u043b\\u0430\\u0442\\u044b \\u0432 \\u0440\\u0443\\u0431\\u043b\\u044f\\u0445 \\u043e\\u0442 \\u043e\\u043f\\u044b\\u0442\\u0430\"},\"autosize\":false,\"width\":700,\"height\":500,\"paper_bgcolor\":\"#eaf7ff\"},                        {\"responsive\": true}                    ).then(function(){\n",
              "                            \n",
              "var gd = document.getElementById('a079f39b-70f9-4b66-8445-e22191ab7643');\n",
              "var x = new MutationObserver(function (mutations, observer) {{\n",
              "        var display = window.getComputedStyle(gd).display;\n",
              "        if (!display || display === 'none') {{\n",
              "            console.log([gd, 'removed!']);\n",
              "            Plotly.purge(gd);\n",
              "            observer.disconnect();\n",
              "        }}\n",
              "}});\n",
              "\n",
              "// Listen for the removal of the full notebook cells\n",
              "var notebookContainer = gd.closest('#notebook-container');\n",
              "if (notebookContainer) {{\n",
              "    x.observe(notebookContainer, {childList: true});\n",
              "}}\n",
              "\n",
              "// Listen for the clearing of the current output cell\n",
              "var outputEl = gd.closest('.output');\n",
              "if (outputEl) {{\n",
              "    x.observe(outputEl, {childList: true});\n",
              "}}\n",
              "\n",
              "                        })                };                });            </script>        </div>"
            ]
          },
          "metadata": {},
          "output_type": "display_data"
        }
      ],
      "source": [
        "# пишем простенькую функцию чтобы добавить сортировку по опыту для графика\n",
        "def changeSort(experience):\n",
        "    if experience =='Нет опыта':\n",
        "        return 1\n",
        "    elif experience == \"От 1 года до 3 лет\":\n",
        "        return 2\n",
        "    elif experience == \"От 3 до 6 лет\":\n",
        "        return 3\n",
        "    elif experience == \"Более 6 лет\":\n",
        "        return 4\n",
        "\n",
        "# Создаем колонку с данными для сортировки\n",
        "data_ds_exp_salary['Sorting'] = data_ds_exp_salary.apply(lambda x: changeSort(x.experience), axis = 1)\n",
        "\n",
        "# Получаем максимальное значение зарплаты, для дополнительного отображения разницы в процентах вмех колонок от максимума\n",
        "max = data_ds_exp_salary.average_salary_ds.max() \n",
        "\n",
        "# Создаем колонку с данными процентов\n",
        "data_ds_exp_salary['Percent'] = data_ds_exp_salary.average_salary_ds.apply(lambda x: round(x / max, 4))\n",
        "# сортируем по новому признаку Sorting\n",
        "data_ds_exp_salary.sort_values(by = ['Sorting'], inplace=True)\n",
        "\n",
        "fig = px.bar(\n",
        "    data_ds_exp_salary,\n",
        "    x='experience',\n",
        "    y='average_salary_ds',\n",
        "    color='vacance_type', \n",
        "    color_discrete_sequence =['RGB(205,170,125)','RGB(100,149,237)'],\n",
        "    hover_data = [\"Percent\",\"vacance_type\"], #добавляем дополнительные поля для вывода в хинтах\n",
        "    # text='vacance_type', # Дополнительно указываем в каждом Баре, к какой группе относится бар,\n",
        "                  # в данном графике я счиатаю это добавляет информативности \n",
        "    \n",
        ")\n",
        "\n",
        "fig.update_traces(\n",
        "    hoverlabel_namelength = 0, # убираем навязчивый левый надпись в ховере\n",
        "    textposition='inside', # проценты пишем над баром\n",
        "    texttemplate='<b style=\"color: #3C4048; font-size:11px;\">   %{customdata[1]}</b>',\n",
        "    hovertemplate=\"\".join([\n",
        "        \"<b style='color: #393E46'>%{customdata[1]}</b>\" # вытягиваем данные из переменной указаной в hover_data[]      \n",
        "        \"<br>Зарплата (руб): %{y}\",\n",
        "        \"<br>\",\n",
        "        \"Процент: %{customdata[0]:,.2%}\", # вытягиваем данные из переменной указаной в hover_data[]\n",
        "                                          # и форматируем чтобы проценты показывало корректно   \n",
        "        \n",
        "    ]),\n",
        ")\n",
        "\n",
        "fig.update_layout(\n",
        "    barmode='group',\n",
        "    hovermode=\"x unified\",\n",
        "    title=\"Зависимость средней заработной платы в рублях от опыта\",\n",
        "    font = dict(size=10), # уменьшим размер шрифта заголовка графика, а то не влезает\n",
        "    autosize=False,# скажи нет авторазмеру\n",
        "    width=700,# фиксируем ширину в px\n",
        "    height=500,# фиксируем высоту в px\n",
        "    margin=dict(\n",
        "      r=30, #задаем отступ в 30 px справа для всего холста\n",
        "      b=60, # задаем отступ в 60 px снизу для всего холста\n",
        "      t=100,\n",
        "      l=100\n",
        "    ),\n",
        "    legend=dict(# играемся с параметрами легенды\n",
        "        borderwidth = .5,# ширина рамки в полпикселя\n",
        "        bordercolor = '#cbd7de',# цвет рамки\n",
        "        bgcolor = '#f2faff',# цвет фона\n",
        "        orientation=\"h\", # показать сверху\n",
        "        yanchor=\"bottom\",# вертикальное выравнивание по нижней части легенды относительно холста\n",
        "        y=1.01, # сдвигаем на 1% выше, чтобы не сливалась нижняя граница рамки легенды с графиком\n",
        "        xanchor=\"right\", # выравнивание блока легенды по правому краю\n",
        "        x=1, # никаких сдвигов не надо, будет на уровне с графиком по правому краю\n",
        "        title_text=\"\", # убираем title для легенды, в данном случае понятно без лишних текстов\n",
        "    ),      \n",
        "    yaxis=dict(\n",
        "        title_text=\"Средняя зарплата (руб)\", # меняем название заголовка оси абсцисс\n",
        "        titlefont=dict(size=15),  # ее размер \n",
        "        range = (0,30e4), # увеличивем диапазон отражения по оси ординат, \n",
        "                          # чтобы не срезалась отрисовка процентов над левым баром        \n",
        "    ),\n",
        "    xaxis=dict(\n",
        "        title_text=\"Опыт\", # меняем название заголовка оси абсцисс\n",
        "        titlefont=dict(size=15),  # ее размер \n",
        "    ), \n",
        "  paper_bgcolor=\"#eaf7ff\",# цвет фона холста\n",
        ")\n",
        "\n",
        "fig.show()\n"
      ]
    },
    {
      "cell_type": "markdown",
      "id": "b115bfe0",
      "metadata": {},
      "source": [
        "Поверхностное разделение по зависимости Опыта к зарплате между DS вакансиями и Другими, показывает, что в любых сегментах Опыта (кроме более 6 лет, там вообще нет данных по DS),\n",
        "Зарплата DS специалиста почти в 2 раза выше, чем любой другой специальности.\n",
        "\n",
        "Отсутствие Опыта более 6 лет, говорит, что специальность для HH.RU достаточно молодая на рынке труда\n",
        "\n",
        "Также видна \"крутая\" зависимость роста зарплаты от опыта, что для DS, что для других специальностей.\n",
        "\n",
        "Средняя зарплата DS вообще без опыта, составляет 74к, что является соразмерной средней зарплатой для других специальностей с опытом 1 - 3 года, что несколько странно. Это говорит что, вообще нет смысла устраиваться на работу по другой специальности и набирать опыт, когда сразу можно можно попытаться протиснуться без опыта на такие же денежные условия."
      ]
    },
    {
      "cell_type": "code",
      "execution_count": 115,
      "id": "9a058200",
      "metadata": {},
      "outputs": [],
      "source": [
        "# Запрос показывающий какие навыки чаще всего присутствуют в списке навыков вакансий DS\n",
        "sql_dop_2 = f'''\n",
        "    \n",
        "    WITH DSOnly as (\n",
        "    SELECT\n",
        "      *\n",
        "    FROM public.vacancies as v\n",
        "    WHERE\n",
        "    {where_DS_Only}\n",
        "    )\n",
        "    \n",
        "    SELECT\n",
        "      -- разделим строку с ключевыми навыками по символу табуляции\n",
        "      -- чтобы узнать какие навыки указывают в вакансиях для DS\n",
        "      regexp_split_to_table(ds.key_skills, chr(9)) as skill\n",
        "      ,count(*) as skill_count\n",
        "      --посчитаем процент количества каждого из навыков\n",
        "      ,round(count(*) * 100.0 / count(count(*)) over(),2) as pers\n",
        "    FROM DSOnly as ds\n",
        "    GROUP BY skill\n",
        "    ORDER BY skill_count desc\n",
        "    LIMIT 20\n",
        "    ;\n",
        "  '''"
      ]
    },
    {
      "cell_type": "code",
      "execution_count": 116,
      "id": "ead38a67",
      "metadata": {},
      "outputs": [
        {
          "data": {
            "text/html": [
              "<div>\n",
              "<style scoped>\n",
              "    .dataframe tbody tr th:only-of-type {\n",
              "        vertical-align: middle;\n",
              "    }\n",
              "\n",
              "    .dataframe tbody tr th {\n",
              "        vertical-align: top;\n",
              "    }\n",
              "\n",
              "    .dataframe thead th {\n",
              "        text-align: right;\n",
              "    }\n",
              "</style>\n",
              "<table border=\"1\" class=\"dataframe\">\n",
              "  <thead>\n",
              "    <tr style=\"text-align: right;\">\n",
              "      <th></th>\n",
              "      <th>skill</th>\n",
              "      <th>skill_count</th>\n",
              "      <th>pers</th>\n",
              "    </tr>\n",
              "  </thead>\n",
              "  <tbody>\n",
              "    <tr>\n",
              "      <th>0</th>\n",
              "      <td>Python</td>\n",
              "      <td>348</td>\n",
              "      <td>80.93</td>\n",
              "    </tr>\n",
              "    <tr>\n",
              "      <th>1</th>\n",
              "      <td>SQL</td>\n",
              "      <td>191</td>\n",
              "      <td>44.42</td>\n",
              "    </tr>\n",
              "    <tr>\n",
              "      <th>2</th>\n",
              "      <td>Machine Learning</td>\n",
              "      <td>114</td>\n",
              "      <td>26.51</td>\n",
              "    </tr>\n",
              "    <tr>\n",
              "      <th>3</th>\n",
              "      <td>Git</td>\n",
              "      <td>66</td>\n",
              "      <td>15.35</td>\n",
              "    </tr>\n",
              "    <tr>\n",
              "      <th>4</th>\n",
              "      <td>Математическая статистика</td>\n",
              "      <td>63</td>\n",
              "      <td>14.65</td>\n",
              "    </tr>\n",
              "    <tr>\n",
              "      <th>5</th>\n",
              "      <td>Data Analysis</td>\n",
              "      <td>54</td>\n",
              "      <td>12.56</td>\n",
              "    </tr>\n",
              "    <tr>\n",
              "      <th>6</th>\n",
              "      <td>Data Science</td>\n",
              "      <td>52</td>\n",
              "      <td>12.09</td>\n",
              "    </tr>\n",
              "    <tr>\n",
              "      <th>7</th>\n",
              "      <td>Pandas</td>\n",
              "      <td>52</td>\n",
              "      <td>12.09</td>\n",
              "    </tr>\n",
              "    <tr>\n",
              "      <th>8</th>\n",
              "      <td>ML</td>\n",
              "      <td>49</td>\n",
              "      <td>11.40</td>\n",
              "    </tr>\n",
              "    <tr>\n",
              "      <th>9</th>\n",
              "      <td>Английский язык</td>\n",
              "      <td>48</td>\n",
              "      <td>11.16</td>\n",
              "    </tr>\n",
              "    <tr>\n",
              "      <th>10</th>\n",
              "      <td>Linux</td>\n",
              "      <td>47</td>\n",
              "      <td>10.93</td>\n",
              "    </tr>\n",
              "    <tr>\n",
              "      <th>11</th>\n",
              "      <td>Анализ данных</td>\n",
              "      <td>46</td>\n",
              "      <td>10.70</td>\n",
              "    </tr>\n",
              "    <tr>\n",
              "      <th>12</th>\n",
              "      <td>PyTorch</td>\n",
              "      <td>46</td>\n",
              "      <td>10.70</td>\n",
              "    </tr>\n",
              "    <tr>\n",
              "      <th>13</th>\n",
              "      <td>Big Data</td>\n",
              "      <td>42</td>\n",
              "      <td>9.77</td>\n",
              "    </tr>\n",
              "    <tr>\n",
              "      <th>14</th>\n",
              "      <td>Математическое моделирование</td>\n",
              "      <td>41</td>\n",
              "      <td>9.53</td>\n",
              "    </tr>\n",
              "    <tr>\n",
              "      <th>15</th>\n",
              "      <td>Статистический анализ</td>\n",
              "      <td>40</td>\n",
              "      <td>9.30</td>\n",
              "    </tr>\n",
              "    <tr>\n",
              "      <th>16</th>\n",
              "      <td>NLP</td>\n",
              "      <td>40</td>\n",
              "      <td>9.30</td>\n",
              "    </tr>\n",
              "    <tr>\n",
              "      <th>17</th>\n",
              "      <td>C++</td>\n",
              "      <td>39</td>\n",
              "      <td>9.07</td>\n",
              "    </tr>\n",
              "    <tr>\n",
              "      <th>18</th>\n",
              "      <td>Spark</td>\n",
              "      <td>38</td>\n",
              "      <td>8.84</td>\n",
              "    </tr>\n",
              "    <tr>\n",
              "      <th>19</th>\n",
              "      <td>Tensorflow</td>\n",
              "      <td>35</td>\n",
              "      <td>8.14</td>\n",
              "    </tr>\n",
              "  </tbody>\n",
              "</table>\n",
              "</div>"
            ],
            "text/plain": [
              "                           skill  skill_count   pers\n",
              "0                         Python          348  80.93\n",
              "1                            SQL          191  44.42\n",
              "2               Machine Learning          114  26.51\n",
              "3                            Git           66  15.35\n",
              "4      Математическая статистика           63  14.65\n",
              "5                  Data Analysis           54  12.56\n",
              "6                   Data Science           52  12.09\n",
              "7                         Pandas           52  12.09\n",
              "8                             ML           49  11.40\n",
              "9                Английский язык           48  11.16\n",
              "10                         Linux           47  10.93\n",
              "11                 Анализ данных           46  10.70\n",
              "12                       PyTorch           46  10.70\n",
              "13                      Big Data           42   9.77\n",
              "14  Математическое моделирование           41   9.53\n",
              "15         Статистический анализ           40   9.30\n",
              "16                           NLP           40   9.30\n",
              "17                           C++           39   9.07\n",
              "18                         Spark           38   8.84\n",
              "19                    Tensorflow           35   8.14"
            ]
          },
          "execution_count": 116,
          "metadata": {},
          "output_type": "execute_result"
        }
      ],
      "source": [
        "# Сохраним DataFrame, так как это будет иcпользовано в 4 дополнительном исследовании\n",
        "topSkill = sqlExecution(sql_dop_2)\n",
        "topSkill\n"
      ]
    },
    {
      "cell_type": "markdown",
      "id": "927afd2b",
      "metadata": {},
      "source": [
        "Как мы видим:\n",
        "* В 81% одним из навыков в вакансии DS является Python\n",
        "* На втором месте идет SQL с 45%\n",
        "* Machine learning и ML вместе занимают около 38%\n",
        "* Далее следует Анализ данных и Data Analysis около 25%\n",
        "\n",
        "Т.е для профессии DS имея в списке навыков выше указанные навыки, шанс быстро найти работу очень высок\n"
      ]
    },
    {
      "cell_type": "code",
      "execution_count": null,
      "id": "5a39cc2b",
      "metadata": {},
      "outputs": [],
      "source": [
        "# Не очень интересный анализ, но все же, получим списки Городов,\n",
        "# где специалисты DS больше всего востребованы\n",
        "sql_dop_3 = f'''\n",
        "    WITH DSOnly as (\n",
        "    SELECT\n",
        "      *\n",
        "    FROM public.vacancies as v\n",
        "    WHERE\n",
        "    {where_DS_Only}\n",
        "    )\n",
        "    \n",
        "    SELECT \n",
        "      a.name,\n",
        "      count(distinct ds.id) as vacancies_count\n",
        "    FROM DSOnly ds\n",
        "    INNER JOIN public.areas as a ON a.id = ds.area_id\n",
        "    GROUP by a.name\n",
        "    ORDER by vacancies_count desc\n",
        "    --10 запись выпадает на Армению, не будем сравнивать ее с городами\n",
        "    LIMIT 9\n",
        "    ;\n",
        "  '''"
      ]
    },
    {
      "cell_type": "code",
      "execution_count": null,
      "id": "d173434e",
      "metadata": {},
      "outputs": [],
      "source": [
        "# Скачаем список городов миллиоников, выберем только необходимые нам признаки\n",
        "cities_info = pd.read_html(url)[1].iloc[:,1:3]\n",
        "\n",
        "# Переименуем название признаков покороче\n",
        "cities_info.columns = ['Город','Pop']\n",
        "\n",
        "# Получим DataFrame с ТОП9 городв по количеству вакансий для DS\n",
        "data_ds_areas = sqlExecution(sql_dop_3)\n",
        "\n",
        "# Подтянем к нашей таблице, данные по населению из скачанной таблице\n",
        "ci = pd.merge(data_ds_areas,cities_info, how='left', left_on='name',\\\n",
        "  right_on='Город')[['name','vacancies_count','Pop']]\n",
        "\n",
        "# к сожалению не для всех городов есть информация, можно искать другие таблицы, но в нашем случае \n",
        "# нам проще вручную добить недостающие данные\n",
        "ci.Pop.iloc[[5,6,7]] = [1777, 1975, 543]\n",
        "\n",
        "# Уберем все пробелы и приведем к целому типу для дальнейших расчетов признак Pop\n",
        "ci.Pop = ci.Pop.apply(lambda x : int(str(x).replace(' ','')))\n",
        "# Высчитаем \"виртуальный\" признак который даст понять соотношение кол-ва вакансий к населению города\n",
        "ci['Ratio'] = round(ci.apply(lambda x: (x.vacancies_count / x.Pop), axis=1)*1000,2)\n"
      ]
    },
    {
      "cell_type": "code",
      "execution_count": null,
      "id": "2e7ec4f7",
      "metadata": {},
      "outputs": [
        {
          "data": {
            "application/vnd.plotly.v1+json": {
              "config": {
                "plotlyServerURL": "https://plot.ly"
              },
              "data": [
                {
                  "customdata": [
                    [
                      219,
                      13010
                    ],
                    [
                      65,
                      5602
                    ],
                    [
                      23,
                      1634
                    ],
                    [
                      20,
                      1226
                    ],
                    [
                      16,
                      1309
                    ],
                    [
                      16,
                      1777
                    ],
                    [
                      9,
                      1975
                    ],
                    [
                      8,
                      543
                    ],
                    [
                      7,
                      1544
                    ]
                  ],
                  "hoverlabel": {
                    "namelength": 0
                  },
                  "hovertemplate": "<b style='color: yellow'>%{x}</b><br>Соотношение: %{y}<br>Количество вакансий: %{customdata[0]}<br>Население (тыс): %{customdata[1]}",
                  "legendgroup": "",
                  "line": {
                    "color": "#636efa",
                    "dash": "solid"
                  },
                  "marker": {
                    "symbol": "circle"
                  },
                  "mode": "markers+lines",
                  "name": "",
                  "orientation": "v",
                  "showlegend": false,
                  "type": "scatter",
                  "x": [
                    "Москва",
                    "Санкт-Петербург",
                    "Новосибирск",
                    "Нижний Новгород",
                    "Казань",
                    "Алматы",
                    "Минск",
                    "Томск",
                    "Екатеринбург"
                  ],
                  "xaxis": "x",
                  "y": [
                    16.83,
                    11.6,
                    14.08,
                    16.31,
                    12.22,
                    9,
                    4.56,
                    14.73,
                    4.53
                  ],
                  "yaxis": "y"
                }
              ],
              "layout": {
                "autosize": false,
                "font": {
                  "size": 10
                },
                "height": 500,
                "legend": {
                  "bgcolor": "#f2faff",
                  "bordercolor": "#cbd7de",
                  "borderwidth": 0.5,
                  "orientation": "h",
                  "title": {
                    "text": ""
                  },
                  "tracegroupgap": 0,
                  "x": 1,
                  "xanchor": "right",
                  "y": 1.01,
                  "yanchor": "bottom"
                },
                "margin": {
                  "b": 60,
                  "l": 100,
                  "r": 30,
                  "t": 100
                },
                "paper_bgcolor": "#eaf7ff",
                "template": {
                  "data": {
                    "bar": [
                      {
                        "error_x": {
                          "color": "#2a3f5f"
                        },
                        "error_y": {
                          "color": "#2a3f5f"
                        },
                        "marker": {
                          "line": {
                            "color": "#E5ECF6",
                            "width": 0.5
                          },
                          "pattern": {
                            "fillmode": "overlay",
                            "size": 10,
                            "solidity": 0.2
                          }
                        },
                        "type": "bar"
                      }
                    ],
                    "barpolar": [
                      {
                        "marker": {
                          "line": {
                            "color": "#E5ECF6",
                            "width": 0.5
                          },
                          "pattern": {
                            "fillmode": "overlay",
                            "size": 10,
                            "solidity": 0.2
                          }
                        },
                        "type": "barpolar"
                      }
                    ],
                    "carpet": [
                      {
                        "aaxis": {
                          "endlinecolor": "#2a3f5f",
                          "gridcolor": "white",
                          "linecolor": "white",
                          "minorgridcolor": "white",
                          "startlinecolor": "#2a3f5f"
                        },
                        "baxis": {
                          "endlinecolor": "#2a3f5f",
                          "gridcolor": "white",
                          "linecolor": "white",
                          "minorgridcolor": "white",
                          "startlinecolor": "#2a3f5f"
                        },
                        "type": "carpet"
                      }
                    ],
                    "choropleth": [
                      {
                        "colorbar": {
                          "outlinewidth": 0,
                          "ticks": ""
                        },
                        "type": "choropleth"
                      }
                    ],
                    "contour": [
                      {
                        "colorbar": {
                          "outlinewidth": 0,
                          "ticks": ""
                        },
                        "colorscale": [
                          [
                            0,
                            "#0d0887"
                          ],
                          [
                            0.1111111111111111,
                            "#46039f"
                          ],
                          [
                            0.2222222222222222,
                            "#7201a8"
                          ],
                          [
                            0.3333333333333333,
                            "#9c179e"
                          ],
                          [
                            0.4444444444444444,
                            "#bd3786"
                          ],
                          [
                            0.5555555555555556,
                            "#d8576b"
                          ],
                          [
                            0.6666666666666666,
                            "#ed7953"
                          ],
                          [
                            0.7777777777777778,
                            "#fb9f3a"
                          ],
                          [
                            0.8888888888888888,
                            "#fdca26"
                          ],
                          [
                            1,
                            "#f0f921"
                          ]
                        ],
                        "type": "contour"
                      }
                    ],
                    "contourcarpet": [
                      {
                        "colorbar": {
                          "outlinewidth": 0,
                          "ticks": ""
                        },
                        "type": "contourcarpet"
                      }
                    ],
                    "heatmap": [
                      {
                        "colorbar": {
                          "outlinewidth": 0,
                          "ticks": ""
                        },
                        "colorscale": [
                          [
                            0,
                            "#0d0887"
                          ],
                          [
                            0.1111111111111111,
                            "#46039f"
                          ],
                          [
                            0.2222222222222222,
                            "#7201a8"
                          ],
                          [
                            0.3333333333333333,
                            "#9c179e"
                          ],
                          [
                            0.4444444444444444,
                            "#bd3786"
                          ],
                          [
                            0.5555555555555556,
                            "#d8576b"
                          ],
                          [
                            0.6666666666666666,
                            "#ed7953"
                          ],
                          [
                            0.7777777777777778,
                            "#fb9f3a"
                          ],
                          [
                            0.8888888888888888,
                            "#fdca26"
                          ],
                          [
                            1,
                            "#f0f921"
                          ]
                        ],
                        "type": "heatmap"
                      }
                    ],
                    "heatmapgl": [
                      {
                        "colorbar": {
                          "outlinewidth": 0,
                          "ticks": ""
                        },
                        "colorscale": [
                          [
                            0,
                            "#0d0887"
                          ],
                          [
                            0.1111111111111111,
                            "#46039f"
                          ],
                          [
                            0.2222222222222222,
                            "#7201a8"
                          ],
                          [
                            0.3333333333333333,
                            "#9c179e"
                          ],
                          [
                            0.4444444444444444,
                            "#bd3786"
                          ],
                          [
                            0.5555555555555556,
                            "#d8576b"
                          ],
                          [
                            0.6666666666666666,
                            "#ed7953"
                          ],
                          [
                            0.7777777777777778,
                            "#fb9f3a"
                          ],
                          [
                            0.8888888888888888,
                            "#fdca26"
                          ],
                          [
                            1,
                            "#f0f921"
                          ]
                        ],
                        "type": "heatmapgl"
                      }
                    ],
                    "histogram": [
                      {
                        "marker": {
                          "pattern": {
                            "fillmode": "overlay",
                            "size": 10,
                            "solidity": 0.2
                          }
                        },
                        "type": "histogram"
                      }
                    ],
                    "histogram2d": [
                      {
                        "colorbar": {
                          "outlinewidth": 0,
                          "ticks": ""
                        },
                        "colorscale": [
                          [
                            0,
                            "#0d0887"
                          ],
                          [
                            0.1111111111111111,
                            "#46039f"
                          ],
                          [
                            0.2222222222222222,
                            "#7201a8"
                          ],
                          [
                            0.3333333333333333,
                            "#9c179e"
                          ],
                          [
                            0.4444444444444444,
                            "#bd3786"
                          ],
                          [
                            0.5555555555555556,
                            "#d8576b"
                          ],
                          [
                            0.6666666666666666,
                            "#ed7953"
                          ],
                          [
                            0.7777777777777778,
                            "#fb9f3a"
                          ],
                          [
                            0.8888888888888888,
                            "#fdca26"
                          ],
                          [
                            1,
                            "#f0f921"
                          ]
                        ],
                        "type": "histogram2d"
                      }
                    ],
                    "histogram2dcontour": [
                      {
                        "colorbar": {
                          "outlinewidth": 0,
                          "ticks": ""
                        },
                        "colorscale": [
                          [
                            0,
                            "#0d0887"
                          ],
                          [
                            0.1111111111111111,
                            "#46039f"
                          ],
                          [
                            0.2222222222222222,
                            "#7201a8"
                          ],
                          [
                            0.3333333333333333,
                            "#9c179e"
                          ],
                          [
                            0.4444444444444444,
                            "#bd3786"
                          ],
                          [
                            0.5555555555555556,
                            "#d8576b"
                          ],
                          [
                            0.6666666666666666,
                            "#ed7953"
                          ],
                          [
                            0.7777777777777778,
                            "#fb9f3a"
                          ],
                          [
                            0.8888888888888888,
                            "#fdca26"
                          ],
                          [
                            1,
                            "#f0f921"
                          ]
                        ],
                        "type": "histogram2dcontour"
                      }
                    ],
                    "mesh3d": [
                      {
                        "colorbar": {
                          "outlinewidth": 0,
                          "ticks": ""
                        },
                        "type": "mesh3d"
                      }
                    ],
                    "parcoords": [
                      {
                        "line": {
                          "colorbar": {
                            "outlinewidth": 0,
                            "ticks": ""
                          }
                        },
                        "type": "parcoords"
                      }
                    ],
                    "pie": [
                      {
                        "automargin": true,
                        "type": "pie"
                      }
                    ],
                    "scatter": [
                      {
                        "fillpattern": {
                          "fillmode": "overlay",
                          "size": 10,
                          "solidity": 0.2
                        },
                        "type": "scatter"
                      }
                    ],
                    "scatter3d": [
                      {
                        "line": {
                          "colorbar": {
                            "outlinewidth": 0,
                            "ticks": ""
                          }
                        },
                        "marker": {
                          "colorbar": {
                            "outlinewidth": 0,
                            "ticks": ""
                          }
                        },
                        "type": "scatter3d"
                      }
                    ],
                    "scattercarpet": [
                      {
                        "marker": {
                          "colorbar": {
                            "outlinewidth": 0,
                            "ticks": ""
                          }
                        },
                        "type": "scattercarpet"
                      }
                    ],
                    "scattergeo": [
                      {
                        "marker": {
                          "colorbar": {
                            "outlinewidth": 0,
                            "ticks": ""
                          }
                        },
                        "type": "scattergeo"
                      }
                    ],
                    "scattergl": [
                      {
                        "marker": {
                          "colorbar": {
                            "outlinewidth": 0,
                            "ticks": ""
                          }
                        },
                        "type": "scattergl"
                      }
                    ],
                    "scattermapbox": [
                      {
                        "marker": {
                          "colorbar": {
                            "outlinewidth": 0,
                            "ticks": ""
                          }
                        },
                        "type": "scattermapbox"
                      }
                    ],
                    "scatterpolar": [
                      {
                        "marker": {
                          "colorbar": {
                            "outlinewidth": 0,
                            "ticks": ""
                          }
                        },
                        "type": "scatterpolar"
                      }
                    ],
                    "scatterpolargl": [
                      {
                        "marker": {
                          "colorbar": {
                            "outlinewidth": 0,
                            "ticks": ""
                          }
                        },
                        "type": "scatterpolargl"
                      }
                    ],
                    "scatterternary": [
                      {
                        "marker": {
                          "colorbar": {
                            "outlinewidth": 0,
                            "ticks": ""
                          }
                        },
                        "type": "scatterternary"
                      }
                    ],
                    "surface": [
                      {
                        "colorbar": {
                          "outlinewidth": 0,
                          "ticks": ""
                        },
                        "colorscale": [
                          [
                            0,
                            "#0d0887"
                          ],
                          [
                            0.1111111111111111,
                            "#46039f"
                          ],
                          [
                            0.2222222222222222,
                            "#7201a8"
                          ],
                          [
                            0.3333333333333333,
                            "#9c179e"
                          ],
                          [
                            0.4444444444444444,
                            "#bd3786"
                          ],
                          [
                            0.5555555555555556,
                            "#d8576b"
                          ],
                          [
                            0.6666666666666666,
                            "#ed7953"
                          ],
                          [
                            0.7777777777777778,
                            "#fb9f3a"
                          ],
                          [
                            0.8888888888888888,
                            "#fdca26"
                          ],
                          [
                            1,
                            "#f0f921"
                          ]
                        ],
                        "type": "surface"
                      }
                    ],
                    "table": [
                      {
                        "cells": {
                          "fill": {
                            "color": "#EBF0F8"
                          },
                          "line": {
                            "color": "white"
                          }
                        },
                        "header": {
                          "fill": {
                            "color": "#C8D4E3"
                          },
                          "line": {
                            "color": "white"
                          }
                        },
                        "type": "table"
                      }
                    ]
                  },
                  "layout": {
                    "annotationdefaults": {
                      "arrowcolor": "#2a3f5f",
                      "arrowhead": 0,
                      "arrowwidth": 1
                    },
                    "autotypenumbers": "strict",
                    "coloraxis": {
                      "colorbar": {
                        "outlinewidth": 0,
                        "ticks": ""
                      }
                    },
                    "colorscale": {
                      "diverging": [
                        [
                          0,
                          "#8e0152"
                        ],
                        [
                          0.1,
                          "#c51b7d"
                        ],
                        [
                          0.2,
                          "#de77ae"
                        ],
                        [
                          0.3,
                          "#f1b6da"
                        ],
                        [
                          0.4,
                          "#fde0ef"
                        ],
                        [
                          0.5,
                          "#f7f7f7"
                        ],
                        [
                          0.6,
                          "#e6f5d0"
                        ],
                        [
                          0.7,
                          "#b8e186"
                        ],
                        [
                          0.8,
                          "#7fbc41"
                        ],
                        [
                          0.9,
                          "#4d9221"
                        ],
                        [
                          1,
                          "#276419"
                        ]
                      ],
                      "sequential": [
                        [
                          0,
                          "#0d0887"
                        ],
                        [
                          0.1111111111111111,
                          "#46039f"
                        ],
                        [
                          0.2222222222222222,
                          "#7201a8"
                        ],
                        [
                          0.3333333333333333,
                          "#9c179e"
                        ],
                        [
                          0.4444444444444444,
                          "#bd3786"
                        ],
                        [
                          0.5555555555555556,
                          "#d8576b"
                        ],
                        [
                          0.6666666666666666,
                          "#ed7953"
                        ],
                        [
                          0.7777777777777778,
                          "#fb9f3a"
                        ],
                        [
                          0.8888888888888888,
                          "#fdca26"
                        ],
                        [
                          1,
                          "#f0f921"
                        ]
                      ],
                      "sequentialminus": [
                        [
                          0,
                          "#0d0887"
                        ],
                        [
                          0.1111111111111111,
                          "#46039f"
                        ],
                        [
                          0.2222222222222222,
                          "#7201a8"
                        ],
                        [
                          0.3333333333333333,
                          "#9c179e"
                        ],
                        [
                          0.4444444444444444,
                          "#bd3786"
                        ],
                        [
                          0.5555555555555556,
                          "#d8576b"
                        ],
                        [
                          0.6666666666666666,
                          "#ed7953"
                        ],
                        [
                          0.7777777777777778,
                          "#fb9f3a"
                        ],
                        [
                          0.8888888888888888,
                          "#fdca26"
                        ],
                        [
                          1,
                          "#f0f921"
                        ]
                      ]
                    },
                    "colorway": [
                      "#636efa",
                      "#EF553B",
                      "#00cc96",
                      "#ab63fa",
                      "#FFA15A",
                      "#19d3f3",
                      "#FF6692",
                      "#B6E880",
                      "#FF97FF",
                      "#FECB52"
                    ],
                    "font": {
                      "color": "#2a3f5f"
                    },
                    "geo": {
                      "bgcolor": "white",
                      "lakecolor": "white",
                      "landcolor": "#E5ECF6",
                      "showlakes": true,
                      "showland": true,
                      "subunitcolor": "white"
                    },
                    "hoverlabel": {
                      "align": "left"
                    },
                    "hovermode": "closest",
                    "mapbox": {
                      "style": "light"
                    },
                    "paper_bgcolor": "white",
                    "plot_bgcolor": "#E5ECF6",
                    "polar": {
                      "angularaxis": {
                        "gridcolor": "white",
                        "linecolor": "white",
                        "ticks": ""
                      },
                      "bgcolor": "#E5ECF6",
                      "radialaxis": {
                        "gridcolor": "white",
                        "linecolor": "white",
                        "ticks": ""
                      }
                    },
                    "scene": {
                      "xaxis": {
                        "backgroundcolor": "#E5ECF6",
                        "gridcolor": "white",
                        "gridwidth": 2,
                        "linecolor": "white",
                        "showbackground": true,
                        "ticks": "",
                        "zerolinecolor": "white"
                      },
                      "yaxis": {
                        "backgroundcolor": "#E5ECF6",
                        "gridcolor": "white",
                        "gridwidth": 2,
                        "linecolor": "white",
                        "showbackground": true,
                        "ticks": "",
                        "zerolinecolor": "white"
                      },
                      "zaxis": {
                        "backgroundcolor": "#E5ECF6",
                        "gridcolor": "white",
                        "gridwidth": 2,
                        "linecolor": "white",
                        "showbackground": true,
                        "ticks": "",
                        "zerolinecolor": "white"
                      }
                    },
                    "shapedefaults": {
                      "line": {
                        "color": "#2a3f5f"
                      }
                    },
                    "ternary": {
                      "aaxis": {
                        "gridcolor": "white",
                        "linecolor": "white",
                        "ticks": ""
                      },
                      "baxis": {
                        "gridcolor": "white",
                        "linecolor": "white",
                        "ticks": ""
                      },
                      "bgcolor": "#E5ECF6",
                      "caxis": {
                        "gridcolor": "white",
                        "linecolor": "white",
                        "ticks": ""
                      }
                    },
                    "title": {
                      "x": 0.05
                    },
                    "xaxis": {
                      "automargin": true,
                      "gridcolor": "white",
                      "linecolor": "white",
                      "ticks": "",
                      "title": {
                        "standoff": 15
                      },
                      "zerolinecolor": "white",
                      "zerolinewidth": 2
                    },
                    "yaxis": {
                      "automargin": true,
                      "gridcolor": "white",
                      "linecolor": "white",
                      "ticks": "",
                      "title": {
                        "standoff": 15
                      },
                      "zerolinecolor": "white",
                      "zerolinewidth": 2
                    }
                  }
                },
                "title": {
                  "text": "Отношение количества вакансий к населению города"
                },
                "width": 700,
                "xaxis": {
                  "anchor": "y",
                  "domain": [
                    0,
                    1
                  ],
                  "title": {
                    "text": ""
                  }
                },
                "yaxis": {
                  "anchor": "x",
                  "domain": [
                    0,
                    1
                  ],
                  "range": [
                    0,
                    20
                  ],
                  "title": {
                    "font": {
                      "size": 12
                    },
                    "text": "Отношение"
                  }
                }
              }
            },
            "text/html": [
              "<div>                            <div id=\"392f871c-1215-443d-ac3b-ac3cc421696a\" class=\"plotly-graph-div\" style=\"height:500px; width:700px;\"></div>            <script type=\"text/javascript\">                require([\"plotly\"], function(Plotly) {                    window.PLOTLYENV=window.PLOTLYENV || {};                                    if (document.getElementById(\"392f871c-1215-443d-ac3b-ac3cc421696a\")) {                    Plotly.newPlot(                        \"392f871c-1215-443d-ac3b-ac3cc421696a\",                        [{\"customdata\":[[219,13010],[65,5602],[23,1634],[20,1226],[16,1309],[16,1777],[9,1975],[8,543],[7,1544]],\"hovertemplate\":\"<b style='color: yellow'>%{x}</b><br>\\u0421\\u043e\\u043e\\u0442\\u043d\\u043e\\u0448\\u0435\\u043d\\u0438\\u0435: %{y}<br>\\u041a\\u043e\\u043b\\u0438\\u0447\\u0435\\u0441\\u0442\\u0432\\u043e \\u0432\\u0430\\u043a\\u0430\\u043d\\u0441\\u0438\\u0439: %{customdata[0]}<br>\\u041d\\u0430\\u0441\\u0435\\u043b\\u0435\\u043d\\u0438\\u0435 (\\u0442\\u044b\\u0441): %{customdata[1]}\",\"legendgroup\":\"\",\"line\":{\"color\":\"#636efa\",\"dash\":\"solid\"},\"marker\":{\"symbol\":\"circle\"},\"mode\":\"markers+lines\",\"name\":\"\",\"orientation\":\"v\",\"showlegend\":false,\"x\":[\"\\u041c\\u043e\\u0441\\u043a\\u0432\\u0430\",\"\\u0421\\u0430\\u043d\\u043a\\u0442-\\u041f\\u0435\\u0442\\u0435\\u0440\\u0431\\u0443\\u0440\\u0433\",\"\\u041d\\u043e\\u0432\\u043e\\u0441\\u0438\\u0431\\u0438\\u0440\\u0441\\u043a\",\"\\u041d\\u0438\\u0436\\u043d\\u0438\\u0439 \\u041d\\u043e\\u0432\\u0433\\u043e\\u0440\\u043e\\u0434\",\"\\u041a\\u0430\\u0437\\u0430\\u043d\\u044c\",\"\\u0410\\u043b\\u043c\\u0430\\u0442\\u044b\",\"\\u041c\\u0438\\u043d\\u0441\\u043a\",\"\\u0422\\u043e\\u043c\\u0441\\u043a\",\"\\u0415\\u043a\\u0430\\u0442\\u0435\\u0440\\u0438\\u043d\\u0431\\u0443\\u0440\\u0433\"],\"xaxis\":\"x\",\"y\":[16.83,11.6,14.08,16.31,12.22,9.0,4.56,14.73,4.53],\"yaxis\":\"y\",\"type\":\"scatter\",\"hoverlabel\":{\"namelength\":0}}],                        {\"template\":{\"data\":{\"histogram2dcontour\":[{\"type\":\"histogram2dcontour\",\"colorbar\":{\"outlinewidth\":0,\"ticks\":\"\"},\"colorscale\":[[0.0,\"#0d0887\"],[0.1111111111111111,\"#46039f\"],[0.2222222222222222,\"#7201a8\"],[0.3333333333333333,\"#9c179e\"],[0.4444444444444444,\"#bd3786\"],[0.5555555555555556,\"#d8576b\"],[0.6666666666666666,\"#ed7953\"],[0.7777777777777778,\"#fb9f3a\"],[0.8888888888888888,\"#fdca26\"],[1.0,\"#f0f921\"]]}],\"choropleth\":[{\"type\":\"choropleth\",\"colorbar\":{\"outlinewidth\":0,\"ticks\":\"\"}}],\"histogram2d\":[{\"type\":\"histogram2d\",\"colorbar\":{\"outlinewidth\":0,\"ticks\":\"\"},\"colorscale\":[[0.0,\"#0d0887\"],[0.1111111111111111,\"#46039f\"],[0.2222222222222222,\"#7201a8\"],[0.3333333333333333,\"#9c179e\"],[0.4444444444444444,\"#bd3786\"],[0.5555555555555556,\"#d8576b\"],[0.6666666666666666,\"#ed7953\"],[0.7777777777777778,\"#fb9f3a\"],[0.8888888888888888,\"#fdca26\"],[1.0,\"#f0f921\"]]}],\"heatmap\":[{\"type\":\"heatmap\",\"colorbar\":{\"outlinewidth\":0,\"ticks\":\"\"},\"colorscale\":[[0.0,\"#0d0887\"],[0.1111111111111111,\"#46039f\"],[0.2222222222222222,\"#7201a8\"],[0.3333333333333333,\"#9c179e\"],[0.4444444444444444,\"#bd3786\"],[0.5555555555555556,\"#d8576b\"],[0.6666666666666666,\"#ed7953\"],[0.7777777777777778,\"#fb9f3a\"],[0.8888888888888888,\"#fdca26\"],[1.0,\"#f0f921\"]]}],\"heatmapgl\":[{\"type\":\"heatmapgl\",\"colorbar\":{\"outlinewidth\":0,\"ticks\":\"\"},\"colorscale\":[[0.0,\"#0d0887\"],[0.1111111111111111,\"#46039f\"],[0.2222222222222222,\"#7201a8\"],[0.3333333333333333,\"#9c179e\"],[0.4444444444444444,\"#bd3786\"],[0.5555555555555556,\"#d8576b\"],[0.6666666666666666,\"#ed7953\"],[0.7777777777777778,\"#fb9f3a\"],[0.8888888888888888,\"#fdca26\"],[1.0,\"#f0f921\"]]}],\"contourcarpet\":[{\"type\":\"contourcarpet\",\"colorbar\":{\"outlinewidth\":0,\"ticks\":\"\"}}],\"contour\":[{\"type\":\"contour\",\"colorbar\":{\"outlinewidth\":0,\"ticks\":\"\"},\"colorscale\":[[0.0,\"#0d0887\"],[0.1111111111111111,\"#46039f\"],[0.2222222222222222,\"#7201a8\"],[0.3333333333333333,\"#9c179e\"],[0.4444444444444444,\"#bd3786\"],[0.5555555555555556,\"#d8576b\"],[0.6666666666666666,\"#ed7953\"],[0.7777777777777778,\"#fb9f3a\"],[0.8888888888888888,\"#fdca26\"],[1.0,\"#f0f921\"]]}],\"surface\":[{\"type\":\"surface\",\"colorbar\":{\"outlinewidth\":0,\"ticks\":\"\"},\"colorscale\":[[0.0,\"#0d0887\"],[0.1111111111111111,\"#46039f\"],[0.2222222222222222,\"#7201a8\"],[0.3333333333333333,\"#9c179e\"],[0.4444444444444444,\"#bd3786\"],[0.5555555555555556,\"#d8576b\"],[0.6666666666666666,\"#ed7953\"],[0.7777777777777778,\"#fb9f3a\"],[0.8888888888888888,\"#fdca26\"],[1.0,\"#f0f921\"]]}],\"mesh3d\":[{\"type\":\"mesh3d\",\"colorbar\":{\"outlinewidth\":0,\"ticks\":\"\"}}],\"scatter\":[{\"fillpattern\":{\"fillmode\":\"overlay\",\"size\":10,\"solidity\":0.2},\"type\":\"scatter\"}],\"parcoords\":[{\"type\":\"parcoords\",\"line\":{\"colorbar\":{\"outlinewidth\":0,\"ticks\":\"\"}}}],\"scatterpolargl\":[{\"type\":\"scatterpolargl\",\"marker\":{\"colorbar\":{\"outlinewidth\":0,\"ticks\":\"\"}}}],\"bar\":[{\"error_x\":{\"color\":\"#2a3f5f\"},\"error_y\":{\"color\":\"#2a3f5f\"},\"marker\":{\"line\":{\"color\":\"#E5ECF6\",\"width\":0.5},\"pattern\":{\"fillmode\":\"overlay\",\"size\":10,\"solidity\":0.2}},\"type\":\"bar\"}],\"scattergeo\":[{\"type\":\"scattergeo\",\"marker\":{\"colorbar\":{\"outlinewidth\":0,\"ticks\":\"\"}}}],\"scatterpolar\":[{\"type\":\"scatterpolar\",\"marker\":{\"colorbar\":{\"outlinewidth\":0,\"ticks\":\"\"}}}],\"histogram\":[{\"marker\":{\"pattern\":{\"fillmode\":\"overlay\",\"size\":10,\"solidity\":0.2}},\"type\":\"histogram\"}],\"scattergl\":[{\"type\":\"scattergl\",\"marker\":{\"colorbar\":{\"outlinewidth\":0,\"ticks\":\"\"}}}],\"scatter3d\":[{\"type\":\"scatter3d\",\"line\":{\"colorbar\":{\"outlinewidth\":0,\"ticks\":\"\"}},\"marker\":{\"colorbar\":{\"outlinewidth\":0,\"ticks\":\"\"}}}],\"scattermapbox\":[{\"type\":\"scattermapbox\",\"marker\":{\"colorbar\":{\"outlinewidth\":0,\"ticks\":\"\"}}}],\"scatterternary\":[{\"type\":\"scatterternary\",\"marker\":{\"colorbar\":{\"outlinewidth\":0,\"ticks\":\"\"}}}],\"scattercarpet\":[{\"type\":\"scattercarpet\",\"marker\":{\"colorbar\":{\"outlinewidth\":0,\"ticks\":\"\"}}}],\"carpet\":[{\"aaxis\":{\"endlinecolor\":\"#2a3f5f\",\"gridcolor\":\"white\",\"linecolor\":\"white\",\"minorgridcolor\":\"white\",\"startlinecolor\":\"#2a3f5f\"},\"baxis\":{\"endlinecolor\":\"#2a3f5f\",\"gridcolor\":\"white\",\"linecolor\":\"white\",\"minorgridcolor\":\"white\",\"startlinecolor\":\"#2a3f5f\"},\"type\":\"carpet\"}],\"table\":[{\"cells\":{\"fill\":{\"color\":\"#EBF0F8\"},\"line\":{\"color\":\"white\"}},\"header\":{\"fill\":{\"color\":\"#C8D4E3\"},\"line\":{\"color\":\"white\"}},\"type\":\"table\"}],\"barpolar\":[{\"marker\":{\"line\":{\"color\":\"#E5ECF6\",\"width\":0.5},\"pattern\":{\"fillmode\":\"overlay\",\"size\":10,\"solidity\":0.2}},\"type\":\"barpolar\"}],\"pie\":[{\"automargin\":true,\"type\":\"pie\"}]},\"layout\":{\"autotypenumbers\":\"strict\",\"colorway\":[\"#636efa\",\"#EF553B\",\"#00cc96\",\"#ab63fa\",\"#FFA15A\",\"#19d3f3\",\"#FF6692\",\"#B6E880\",\"#FF97FF\",\"#FECB52\"],\"font\":{\"color\":\"#2a3f5f\"},\"hovermode\":\"closest\",\"hoverlabel\":{\"align\":\"left\"},\"paper_bgcolor\":\"white\",\"plot_bgcolor\":\"#E5ECF6\",\"polar\":{\"bgcolor\":\"#E5ECF6\",\"angularaxis\":{\"gridcolor\":\"white\",\"linecolor\":\"white\",\"ticks\":\"\"},\"radialaxis\":{\"gridcolor\":\"white\",\"linecolor\":\"white\",\"ticks\":\"\"}},\"ternary\":{\"bgcolor\":\"#E5ECF6\",\"aaxis\":{\"gridcolor\":\"white\",\"linecolor\":\"white\",\"ticks\":\"\"},\"baxis\":{\"gridcolor\":\"white\",\"linecolor\":\"white\",\"ticks\":\"\"},\"caxis\":{\"gridcolor\":\"white\",\"linecolor\":\"white\",\"ticks\":\"\"}},\"coloraxis\":{\"colorbar\":{\"outlinewidth\":0,\"ticks\":\"\"}},\"colorscale\":{\"sequential\":[[0.0,\"#0d0887\"],[0.1111111111111111,\"#46039f\"],[0.2222222222222222,\"#7201a8\"],[0.3333333333333333,\"#9c179e\"],[0.4444444444444444,\"#bd3786\"],[0.5555555555555556,\"#d8576b\"],[0.6666666666666666,\"#ed7953\"],[0.7777777777777778,\"#fb9f3a\"],[0.8888888888888888,\"#fdca26\"],[1.0,\"#f0f921\"]],\"sequentialminus\":[[0.0,\"#0d0887\"],[0.1111111111111111,\"#46039f\"],[0.2222222222222222,\"#7201a8\"],[0.3333333333333333,\"#9c179e\"],[0.4444444444444444,\"#bd3786\"],[0.5555555555555556,\"#d8576b\"],[0.6666666666666666,\"#ed7953\"],[0.7777777777777778,\"#fb9f3a\"],[0.8888888888888888,\"#fdca26\"],[1.0,\"#f0f921\"]],\"diverging\":[[0,\"#8e0152\"],[0.1,\"#c51b7d\"],[0.2,\"#de77ae\"],[0.3,\"#f1b6da\"],[0.4,\"#fde0ef\"],[0.5,\"#f7f7f7\"],[0.6,\"#e6f5d0\"],[0.7,\"#b8e186\"],[0.8,\"#7fbc41\"],[0.9,\"#4d9221\"],[1,\"#276419\"]]},\"xaxis\":{\"gridcolor\":\"white\",\"linecolor\":\"white\",\"ticks\":\"\",\"title\":{\"standoff\":15},\"zerolinecolor\":\"white\",\"automargin\":true,\"zerolinewidth\":2},\"yaxis\":{\"gridcolor\":\"white\",\"linecolor\":\"white\",\"ticks\":\"\",\"title\":{\"standoff\":15},\"zerolinecolor\":\"white\",\"automargin\":true,\"zerolinewidth\":2},\"scene\":{\"xaxis\":{\"backgroundcolor\":\"#E5ECF6\",\"gridcolor\":\"white\",\"linecolor\":\"white\",\"showbackground\":true,\"ticks\":\"\",\"zerolinecolor\":\"white\",\"gridwidth\":2},\"yaxis\":{\"backgroundcolor\":\"#E5ECF6\",\"gridcolor\":\"white\",\"linecolor\":\"white\",\"showbackground\":true,\"ticks\":\"\",\"zerolinecolor\":\"white\",\"gridwidth\":2},\"zaxis\":{\"backgroundcolor\":\"#E5ECF6\",\"gridcolor\":\"white\",\"linecolor\":\"white\",\"showbackground\":true,\"ticks\":\"\",\"zerolinecolor\":\"white\",\"gridwidth\":2}},\"shapedefaults\":{\"line\":{\"color\":\"#2a3f5f\"}},\"annotationdefaults\":{\"arrowcolor\":\"#2a3f5f\",\"arrowhead\":0,\"arrowwidth\":1},\"geo\":{\"bgcolor\":\"white\",\"landcolor\":\"#E5ECF6\",\"subunitcolor\":\"white\",\"showland\":true,\"showlakes\":true,\"lakecolor\":\"white\"},\"title\":{\"x\":0.05},\"mapbox\":{\"style\":\"light\"}}},\"xaxis\":{\"anchor\":\"y\",\"domain\":[0.0,1.0],\"title\":{\"text\":\"\"}},\"yaxis\":{\"anchor\":\"x\",\"domain\":[0.0,1.0],\"title\":{\"text\":\"\\u041e\\u0442\\u043d\\u043e\\u0448\\u0435\\u043d\\u0438\\u0435\",\"font\":{\"size\":12}},\"range\":[0,20]},\"legend\":{\"tracegroupgap\":0,\"title\":{\"text\":\"\"},\"borderwidth\":0.5,\"bordercolor\":\"#cbd7de\",\"bgcolor\":\"#f2faff\",\"orientation\":\"h\",\"yanchor\":\"bottom\",\"y\":1.01,\"xanchor\":\"right\",\"x\":1},\"margin\":{\"t\":100,\"r\":30,\"b\":60,\"l\":100},\"font\":{\"size\":10},\"title\":{\"text\":\"\\u041e\\u0442\\u043d\\u043e\\u0448\\u0435\\u043d\\u0438\\u0435 \\u043a\\u043e\\u043b\\u0438\\u0447\\u0435\\u0441\\u0442\\u0432\\u0430 \\u0432\\u0430\\u043a\\u0430\\u043d\\u0441\\u0438\\u0439 \\u043a \\u043d\\u0430\\u0441\\u0435\\u043b\\u0435\\u043d\\u0438\\u044e \\u0433\\u043e\\u0440\\u043e\\u0434\\u0430\"},\"autosize\":false,\"width\":700,\"height\":500,\"paper_bgcolor\":\"#eaf7ff\"},                        {\"responsive\": true}                    ).then(function(){\n",
              "                            \n",
              "var gd = document.getElementById('392f871c-1215-443d-ac3b-ac3cc421696a');\n",
              "var x = new MutationObserver(function (mutations, observer) {{\n",
              "        var display = window.getComputedStyle(gd).display;\n",
              "        if (!display || display === 'none') {{\n",
              "            console.log([gd, 'removed!']);\n",
              "            Plotly.purge(gd);\n",
              "            observer.disconnect();\n",
              "        }}\n",
              "}});\n",
              "\n",
              "// Listen for the removal of the full notebook cells\n",
              "var notebookContainer = gd.closest('#notebook-container');\n",
              "if (notebookContainer) {{\n",
              "    x.observe(notebookContainer, {childList: true});\n",
              "}}\n",
              "\n",
              "// Listen for the clearing of the current output cell\n",
              "var outputEl = gd.closest('.output');\n",
              "if (outputEl) {{\n",
              "    x.observe(outputEl, {childList: true});\n",
              "}}\n",
              "\n",
              "                        })                };                });            </script>        </div>"
            ]
          },
          "metadata": {},
          "output_type": "display_data"
        }
      ],
      "source": [
        "# Построим график в отдельной ячейке, чтобы не городит в одной куче\n",
        "fig = px.line(ci, \n",
        "              x=\"name\", \n",
        "              y=\"Ratio\",\n",
        "              hover_data=['vacancies_count','Pop'] \n",
        "              )\n",
        "\n",
        "# Меняем стандартный hover на наш\n",
        "fig.update_traces(\n",
        "    mode=\"markers+lines\",\n",
        "    hovertemplate=\"\".join([\n",
        "        \"<b style='color: yellow'>%{x}</b>\" # вытягиваем данные из переменной указаной в hover_data[]      \n",
        "        \"<br>Соотношение: %{y}\",\n",
        "        \"<br>Количество вакансий: %{customdata[0]}\",\n",
        "        \"<br>Население (тыс): %{customdata[1]}\",\n",
        "    ]),\n",
        "    hoverlabel_namelength = 0, # убираем вывод ховера сверху,\n",
        "                               # потому как хочу убрать двоеточие в стандартном выводе и добавить стиль bold\n",
        ")\n",
        "\n",
        "fig.update_layout(\n",
        "    title=\"Отношение количества вакансий к населению города\",\n",
        "    font = dict(size=10), # уменьшим размер шрифта заголовка графика, а то не влезает\n",
        "    autosize=False,# скажи нет авторазмеру\n",
        "    width=700,# фиксируем ширину в px\n",
        "    height=500,# фиксируем высоту в px\n",
        "    margin=dict(\n",
        "      r=30, #задаем отступ в 30 px справа для всего холста\n",
        "      b=60, # задаем отступ в 60 px снизу для всего холста\n",
        "      t=100,\n",
        "      l=100\n",
        "    ),\n",
        "    legend=dict(# играемся с параметрами легенды\n",
        "        borderwidth = .5,# ширина рамки в полпикселя\n",
        "        bordercolor = '#cbd7de',# цвет рамки\n",
        "        bgcolor = '#f2faff',# цвет фона\n",
        "        orientation=\"h\", # показать сверху\n",
        "        yanchor=\"bottom\",# вертикальное выравнивание по нижней части легенды относительно холста\n",
        "        y=1.01, # сдвигаем на 1% выше, чтобы не сливалась нижняя граница рамки легенды с графиком\n",
        "        xanchor=\"right\", # выравнивание блока легенды по правому краю\n",
        "        x=1, # никаких сдвигов не надо, будет на уровне с графиком по правому краю\n",
        "        title_text=\"\", # убираем title для легенды, в данном случае понятно без лишних текстов\n",
        "    ),     \n",
        "    yaxis=dict(\n",
        "        titlefont=dict(size=12),  # ее размер \n",
        "        title_text='Отношение',\n",
        "        range = [0,20]\n",
        "    ),\n",
        "    xaxis=dict(\n",
        "        title_text = ''\n",
        "    ), \n",
        "  paper_bgcolor=\"#eaf7ff\",# цвет фона холста\n",
        ")\n",
        "\n",
        "\n",
        "fig.show()"
      ]
    },
    {
      "cell_type": "markdown",
      "id": "11fe5d27",
      "metadata": {},
      "source": [
        "Добавив соотношение количества вакансий к населению, мы видим, что на территории России, восстребованность в специалистах несколько отличается.\n",
        "\n",
        "* Лидерами являются Москва, нижний Новгород и Томск.\n",
        "* Санкт-Петербург, Новосибирск, Казань менее заинтересованы в вакансии DS\n",
        "* Что интересно, в Екатеринбурге интерес в 4 раза ниже чем например в Москве(ТОП) или в 3 раза с предпоследним городом России.\n",
        "* Также в выборку, городов с самым большим предложением вакансий для DS попали Алматы (Казахстан)и Минск(Беларусь). Однако предложения по этим республикам не такое высокое. Скорее всего это может говорить, что HH.RU более Российский ресурс работодатели других стран больше выбирают местные HR агенства. Но это только предположение, чтобы точнее сказать, надо детальнее углубится в этот момент\n"
      ]
    },
    {
      "cell_type": "code",
      "execution_count": null,
      "id": "e39d0ccd",
      "metadata": {},
      "outputs": [],
      "source": [
        "sql_dop_4 = f'''\n",
        "    \n",
        "    WITH DSOnly as (\n",
        "    SELECT\n",
        "      *\n",
        "    FROM public.vacancies as v\n",
        "    WHERE\n",
        "    {where_DS_Only}\n",
        "    )\n",
        "    \n",
        "    SELECT \n",
        "      ds.id\n",
        "      -- разделим строку с ключевыми навыками по символу табуляции,\n",
        "      -- чтобы узнать какие навыки указывают в вакансиях для DS \n",
        "      ,regexp_split_to_table(ds.key_skills, chr(9)) as skill\n",
        "    FROM DSOnly ds\n",
        "       ;\n",
        "  '''\n",
        "\n"
      ]
    },
    {
      "cell_type": "code",
      "execution_count": null,
      "id": "b81885f0",
      "metadata": {},
      "outputs": [
        {
          "data": {
            "text/html": [
              "<div>\n",
              "<style scoped>\n",
              "    .dataframe tbody tr th:only-of-type {\n",
              "        vertical-align: middle;\n",
              "    }\n",
              "\n",
              "    .dataframe tbody tr th {\n",
              "        vertical-align: top;\n",
              "    }\n",
              "\n",
              "    .dataframe thead th {\n",
              "        text-align: right;\n",
              "    }\n",
              "</style>\n",
              "<table border=\"1\" class=\"dataframe\">\n",
              "  <thead>\n",
              "    <tr style=\"text-align: right;\">\n",
              "      <th></th>\n",
              "      <th>set</th>\n",
              "      <th>quantity</th>\n",
              "      <th>%</th>\n",
              "    </tr>\n",
              "  </thead>\n",
              "  <tbody>\n",
              "    <tr>\n",
              "      <th>0</th>\n",
              "      <td>[Python]</td>\n",
              "      <td>91</td>\n",
              "      <td>21.02</td>\n",
              "    </tr>\n",
              "    <tr>\n",
              "      <th>1</th>\n",
              "      <td>[Python, SQL]</td>\n",
              "      <td>63</td>\n",
              "      <td>14.55</td>\n",
              "    </tr>\n",
              "    <tr>\n",
              "      <th>2</th>\n",
              "      <td>[Machine Learning, Python]</td>\n",
              "      <td>56</td>\n",
              "      <td>12.93</td>\n",
              "    </tr>\n",
              "    <tr>\n",
              "      <th>3</th>\n",
              "      <td>[]</td>\n",
              "      <td>40</td>\n",
              "      <td>9.24</td>\n",
              "    </tr>\n",
              "    <tr>\n",
              "      <th>4</th>\n",
              "      <td>[Python, SQL, Математическая статистика]</td>\n",
              "      <td>31</td>\n",
              "      <td>7.16</td>\n",
              "    </tr>\n",
              "    <tr>\n",
              "      <th>5</th>\n",
              "      <td>[Machine Learning, Python, SQL]</td>\n",
              "      <td>29</td>\n",
              "      <td>6.70</td>\n",
              "    </tr>\n",
              "    <tr>\n",
              "      <th>6</th>\n",
              "      <td>[Git, Python, SQL]</td>\n",
              "      <td>27</td>\n",
              "      <td>6.24</td>\n",
              "    </tr>\n",
              "    <tr>\n",
              "      <th>7</th>\n",
              "      <td>[SQL]</td>\n",
              "      <td>24</td>\n",
              "      <td>5.54</td>\n",
              "    </tr>\n",
              "    <tr>\n",
              "      <th>8</th>\n",
              "      <td>[Git, Python]</td>\n",
              "      <td>17</td>\n",
              "      <td>3.93</td>\n",
              "    </tr>\n",
              "    <tr>\n",
              "      <th>9</th>\n",
              "      <td>[Git]</td>\n",
              "      <td>11</td>\n",
              "      <td>2.54</td>\n",
              "    </tr>\n",
              "    <tr>\n",
              "      <th>10</th>\n",
              "      <td>[Machine Learning, Python, SQL, Математическая...</td>\n",
              "      <td>9</td>\n",
              "      <td>2.08</td>\n",
              "    </tr>\n",
              "    <tr>\n",
              "      <th>11</th>\n",
              "      <td>[Python, Математическая статистика]</td>\n",
              "      <td>9</td>\n",
              "      <td>2.08</td>\n",
              "    </tr>\n",
              "    <tr>\n",
              "      <th>12</th>\n",
              "      <td>[Machine Learning, Python, Математическая стат...</td>\n",
              "      <td>5</td>\n",
              "      <td>1.15</td>\n",
              "    </tr>\n",
              "    <tr>\n",
              "      <th>13</th>\n",
              "      <td>[Machine Learning]</td>\n",
              "      <td>5</td>\n",
              "      <td>1.15</td>\n",
              "    </tr>\n",
              "    <tr>\n",
              "      <th>14</th>\n",
              "      <td>[Git, Machine Learning, Python]</td>\n",
              "      <td>4</td>\n",
              "      <td>0.92</td>\n",
              "    </tr>\n",
              "    <tr>\n",
              "      <th>15</th>\n",
              "      <td>[Git, Machine Learning, Python, SQL]</td>\n",
              "      <td>2</td>\n",
              "      <td>0.46</td>\n",
              "    </tr>\n",
              "    <tr>\n",
              "      <th>16</th>\n",
              "      <td>[Git, Python, SQL, Математическая статистика]</td>\n",
              "      <td>2</td>\n",
              "      <td>0.46</td>\n",
              "    </tr>\n",
              "    <tr>\n",
              "      <th>17</th>\n",
              "      <td>[Git, Machine Learning, Python, Математическая...</td>\n",
              "      <td>2</td>\n",
              "      <td>0.46</td>\n",
              "    </tr>\n",
              "    <tr>\n",
              "      <th>18</th>\n",
              "      <td>[SQL, Математическая статистика]</td>\n",
              "      <td>2</td>\n",
              "      <td>0.46</td>\n",
              "    </tr>\n",
              "    <tr>\n",
              "      <th>19</th>\n",
              "      <td>[Git, Python, Математическая статистика]</td>\n",
              "      <td>1</td>\n",
              "      <td>0.23</td>\n",
              "    </tr>\n",
              "    <tr>\n",
              "      <th>20</th>\n",
              "      <td>[Machine Learning, SQL]</td>\n",
              "      <td>1</td>\n",
              "      <td>0.23</td>\n",
              "    </tr>\n",
              "    <tr>\n",
              "      <th>21</th>\n",
              "      <td>[Machine Learning, SQL, Математическая статист...</td>\n",
              "      <td>1</td>\n",
              "      <td>0.23</td>\n",
              "    </tr>\n",
              "    <tr>\n",
              "      <th>22</th>\n",
              "      <td>[Математическая статистика]</td>\n",
              "      <td>1</td>\n",
              "      <td>0.23</td>\n",
              "    </tr>\n",
              "  </tbody>\n",
              "</table>\n",
              "</div>"
            ],
            "text/plain": [
              "                                                  set  quantity      %\n",
              "0                                            [Python]        91  21.02\n",
              "1                                       [Python, SQL]        63  14.55\n",
              "2                          [Machine Learning, Python]        56  12.93\n",
              "3                                                  []        40   9.24\n",
              "4            [Python, SQL, Математическая статистика]        31   7.16\n",
              "5                     [Machine Learning, Python, SQL]        29   6.70\n",
              "6                                  [Git, Python, SQL]        27   6.24\n",
              "7                                               [SQL]        24   5.54\n",
              "8                                       [Git, Python]        17   3.93\n",
              "9                                               [Git]        11   2.54\n",
              "10  [Machine Learning, Python, SQL, Математическая...         9   2.08\n",
              "11                [Python, Математическая статистика]         9   2.08\n",
              "12  [Machine Learning, Python, Математическая стат...         5   1.15\n",
              "13                                 [Machine Learning]         5   1.15\n",
              "14                    [Git, Machine Learning, Python]         4   0.92\n",
              "15               [Git, Machine Learning, Python, SQL]         2   0.46\n",
              "16      [Git, Python, SQL, Математическая статистика]         2   0.46\n",
              "17  [Git, Machine Learning, Python, Математическая...         2   0.46\n",
              "18                   [SQL, Математическая статистика]         2   0.46\n",
              "19           [Git, Python, Математическая статистика]         1   0.23\n",
              "20                            [Machine Learning, SQL]         1   0.23\n",
              "21  [Machine Learning, SQL, Математическая статист...         1   0.23\n",
              "22                        [Математическая статистика]         1   0.23"
            ]
          },
          "execution_count": 835,
          "metadata": {},
          "output_type": "execute_result"
        }
      ],
      "source": [
        "# Тут выйдем за рамки только SQL\n",
        "data_skill_df = sqlExecution(sql_dop_4)\n",
        "# Делаем pivot по вакансии и навыку\n",
        "data_skill_pivot = pd.\\\n",
        "  pivot_table(data_skill_df, index=['id'], columns= 'skill', \\\n",
        "  fill_value=0, aggfunc={'skill':'count'}).reset_index()\n",
        "  \n",
        "# превращаем в 1 DataFrame без лишних Axis\n",
        "\n",
        "data_skill_pivot = pd.concat([data_skill_pivot.id,data_skill_pivot.skill],axis=1) \n",
        "\n",
        "# Из полученного DF во втором дополнительном исследовании выбираем ТОП5 \n",
        "# навыков для DS специалистов и приводим их к типу list\n",
        "tpSkill = list(topSkill.skill.head(5))\n",
        "\n",
        "# напишем простенькую функцию, которая будет для входящей строки из DataFrame вычислять\n",
        "# какие навыки указаны и проверять какие из них в ТОП5, если да, то добавлять в list на отправку\n",
        "# Так мы получим представление о популярном наборе навыков для DS специалиста\n",
        "def make_list(row):\n",
        "  tp = row.to_numpy().nonzero()[0]\n",
        "  return sorted(list(\n",
        "    (\n",
        "        set(row[tp[1:]].keys()))\n",
        "      & set(tpSkill)\n",
        "    )              \n",
        "  )\n",
        "# Вводим новый признак, где находим только навыки из ТОП20 навыков(отсортированные)\n",
        "data_skill_pivot['topSkills'] = data_skill_pivot.apply(make_list, axis = 1)\n",
        "# Выводим Сочетания навыков\n",
        "finalTable = pd.concat([data_skill_pivot.topSkills.value_counts(),\\\n",
        "        round(data_skill_pivot.topSkills.value_counts(normalize=True)*100,2)],\\\n",
        "        axis=1).\\\n",
        "        reset_index().\\\n",
        "        rename(columns={'index':'set','topSkills':'quantity','topSkills':'%'})\n",
        "finalTable.columns = ['set','quantity','%']\n",
        "finalTable"
      ]
    },
    {
      "cell_type": "markdown",
      "id": "575771f9",
      "metadata": {},
      "source": [
        "Данным исследованием мы узнали наиболее частые сочетания требуемых навыков для ТОП5 встречаемых навыков.\n",
        "Тут правильно было бы некоторые навыки категоризировать, (но уже често надоело ) и думаю для текущего проекта хватит), имею ввиду такие навыки, как ML и Machine Learning и т.д., что считается одним навыком.\n",
        "\n",
        "Самым популярным является сочетание Python с навыками не попавшими в TOP5 и составляет 21%\n",
        "* Вторым по популярности идет Python вместе c SQL - 14.5%\n",
        "* Третьим по популярности идет Python вместе c Machine Learning - 14.5%\n",
        "* На 4-ом месте вакансии, которые не требуют ни одного из TOP5 навыков\n",
        "* На 6 месте Machine Learning, Python, SQL с 6.7 %\n",
        "\n",
        "В принципе, данный расклад доказывает выводы сделаные в дополнительных условиях под номером 2\n",
        "и делает это несколько в ином разрезе, где мы уже четче видит основные сочетания навыков, необходмые в большинстве вакансий.\n",
        "\n",
        "Учитывая что работодатель указывает не все требования, можем считать что самым распространенным требованием является сочетание\n",
        "* SQL, Python, ML, Мат Статистика, Git\n",
        "\n",
        "Людям с такими навыками будет проще найти работу по специальности DS\n",
        "\n",
        "Также было бы интересно изучить 4-е место, где нет ни одного навыка из ТОП5 навыков. Возможно это требования более специфических требований и возможно более денежные вакансии.\n",
        "\n",
        "\n"
      ]
    }
  ],
  "metadata": {
    "colab": {
      "collapsed_sections": [
        "8d62a9f3-f64e-4fe7-bdac-c4dffa16155e"
      ],
      "provenance": []
    },
    "kernelspec": {
      "display_name": "Python 3.10.4 64-bit",
      "language": "python",
      "name": "python3"
    },
    "language_info": {
      "codemirror_mode": {
        "name": "ipython",
        "version": 3
      },
      "file_extension": ".py",
      "mimetype": "text/x-python",
      "name": "python",
      "nbconvert_exporter": "python",
      "pygments_lexer": "ipython3",
      "version": "3.10.4"
    },
    "vscode": {
      "interpreter": {
        "hash": "26de051ba29f2982a8de78e945f0abaf191376122a1563185a90213a26c5da77"
      }
    }
  },
  "nbformat": 4,
  "nbformat_minor": 5
}
